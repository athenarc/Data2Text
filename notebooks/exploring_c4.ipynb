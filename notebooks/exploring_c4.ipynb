{
 "cells": [
  {
   "cell_type": "markdown",
   "id": "cf93a1cb-3977-47ac-a657-44d4e2498b36",
   "metadata": {},
   "source": [
    "# Exploring C4\n",
    "\n",
    "C4 is a massive dataset used in pre-training T5. In our pre-training setting we only use it as a regularizer so as the model does not forget to understand natural language.\n",
    "\n",
    "Download link: https://huggingface.co/datasets/allenai/c4/tree/main"
   ]
  },
  {
   "cell_type": "code",
   "execution_count": 5,
   "id": "c6ec1fc8-d899-4d0c-b0ee-3caa550ea648",
   "metadata": {},
   "outputs": [],
   "source": [
    "import pandas as pd\n",
    "import json\n",
    "import random\n",
    "\n",
    "from tqdm.notebook import tqdm\n",
    "from sentence_splitter import split_text_into_sentences"
   ]
  },
  {
   "cell_type": "markdown",
   "id": "630d09e1-23ef-422c-a3b7-1183a58be18f",
   "metadata": {},
   "source": [
    "## Reading"
   ]
  },
  {
   "cell_type": "code",
   "execution_count": 2,
   "id": "d1b422ed-959a-4c07-892e-8ee0815121d6",
   "metadata": {},
   "outputs": [],
   "source": [
    "with open('../storage/datasets/c4/c4_data_original.json') as f:\n",
    "    c4_original = [json.loads(line)['text'] for line in f]"
   ]
  },
  {
   "cell_type": "markdown",
   "id": "3694a98e-a5f1-47a2-83a4-f071cc876417",
   "metadata": {},
   "source": [
    "## Processing\n",
    "\n",
    "* Removing newlines\n",
    "* Sentence splitting\n",
    "* Shuffling"
   ]
  },
  {
   "cell_type": "code",
   "execution_count": 3,
   "id": "a569fb7a-2b70-4587-8a8b-8d7f4b9340fb",
   "metadata": {},
   "outputs": [
    {
     "data": {
      "application/vnd.jupyter.widget-view+json": {
       "model_id": "ea15805f95ac4157bdc381480df5c6ec",
       "version_major": 2,
       "version_minor": 0
      },
      "text/plain": [
       "  0%|          | 0/356317 [00:00<?, ?it/s]"
      ]
     },
     "metadata": {},
     "output_type": "display_data"
    }
   ],
   "source": [
    "# Remove newlines\n",
    "c4 = [text.replace('\\n', ' ') for text in c4_original]\n",
    "\n",
    "# Sentence split\n",
    "c4_sentences = []\n",
    "for text in tqdm(c4):\n",
    "    sents = split_text_into_sentences(text, language='en')\n",
    "    c4_sentences.extend(sents)\n",
    "\n",
    "random.shuffle(c4_sentences)\n",
    "\n",
    "del c4"
   ]
  },
  {
   "cell_type": "markdown",
   "id": "5b062178-e287-4133-9c00-02a7822fd340",
   "metadata": {},
   "source": [
    "## Storing"
   ]
  },
  {
   "cell_type": "code",
   "execution_count": null,
   "id": "b95a3ac9-3461-4f04-bec2-3c297a421119",
   "metadata": {},
   "outputs": [],
   "source": []
  }
 ],
 "metadata": {
  "kernelspec": {
   "display_name": "Python [conda env:Data2Text]",
   "language": "python",
   "name": "conda-env-Data2Text-py"
  },
  "language_info": {
   "codemirror_mode": {
    "name": "ipython",
    "version": 3
   },
   "file_extension": ".py",
   "mimetype": "text/x-python",
   "name": "python",
   "nbconvert_exporter": "python",
   "pygments_lexer": "ipython3",
   "version": "3.8.12"
  }
 },
 "nbformat": 4,
 "nbformat_minor": 5
}
