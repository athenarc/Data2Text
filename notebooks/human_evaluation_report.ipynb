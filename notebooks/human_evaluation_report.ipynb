{
 "cells": [
  {
   "cell_type": "markdown",
   "id": "98897af6-0739-47c8-a941-79fa02ed8fa0",
   "metadata": {},
   "source": [
    "# Human Evaluation\n",
    "\n",
    "In this notebook we focus on parsing, aggregating and forming useful insights on the human evaluation output."
   ]
  },
  {
   "cell_type": "code",
   "execution_count": 11,
   "id": "771e56fe-d487-4ad9-8dd4-1370c869d828",
   "metadata": {},
   "outputs": [],
   "source": [
    "import json\n",
    "import matplotlib.pyplot as plt\n",
    "import seaborn as sns\n",
    "from collections import Counter\n",
    "\n",
    "sns.set_style('darkgrid') # darkgrid, white grid, dark, white and ticks\n",
    "plt.rc('axes', titlesize=18)     # fontsize of the axes title\n",
    "plt.rc('axes', labelsize=14)    # fontsize of the x and y labels\n",
    "plt.rc('xtick', labelsize=13)    # fontsize of the tick labels\n",
    "plt.rc('ytick', labelsize=13)    # fontsize of the tick labels\n",
    "plt.rc('legend', fontsize=13)    # legend fontsize\n",
    "plt.rc('font', size=13)          # controls default text sizes\n",
    "sns.set_palette(\"deep\")"
   ]
  },
  {
   "cell_type": "code",
   "execution_count": 3,
   "id": "032135f8-1e87-47a0-985a-cfc119394e55",
   "metadata": {},
   "outputs": [],
   "source": [
    "EVALUATED_PATH = \"../storage/results/human_evaluation/human_eval_test.json\"\n",
    "\n",
    "with open(EVALUATED_PATH) as f:\n",
    "    evaluations = json.load(f)"
   ]
  },
  {
   "cell_type": "markdown",
   "id": "fbd98735-3429-40ca-8446-957e3a30dbfb",
   "metadata": {},
   "source": [
    "## Count per category"
   ]
  },
  {
   "cell_type": "code",
   "execution_count": 10,
   "id": "53eb8952-5861-41d6-9e45-02e96f10dc45",
   "metadata": {},
   "outputs": [],
   "source": [
    "evaluation_choices = [evaluation['evaluation'].split(',')[0] for evaluation in evaluations]\n",
    "summed_choices = Counter(evaluation_choices)"
   ]
  },
  {
   "cell_type": "code",
   "execution_count": 17,
   "id": "d014a355-d8e2-4821-a6cf-7f794e7c9fdc",
   "metadata": {},
   "outputs": [
    {
     "data": {
      "image/png": "[encoded data removed]",
      "text/plain": [
       "<Figure size 720x360 with 1 Axes>"
      ]
     },
     "metadata": {},
     "output_type": "display_data"
    }
   ],
   "source": [
    "plt.figure(figsize=(10,5))\n",
    "\n",
    "plt.bar(summed_choices.keys(), summed_choices.values())\n",
    "plt.title(\"Count of each evaluation.\")\n",
    "plt.show()"
   ]
  },
  {
   "cell_type": "markdown",
   "id": "212e84ef-0d74-44d4-a76c-9f2eb87b7a19",
   "metadata": {},
   "source": [
    "## \"Other\" choice exploration"
   ]
  },
  {
   "cell_type": "code",
   "execution_count": 21,
   "id": "ab57c3b3-50e7-4dca-879d-257d1a8cd5f1",
   "metadata": {},
   "outputs": [
    {
     "data": {
      "text/plain": [
       "['dfdsf']"
      ]
     },
     "execution_count": 21,
     "metadata": {},
     "output_type": "execute_result"
    }
   ],
   "source": [
    "other_explanations = []\n",
    "\n",
    "for evaluation in evaluations:\n",
    "    explanation = evaluation['evaluation'].split(',')\n",
    "    if explanation[0] == \"Other\":\n",
    "        other_explanations.append(explanation[1].lstrip())\n",
    "        \n",
    "other_explanations"
   ]
  }
 ],
 "metadata": {
  "kernelspec": {
   "display_name": "Python [conda env:Data2Text]",
   "language": "python",
   "name": "conda-env-Data2Text-py"
  },
  "language_info": {
   "codemirror_mode": {
    "name": "ipython",
    "version": 3
   },
   "file_extension": ".py",
   "mimetype": "text/x-python",
   "name": "python",
   "nbconvert_exporter": "python",
   "pygments_lexer": "ipython3",
   "version": "3.8.11"
  }
 },
 "nbformat": 4,
 "nbformat_minor": 5
}
