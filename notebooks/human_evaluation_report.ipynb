{
 "cells": [
  {
   "cell_type": "markdown",
   "id": "98897af6-0739-47c8-a941-79fa02ed8fa0",
   "metadata": {},
   "source": [
    "# Human Evaluation\n",
    "\n",
    "In this notebook we focus on parsing, aggregating and forming useful insights on the human evaluation output."
   ]
  },
  {
   "cell_type": "code",
   "execution_count": 54,
   "id": "771e56fe-d487-4ad9-8dd4-1370c869d828",
   "metadata": {},
   "outputs": [],
   "source": [
    "import json\n",
    "import glob\n",
    "import matplotlib.pyplot as plt\n",
    "import seaborn as sns\n",
    "import pandas as pd\n",
    "import numpy as np\n",
    "from collections import Counter\n",
    "\n",
    "sns.set_style('darkgrid') # darkgrid, white grid, dark, white and ticks\n",
    "plt.rc('axes', titlesize=18)     # fontsize of the axes title\n",
    "plt.rc('axes', labelsize=14)    # fontsize of the x and y labels\n",
    "plt.rc('xtick', labelsize=13)    # fontsize of the tick labels\n",
    "plt.rc('ytick', labelsize=13)    # fontsize of the tick labels\n",
    "plt.rc('legend', fontsize=13)    # legend fontsize\n",
    "plt.rc('font', size=13)          # controls default text sizes\n",
    "sns.set_palette(\"deep\")"
   ]
  },
  {
   "cell_type": "code",
   "execution_count": 5,
   "id": "032135f8-1e87-47a0-985a-cfc119394e55",
   "metadata": {},
   "outputs": [],
   "source": [
    "EVALUATED_PATH = \"../storage/results/human_evaluation/cordis/out/curated_no_injection_cordis_with_query_t5_small_full_totto.json\"\n",
    "\n",
    "with open(EVALUATED_PATH) as f:\n",
    "    evaluations = json.load(f)"
   ]
  },
  {
   "cell_type": "markdown",
   "id": "fbd98735-3429-40ca-8446-957e3a30dbfb",
   "metadata": {},
   "source": [
    "## Count per category"
   ]
  },
  {
   "cell_type": "code",
   "execution_count": 6,
   "id": "53eb8952-5861-41d6-9e45-02e96f10dc45",
   "metadata": {},
   "outputs": [
    {
     "name": "stdout",
     "output_type": "stream",
     "text": [
      "Counter({'Omission': 38, 'Erroneous': 32, 'Correct': 10, 'Hallucination': 3})\n",
      "{'Omission': 0.6785714285714286, 'Erroneous': 0.5714285714285714, 'Correct': 0.17857142857142858, 'Hallucination': 0.05357142857142857}\n"
     ]
    }
   ],
   "source": [
    "evaluation_choices = [evaluation['evaluation'].split(',') for evaluation in evaluations]\n",
    "flattened_choices = [flattened_evaluation for evaluation in evaluation_choices for flattened_evaluation in evaluation]\n",
    "\n",
    "summed_choices = Counter(flattened_choices)\n",
    "print(summed_choices)\n",
    "\n",
    "percentage_choices = {key: val / len(evaluation_choices) for key, val in summed_choices.items()}\n",
    "print(percentage_choices)"
   ]
  },
  {
   "cell_type": "code",
   "execution_count": 5,
   "id": "d014a355-d8e2-4821-a6cf-7f794e7c9fdc",
   "metadata": {},
   "outputs": [
    {
     "data": {
      "image/png": "[encoded data removed]",
      "text/plain": [
       "<Figure size 720x360 with 1 Axes>"
      ]
     },
     "metadata": {},
     "output_type": "display_data"
    }
   ],
   "source": [
    "plt.figure(figsize=(10,5))\n",
    "\n",
    "plt.bar(summed_choices.keys(), summed_choices.values())\n",
    "plt.title(\"Count of each evaluation.\")\n",
    "plt.show()"
   ]
  },
  {
   "cell_type": "markdown",
   "id": "8aa11a92-ca30-40be-a3d8-a4dc3b5d3d72",
   "metadata": {},
   "source": [
    "## Inference examples"
   ]
  },
  {
   "cell_type": "code",
   "execution_count": null,
   "id": "6cd29320-0131-48d7-a42d-3a221341e8b9",
   "metadata": {},
   "outputs": [],
   "source": [
    "category = \"Erroneous\"\n",
    "\n",
    "for evaluation in evaluations:\n",
    "    if category in evaluation['evaluation']:\n",
    "        print(\"-\"*100)\n",
    "        print(f\"Target: {evaluation['target']}\\n\")\n",
    "        print(f\"Predicted: {evaluation['predicted']}\\n\")\n",
    "        print(f\"Source: {evaluation['source']}\\n\")\n",
    "        print(\"-\"*100)"
   ]
  },
  {
   "cell_type": "markdown",
   "id": "f77a7ddb-8ebc-4cc6-ad29-35c7107e3be0",
   "metadata": {},
   "source": [
    "## Detailed Human Evaluation"
   ]
  },
  {
   "cell_type": "markdown",
   "id": "c2983988-1388-47d5-93a0-d359523e3e30",
   "metadata": {},
   "source": [
    "### Reading the files"
   ]
  },
  {
   "cell_type": "code",
   "execution_count": 38,
   "id": "62b02298-602e-40cc-b689-1d0c92038b52",
   "metadata": {},
   "outputs": [],
   "source": [
    "evaluations_dir = 'storage/results/human_evaluation/qr2t/evaluated/07_29_2022__14_01_44'\n",
    "\n",
    "all_annotations = []\n",
    "for file in glob.glob(f\"../{evaluations_dir}/*.json\"):\n",
    "    with open(file) as f:\n",
    "        evaluations = json.load(f)\n",
    "    annotator = file.split('/')[-1][:-5]\n",
    "\n",
    "    for evaluation in evaluations:\n",
    "        eval_choices = evaluation['annotations'][0]['result']\n",
    "        \n",
    "        def find_ind_of_attribute(attribute):\n",
    "            for ind, val in enumerate(eval_choices):\n",
    "                if val['from_name'] == attribute:\n",
    "                    return ind\n",
    "            return -1\n",
    "        \n",
    "        try:\n",
    "            eval_info = [\n",
    "                evaluation['data']['id'],\n",
    "                evaluation['data']['model'],\n",
    "                annotator,\n",
    "                eval_choices[find_ind_of_attribute('correctness')]['value']['choices'][0],\n",
    "                eval_choices[find_ind_of_attribute('fluency')]['value']['choices'][0],\n",
    "                eval_choices[find_ind_of_attribute('syntax_errors')]['value']['number'],\n",
    "                eval_choices[find_ind_of_attribute('value_usage_error')]['value']['number'],\n",
    "                eval_choices[find_ind_of_attribute('omisions')]['value']['number'],\n",
    "                eval_choices[find_ind_of_attribute('altered_values')]['value']['number'],\n",
    "                eval_choices[find_ind_of_attribute('added_attributes')]['value']['number'],\n",
    "                eval_choices[find_ind_of_attribute('other')]['value']['number'],\n",
    "                eval_choices[find_ind_of_attribute('comment')]['value']['text'][0] if find_ind_of_attribute('comment') != -1 else \"\"            \n",
    "            ]\n",
    "        except KeyError:\n",
    "            print(annotator, evaluation)\n",
    "            \n",
    "        all_annotations.append(eval_info)"
   ]
  },
  {
   "cell_type": "code",
   "execution_count": 43,
   "id": "3fc33973-383e-4ad0-b5e1-fe237841a2cd",
   "metadata": {},
   "outputs": [
    {
     "data": {
      "text/html": [
       "<div>\n",
       "<style scoped>\n",
       "    .dataframe tbody tr th:only-of-type {\n",
       "        vertical-align: middle;\n",
       "    }\n",
       "\n",
       "    .dataframe tbody tr th {\n",
       "        vertical-align: top;\n",
       "    }\n",
       "\n",
       "    .dataframe thead th {\n",
       "        text-align: right;\n",
       "    }\n",
       "</style>\n",
       "<table border=\"1\" class=\"dataframe\">\n",
       "  <thead>\n",
       "    <tr style=\"text-align: right;\">\n",
       "      <th></th>\n",
       "      <th>id</th>\n",
       "      <th>model</th>\n",
       "      <th>annotator</th>\n",
       "      <th>correctness</th>\n",
       "      <th>fluency</th>\n",
       "      <th>syntax_errors</th>\n",
       "      <th>value_usage_error</th>\n",
       "      <th>omisions</th>\n",
       "      <th>altered_values</th>\n",
       "      <th>added_attributes</th>\n",
       "      <th>other</th>\n",
       "      <th>comment</th>\n",
       "    </tr>\n",
       "  </thead>\n",
       "  <tbody>\n",
       "    <tr>\n",
       "      <th>0</th>\n",
       "      <td>8</td>\n",
       "      <td>totto_qr2t</td>\n",
       "      <td>Anna</td>\n",
       "      <td>Correct</td>\n",
       "      <td>Adequate</td>\n",
       "      <td>0</td>\n",
       "      <td>0</td>\n",
       "      <td>0</td>\n",
       "      <td>0</td>\n",
       "      <td>0</td>\n",
       "      <td>0</td>\n",
       "      <td></td>\n",
       "    </tr>\n",
       "    <tr>\n",
       "      <th>1</th>\n",
       "      <td>98</td>\n",
       "      <td>aux_totto_qr2t</td>\n",
       "      <td>Anna</td>\n",
       "      <td>Correct</td>\n",
       "      <td>Not fluent</td>\n",
       "      <td>0</td>\n",
       "      <td>0</td>\n",
       "      <td>0</td>\n",
       "      <td>0</td>\n",
       "      <td>0</td>\n",
       "      <td>0</td>\n",
       "      <td></td>\n",
       "    </tr>\n",
       "    <tr>\n",
       "      <th>2</th>\n",
       "      <td>128</td>\n",
       "      <td>pre_totto_qr2t</td>\n",
       "      <td>Anna</td>\n",
       "      <td>Incorrect</td>\n",
       "      <td>Perfect</td>\n",
       "      <td>0</td>\n",
       "      <td>1</td>\n",
       "      <td>0</td>\n",
       "      <td>0</td>\n",
       "      <td>1</td>\n",
       "      <td>0</td>\n",
       "      <td></td>\n",
       "    </tr>\n",
       "    <tr>\n",
       "      <th>3</th>\n",
       "      <td>296</td>\n",
       "      <td>pre_totto_qr2t</td>\n",
       "      <td>Anna</td>\n",
       "      <td>Incorrect</td>\n",
       "      <td>Not fluent</td>\n",
       "      <td>1</td>\n",
       "      <td>3</td>\n",
       "      <td>0</td>\n",
       "      <td>0</td>\n",
       "      <td>0</td>\n",
       "      <td>0</td>\n",
       "      <td></td>\n",
       "    </tr>\n",
       "    <tr>\n",
       "      <th>4</th>\n",
       "      <td>307</td>\n",
       "      <td>aux_totto_qr2t</td>\n",
       "      <td>Anna</td>\n",
       "      <td>Correct</td>\n",
       "      <td>Perfect</td>\n",
       "      <td>0</td>\n",
       "      <td>0</td>\n",
       "      <td>0</td>\n",
       "      <td>0</td>\n",
       "      <td>0</td>\n",
       "      <td>0</td>\n",
       "      <td></td>\n",
       "    </tr>\n",
       "    <tr>\n",
       "      <th>...</th>\n",
       "      <td>...</td>\n",
       "      <td>...</td>\n",
       "      <td>...</td>\n",
       "      <td>...</td>\n",
       "      <td>...</td>\n",
       "      <td>...</td>\n",
       "      <td>...</td>\n",
       "      <td>...</td>\n",
       "      <td>...</td>\n",
       "      <td>...</td>\n",
       "      <td>...</td>\n",
       "      <td>...</td>\n",
       "    </tr>\n",
       "    <tr>\n",
       "      <th>344</th>\n",
       "      <td>95</td>\n",
       "      <td>qr2t</td>\n",
       "      <td>Katerina</td>\n",
       "      <td>Correct</td>\n",
       "      <td>Perfect</td>\n",
       "      <td>0</td>\n",
       "      <td>0</td>\n",
       "      <td>0</td>\n",
       "      <td>0</td>\n",
       "      <td>0</td>\n",
       "      <td>0</td>\n",
       "      <td></td>\n",
       "    </tr>\n",
       "    <tr>\n",
       "      <th>345</th>\n",
       "      <td>148</td>\n",
       "      <td>totto_qr2t</td>\n",
       "      <td>Katerina</td>\n",
       "      <td>Correct</td>\n",
       "      <td>Perfect</td>\n",
       "      <td>0</td>\n",
       "      <td>0</td>\n",
       "      <td>0</td>\n",
       "      <td>0</td>\n",
       "      <td>0</td>\n",
       "      <td>0</td>\n",
       "      <td></td>\n",
       "    </tr>\n",
       "    <tr>\n",
       "      <th>346</th>\n",
       "      <td>8</td>\n",
       "      <td>aux_totto_qr2t</td>\n",
       "      <td>Katerina</td>\n",
       "      <td>Incorrect</td>\n",
       "      <td>Perfect</td>\n",
       "      <td>0</td>\n",
       "      <td>0</td>\n",
       "      <td>0</td>\n",
       "      <td>1</td>\n",
       "      <td>0</td>\n",
       "      <td>0</td>\n",
       "      <td></td>\n",
       "    </tr>\n",
       "    <tr>\n",
       "      <th>347</th>\n",
       "      <td>218</td>\n",
       "      <td>qr2t</td>\n",
       "      <td>Katerina</td>\n",
       "      <td>Correct</td>\n",
       "      <td>Perfect</td>\n",
       "      <td>0</td>\n",
       "      <td>0</td>\n",
       "      <td>0</td>\n",
       "      <td>0</td>\n",
       "      <td>0</td>\n",
       "      <td>0</td>\n",
       "      <td></td>\n",
       "    </tr>\n",
       "    <tr>\n",
       "      <th>348</th>\n",
       "      <td>54</td>\n",
       "      <td>aux_totto_qr2t</td>\n",
       "      <td>Katerina</td>\n",
       "      <td>Correct</td>\n",
       "      <td>Adequate</td>\n",
       "      <td>0</td>\n",
       "      <td>0</td>\n",
       "      <td>0</td>\n",
       "      <td>0</td>\n",
       "      <td>0</td>\n",
       "      <td>0</td>\n",
       "      <td></td>\n",
       "    </tr>\n",
       "  </tbody>\n",
       "</table>\n",
       "<p>349 rows × 12 columns</p>\n",
       "</div>"
      ],
      "text/plain": [
       "      id           model annotator correctness     fluency  syntax_errors  \\\n",
       "0      8      totto_qr2t      Anna     Correct    Adequate              0   \n",
       "1     98  aux_totto_qr2t      Anna     Correct  Not fluent              0   \n",
       "2    128  pre_totto_qr2t      Anna   Incorrect     Perfect              0   \n",
       "3    296  pre_totto_qr2t      Anna   Incorrect  Not fluent              1   \n",
       "4    307  aux_totto_qr2t      Anna     Correct     Perfect              0   \n",
       "..   ...             ...       ...         ...         ...            ...   \n",
       "344   95            qr2t  Katerina     Correct     Perfect              0   \n",
       "345  148      totto_qr2t  Katerina     Correct     Perfect              0   \n",
       "346    8  aux_totto_qr2t  Katerina   Incorrect     Perfect              0   \n",
       "347  218            qr2t  Katerina     Correct     Perfect              0   \n",
       "348   54  aux_totto_qr2t  Katerina     Correct    Adequate              0   \n",
       "\n",
       "     value_usage_error  omisions  altered_values  added_attributes  other  \\\n",
       "0                    0         0               0                 0      0   \n",
       "1                    0         0               0                 0      0   \n",
       "2                    1         0               0                 1      0   \n",
       "3                    3         0               0                 0      0   \n",
       "4                    0         0               0                 0      0   \n",
       "..                 ...       ...             ...               ...    ...   \n",
       "344                  0         0               0                 0      0   \n",
       "345                  0         0               0                 0      0   \n",
       "346                  0         0               1                 0      0   \n",
       "347                  0         0               0                 0      0   \n",
       "348                  0         0               0                 0      0   \n",
       "\n",
       "    comment  \n",
       "0            \n",
       "1            \n",
       "2            \n",
       "3            \n",
       "4            \n",
       "..      ...  \n",
       "344          \n",
       "345          \n",
       "346          \n",
       "347          \n",
       "348          \n",
       "\n",
       "[349 rows x 12 columns]"
      ]
     },
     "metadata": {},
     "output_type": "display_data"
    }
   ],
   "source": [
    "eval_df = pd.DataFrame(all_annotations, columns=['id', 'model', 'annotator', 'correctness', \n",
    "                                                 'fluency', 'syntax_errors', 'value_usage_error', \n",
    "                                                 'omisions', 'altered_values', 'added_attributes',\n",
    "                                                 'other', 'comment'])\n",
    "\n",
    "display(eval_df)"
   ]
  },
  {
   "cell_type": "markdown",
   "id": "80b870b9-b4e4-4ae1-b5c9-7c07fe9f0204",
   "metadata": {},
   "source": [
    "### Correctness of each model"
   ]
  },
  {
   "cell_type": "code",
   "execution_count": 83,
   "id": "3ab65bc5-4bc6-4fe4-9a04-93e358e93505",
   "metadata": {},
   "outputs": [
    {
     "data": {
      "image/png": "[encoded data removed]",
      "text/plain": [
       "<Figure size 1080x720 with 1 Axes>"
      ]
     },
     "metadata": {},
     "output_type": "display_data"
    }
   ],
   "source": [
    "def get_number_of_correct_wrong(model_name, eval_df):\n",
    "    df_model = eval_df.loc[eval_df['model'] == model_name]\n",
    "    \n",
    "    return len(df_model.loc[df_model['correctness'] == 'Correct']), len(df_model.loc[df_model['correctness'] == 'Incorrect'])\n",
    "\n",
    "\n",
    "fig, ax = plt.subplots(figsize=(15,10))\n",
    "\n",
    "models = ['qr2t', 'totto_qr2t', 'pre_totto_qr2t', 'aux_totto_qr2t']\n",
    "current_step = 1\n",
    "\n",
    "for model_name in models:\n",
    "    correct, wrong = get_number_of_correct_wrong(model_name, eval_df)\n",
    "\n",
    "\n",
    "    plt.bar([current_step], [correct], width=0.1, color='tab:green', label=\"Correct\" if model_name == 'qr2t' else None)\n",
    "    plt.bar([current_step + 0.2], [wrong], width=0.1, color='tab:red', label=\"Incorrect\" if model_name == 'qr2t' else None)\n",
    "\n",
    "    current_step += 1\n",
    "\n",
    "plt.xticks(np.arange(1.1, 5.1), fontsize=16)\n",
    "plt.yticks(fontsize=16)\n",
    "ax.set_xticklabels(models)\n",
    "\n",
    "plt.legend(fontsize=22)\n",
    "plt.title('Correctness', fontsize=23)\n",
    "\n",
    "plt.show()"
   ]
  },
  {
   "cell_type": "markdown",
   "id": "cdc46ebd-603e-4ad8-97be-3bb97e3781a1",
   "metadata": {},
   "source": [
    "### Flunecy of each model"
   ]
  },
  {
   "cell_type": "code",
   "execution_count": 80,
   "id": "24d12033-aaa6-4ae9-adf3-e504ba137ba4",
   "metadata": {},
   "outputs": [
    {
     "data": {
      "image/png": "[encoded data removed]",
      "text/plain": [
       "<Figure size 1080x720 with 1 Axes>"
      ]
     },
     "metadata": {},
     "output_type": "display_data"
    }
   ],
   "source": [
    "def get_number_of_perfect_adequate_bad(model_name, eval_df):\n",
    "    df_model = eval_df.loc[eval_df['model'] == model_name]\n",
    "    \n",
    "    return len(df_model.loc[df_model['fluency'] == 'Perfect']), len(df_model.loc[df_model['fluency'] == 'Adequate']), len(df_model.loc[df_model['fluency'] == 'Not fluent'])\n",
    "\n",
    "\n",
    "fig, ax = plt.subplots(figsize=(15,10))\n",
    "\n",
    "models = ['qr2t', 'totto_qr2t', 'pre_totto_qr2t', 'aux_totto_qr2t']\n",
    "current_step = 1\n",
    "\n",
    "for model_name in models:\n",
    "    perfect, adequate, not_fluent = get_number_of_perfect_adequate_bad(model_name, eval_df)\n",
    "\n",
    "    plt.bar([current_step], [perfect], width=0.1, color='tab:green', label=\"Perfect\" if model_name == 'qr2t' else None)\n",
    "    plt.bar([current_step + 0.1], [adequate], width=0.1, color='tab:olive', label=\"Adequate\" if model_name == 'qr2t' else None)\n",
    "    plt.bar([current_step + 0.2], [not_fluent], width=0.1, color='tab:red', label=\"Not fluent\" if model_name == 'qr2t' else None)\n",
    "\n",
    "    current_step += 1\n",
    "\n",
    "plt.xticks(np.arange(1.1, 5.1), fontsize=16)\n",
    "plt.yticks(fontsize=16)\n",
    "ax.set_xticklabels(models)\n",
    "\n",
    "plt.legend(fontsize=22)\n",
    "plt.title('Fluency', fontsize=23)\n",
    "\n",
    "plt.show()"
   ]
  },
  {
   "cell_type": "markdown",
   "id": "b338ae04-b9d9-49cc-afaf-a2a70f24d087",
   "metadata": {},
   "source": [
    "### Winnning Model"
   ]
  },
  {
   "cell_type": "code",
   "execution_count": 114,
   "id": "b91ffb68-18f9-4a7d-9210-9d8ccf20c5bf",
   "metadata": {},
   "outputs": [
    {
     "data": {
      "image/png": "[encoded data removed]",
      "text/plain": [
       "<Figure size 1080x720 with 1 Axes>"
      ]
     },
     "metadata": {},
     "output_type": "display_data"
    }
   ],
   "source": [
    "dfs_per_model = {\n",
    "    'qr2t': eval_df.loc[eval_df['model'] == 'qr2t'],\n",
    "    'totto_qr2t': eval_df.loc[eval_df['model'] == 'totto_qr2t'],\n",
    "    'pre_totto_qr2t': eval_df.loc[eval_df['model'] == 'pre_totto_qr2t'],\n",
    "    'aux_totto_qr2t': eval_df.loc[eval_df['model'] == 'aux_totto_qr2t'],\n",
    "}\n",
    "\n",
    "dfs_correctness_per_model = { key: df.filter(['id', 'correctness']).rename(columns={'correctness': f'{key}'}) for key, df in dfs_per_model.items()}\n",
    "\n",
    "dfs_correctness_per_model['qr2t']\n",
    "\n",
    "df_outer = pd.merge(dfs_correctness_per_model['qr2t'], dfs_correctness_per_model['totto_qr2t'], on='id', how='inner')\n",
    "df_outer = pd.merge(df_outer, dfs_correctness_per_model['pre_totto_qr2t'], on='id', how='inner')\n",
    "df_outer = pd.merge(df_outer, dfs_correctness_per_model['aux_totto_qr2t'], on='id', how='inner').drop(['id'], axis=1)\n",
    "\n",
    "df_outer = df_outer.replace(['Correct', 'Incorrect'], [1, 0])\n",
    "wins = np.sum(df_outer, axis=0)\n",
    "\n",
    "\n",
    "fig, ax = plt.subplots(figsize=(15,10))\n",
    "plt.bar(wins.index, wins)\n",
    "plt.show()"
   ]
  }
 ],
 "metadata": {
  "kernelspec": {
   "display_name": "Python [conda env:Data2Text]",
   "language": "python",
   "name": "conda-env-Data2Text-py"
  },
  "language_info": {
   "codemirror_mode": {
    "name": "ipython",
    "version": 3
   },
   "file_extension": ".py",
   "mimetype": "text/x-python",
   "name": "python",
   "nbconvert_exporter": "python",
   "pygments_lexer": "ipython3",
   "version": "3.8.12"
  }
 },
 "nbformat": 4,
 "nbformat_minor": 5
}
