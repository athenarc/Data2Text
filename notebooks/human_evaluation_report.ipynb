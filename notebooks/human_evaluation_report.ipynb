{
 "cells": [
  {
   "cell_type": "markdown",
   "id": "98897af6-0739-47c8-a941-79fa02ed8fa0",
   "metadata": {},
   "source": [
    "# Human Evaluation\n",
    "\n",
    "In this notebook we focus on parsing, aggregating and forming useful insights on the human evaluation output."
   ]
  },
  {
   "cell_type": "code",
   "execution_count": 13,
   "id": "771e56fe-d487-4ad9-8dd4-1370c869d828",
   "metadata": {},
   "outputs": [],
   "source": [
    "import json\n",
    "import matplotlib.pyplot as plt\n",
    "import seaborn as sns\n",
    "from collections import Counter\n",
    "\n",
    "sns.set_style('darkgrid') # darkgrid, white grid, dark, white and ticks\n",
    "plt.rc('axes', titlesize=18)     # fontsize of the axes title\n",
    "plt.rc('axes', labelsize=14)    # fontsize of the x and y labels\n",
    "plt.rc('xtick', labelsize=13)    # fontsize of the tick labels\n",
    "plt.rc('ytick', labelsize=13)    # fontsize of the tick labels\n",
    "plt.rc('legend', fontsize=13)    # legend fontsize\n",
    "plt.rc('font', size=13)          # controls default text sizes\n",
    "sns.set_palette(\"deep\")"
   ]
  },
  {
   "cell_type": "code",
   "execution_count": 14,
   "id": "032135f8-1e87-47a0-985a-cfc119394e55",
   "metadata": {},
   "outputs": [],
   "source": [
    "EVALUATED_PATH = \"../storage/results/human_evaluation/cordis/out/cordis_with_query_t5_small_full_totto.json\"\n",
    "\n",
    "with open(EVALUATED_PATH) as f:\n",
    "    evaluations = json.load(f)"
   ]
  },
  {
   "cell_type": "markdown",
   "id": "fbd98735-3429-40ca-8446-957e3a30dbfb",
   "metadata": {},
   "source": [
    "## Count per category"
   ]
  },
  {
   "cell_type": "code",
   "execution_count": 15,
   "id": "53eb8952-5861-41d6-9e45-02e96f10dc45",
   "metadata": {},
   "outputs": [
    {
     "name": "stdout",
     "output_type": "stream",
     "text": [
      "Counter({'Erroneous': 26, 'Correct': 17, 'Omission': 10, 'Hallucination': 4})\n"
     ]
    }
   ],
   "source": [
    "evaluation_choices = [evaluation['evaluation'].split(',') for evaluation in evaluations]\n",
    "flattened_choices = [flattened_evaluation for evaluation in evaluation_choices for flattened_evaluation in evaluation]\n",
    "\n",
    "summed_choices = Counter(flattened_choices)\n",
    "print(summed_choices)"
   ]
  },
  {
   "cell_type": "code",
   "execution_count": 16,
   "id": "d014a355-d8e2-4821-a6cf-7f794e7c9fdc",
   "metadata": {},
   "outputs": [
    {
     "data": {
      "image/png": "[encoded data removed]",
      "text/plain": [
       "<Figure size 720x360 with 1 Axes>"
      ]
     },
     "metadata": {},
     "output_type": "display_data"
    }
   ],
   "source": [
    "plt.figure(figsize=(10,5))\n",
    "\n",
    "plt.bar(summed_choices.keys(), summed_choices.values())\n",
    "plt.title(\"Count of each evaluation.\")\n",
    "plt.show()"
   ]
  },
  {
   "cell_type": "markdown",
   "id": "8aa11a92-ca30-40be-a3d8-a4dc3b5d3d72",
   "metadata": {},
   "source": [
    "## Inference examples"
   ]
  },
  {
   "cell_type": "code",
   "execution_count": 25,
   "id": "6cd29320-0131-48d7-a42d-3a221341e8b9",
   "metadata": {},
   "outputs": [
    {
     "name": "stdout",
     "output_type": "stream",
     "text": [
      "----------------------------------------------------------------------------------------------------\n",
      "Target: FlexiSTAT started in 2013 and ended in 2015.\n",
      "Predicted: FlexiSTAT started in 2013 and ended in 2015.\n",
      "Source: <page_title> nan </page_title> <section_title> When were the starting and ending years of teh project with acronym FlexiSTAT?  </section_title> <table> <cell> FlexiSTAT <col_header> acronym </col_header> </cell> <cell> 2013 <col_header> start_year </col_header> </cell> <cell> 2015 <col_header> end_year </col_header> </cell> </table>\n",
      "----------------------------------------------------------------------------------------------------\n",
      "----------------------------------------------------------------------------------------------------\n",
      "Target: The project with acronym GUIDENANO started on 2013.\n",
      "Predicted: In 2013, GUIDENANO was launched.\n",
      "Source: <page_title> projects </page_title> <section_title> When was the starting year of the project with acronym GUIDENANO? </section_title> <table> <cell> GUIDENANO <col_header> acronym </col_header> </cell> <cell> 2013 <col_header> start_year </col_header> </cell> </table>\n",
      "----------------------------------------------------------------------------------------------------\n",
      "----------------------------------------------------------------------------------------------------\n",
      "Target: PE9 is the Universe sciences panel.\n",
      "Predicted: erc_panels have the code \"PE9?\" in the universe sciences.\n",
      "Source: <page_title> erc_panels </page_title> <section_title> Which is the panel with id PE9? </section_title> <table> <cell> PE9 <col_header> code </col_header> </cell> <cell> Universe sciences <col_header> description </col_header> </cell> </table>\n",
      "----------------------------------------------------------------------------------------------------\n",
      "----------------------------------------------------------------------------------------------------\n",
      "Target: The Molecular and Structural Biology and Biochemistry panel has the LS1 code.\n",
      "Predicted: LS1 is Molecular and Structural Biology and Biochemistry.\n",
      "Source: <page_title> erc_panels </page_title> <section_title> What is the description of the panel with code LS1?  </section_title> <table> <cell> LS1 <col_header> code </col_header> </cell> <cell> Molecular and Structural Biology and Biochemistry <col_header> description </col_header> </cell> </table>\n",
      "----------------------------------------------------------------------------------------------------\n",
      "----------------------------------------------------------------------------------------------------\n",
      "Target: AI-SAS is the short name of the project member with name AIRBUS SAS?\n",
      "Predicted: The name AIRBUS SAS? is AI-SAS.\n",
      "Source: <page_title> project_members </page_title> <section_title> What is the short name of the name AIRBUS SAS? </section_title> <table> <cell> AIRBUS SAS <col_header> member_name </col_header> </cell> <cell> AI-SAS <col_header> member_short_name </col_header> </cell> </table>\n",
      "----------------------------------------------------------------------------------------------------\n",
      "----------------------------------------------------------------------------------------------------\n",
      "Target: The porject INFRAVEC had a total cost of 10782699.02 and its homepage is http://www.infravec.eu/.\n",
      "Predicted: INFRAVEC cost a total cost of 10782699.02 (http://www.infravec.eu).\n",
      "Source: <page_title> projects </page_title> <section_title> For the project INFRAVEC which was the total cost and its homepage? </section_title> <table> <cell> INFRAVEC <col_header> acronym </col_header> </cell> <cell> 10782699.02 <col_header> total_cost </col_header> </cell> <cell> http://www.infravec.eu/ <col_header> homepage </col_header> </cell> </table>\n",
      "----------------------------------------------------------------------------------------------------\n",
      "----------------------------------------------------------------------------------------------------\n",
      "Target: The LIF code refers to the Life Sciences subject area.\n",
      "Predicted: Life Sciences (LIF) is one of the subject areas.\n",
      "Source: <page_title> subject_areas </page_title> <section_title> Which subject area title does the LIF code refers to? </section_title> <table> <cell> LIF <col_header> code </col_header> </cell> <cell> Life Sciences <col_header> title </col_header> </cell> </table>\n",
      "----------------------------------------------------------------------------------------------------\n",
      "----------------------------------------------------------------------------------------------------\n",
      "Target: Fabio Sciarrino has the unics_id 1209086.\n",
      "Predicted: Fabio Sciarrino has the unics 1209086?\n",
      "Source: <page_title> people </page_title> <section_title> Who has the unics_id 1209086? </section_title> <table> <cell> 1209086 <col_header> unics_id </col_header> </cell> <cell> Fabio Sciarrino <col_header> full_name </col_header> </cell> </table>\n",
      "----------------------------------------------------------------------------------------------------\n",
      "----------------------------------------------------------------------------------------------------\n",
      "Target: The full name of the acronym ALFRED is ALFRED - Personal Interactive Assistant for Independent Living and Active Ageing.\n",
      "Predicted: ALFRED is a personal interactive assistant for Independent Living and Active Ageing.\n",
      "Source: <page_title> projects </page_title> <section_title> What is the name of teh project with acronym ALFRED? </section_title> <table> <cell> ALFRED <col_header> acronym </col_header> </cell> <cell> ALFRED - Personal Interactive Assistant for Independent Living and Active Ageing <col_header> title </col_header> </cell> </table>\n",
      "----------------------------------------------------------------------------------------------------\n",
      "----------------------------------------------------------------------------------------------------\n",
      "Target: Saarland territory is of the 2016 version.\n",
      "Predicted: In 2016, eu_territorial_units of Saarland were released.\n",
      "Source: <page_title> eu_territorial_units </page_title> <section_title> Which is the available version of the Saarland territory? </section_title> <table> <cell> Saarland <col_header> description </col_header> </cell> <cell> 2016 <col_header> nuts_version </col_header> </cell> </table>\n",
      "----------------------------------------------------------------------------------------------------\n",
      "----------------------------------------------------------------------------------------------------\n",
      "Target: REC represents research organizations.\n",
      "Predicted: The research organisation (REC) uses the code REC.\n",
      "Source: <page_title> activity_types </page_title> <section_title> Which activity type does the code REC represents? </section_title> <table> <cell> Research Organisations <col_header> description </col_header> </cell> <cell> REC <col_header> code </col_header> </cell> </table>\n",
      "----------------------------------------------------------------------------------------------------\n",
      "----------------------------------------------------------------------------------------------------\n",
      "Target: SH is the code of the Social Sciences And Humaniities research domain.\n",
      "Predicted: The social sciences And Humanities (SH) is a research domain in the field of social sciences and Humanities.\n",
      "Source: <page_title> erc_research_domains </page_title> <section_title> Which is the code of the Social Sciences And Humaniities research domain? </section_title> <table> <cell> Social Sciences And Humanities <col_header> description </col_header> </cell> <cell> SH <col_header> code </col_header> </cell> </table>\n",
      "----------------------------------------------------------------------------------------------------\n",
      "----------------------------------------------------------------------------------------------------\n",
      "Target: The programme \"The greening of air transport\" with code AAT-1 has AAT as its parent.\n",
      "Predicted: The greening of air transport (AAT-1) is a programme that has AAT parent.\n",
      "Source: <page_title> programmes </page_title> <section_title> Which is the title and code of a programme that has AAT as parent? </section_title> <table> <cell> AAT <col_header> parent </col_header> </cell> <cell> The greening of air transport <col_header> title </col_header> </cell> <cell> AAT-1 <col_header> code </col_header> </cell> </table>\n",
      "----------------------------------------------------------------------------------------------------\n",
      "----------------------------------------------------------------------------------------------------\n",
      "Target: The funding scheme ACM refers to Preparatory, accompanying and support measures.\n",
      "Predicted: The ACM is a preparatatory, accompanying and support measures.\n",
      "Source: <page_title> funding_schemes </page_title> <section_title> What is the title of the funding scheme with code ACM? </section_title> <table> <cell> ACM <col_header> code </col_header> </cell> <cell> Preparatory, accompanying and support measures <col_header> title </col_header> </cell> </table>\n",
      "----------------------------------------------------------------------------------------------------\n",
      "----------------------------------------------------------------------------------------------------\n",
      "Target: The aeronautics and air transport programme has the code AAT.\n",
      "Predicted: nan has code AAT for Aeronautics and air transport.\n",
      "Source: <page_title> nan </page_title> <section_title> Which is the title of the programme with code AAT? </section_title> <table> <cell> AAT <col_header> code </col_header> </cell> <cell> Aeronautics and air transport <col_header> title </col_header> </cell> </table>\n",
      "----------------------------------------------------------------------------------------------------\n",
      "----------------------------------------------------------------------------------------------------\n",
      "Target: The LS code refers to the Life Sciences domain.\n",
      "Predicted: Life Sciences (LS) is a research domain in the field of research domain.\n",
      "Source: <page_title> erc_research_domains </page_title> <section_title> The code LS to which research domain does it refer to? </section_title> <table> <cell> LS <col_header> code </col_header> </cell> <cell> Life Sciences <col_header> description </col_header> </cell> </table>\n",
      "----------------------------------------------------------------------------------------------------\n",
      "----------------------------------------------------------------------------------------------------\n",
      "Target: The panel with description Environment and society has the SH3 code.\n",
      "Predicted: SH3 is code for Environment and society.\n",
      "Source: <page_title> erc_panels </page_title> <section_title> Which is the code of the panel with description Environment and society? </section_title> <table> <cell> Environment and society <col_header> description </col_header> </cell> <cell> SH3 <col_header> code </col_header> </cell> </table>\n",
      "----------------------------------------------------------------------------------------------------\n"
     ]
    }
   ],
   "source": [
    "category = \"Correct\"\n",
    "\n",
    "for evaluation in evaluations:\n",
    "    if category in evaluation['evaluation']:\n",
    "        print(\"-\"*100)\n",
    "        print(f\"Target: {evaluation['target']}\")\n",
    "        print(f\"Predicted: {evaluation['predicted']}\")\n",
    "        print(f\"Source: {evaluation['source']}\")\n",
    "        print(\"-\"*100)"
   ]
  }
 ],
 "metadata": {
  "kernelspec": {
   "display_name": "Python [conda env:Data2Text]",
   "language": "python",
   "name": "conda-env-Data2Text-py"
  },
  "language_info": {
   "codemirror_mode": {
    "name": "ipython",
    "version": 3
   },
   "file_extension": ".py",
   "mimetype": "text/x-python",
   "name": "python",
   "nbconvert_exporter": "python",
   "pygments_lexer": "ipython3",
   "version": "3.8.11"
  }
 },
 "nbformat": 4,
 "nbformat_minor": 5
}
