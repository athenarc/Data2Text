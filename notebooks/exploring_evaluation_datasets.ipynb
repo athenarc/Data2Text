{
 "cells": [
  {
   "cell_type": "markdown",
   "metadata": {},
   "source": [
    "# Exploring Evaluation Datasets"
   ]
  },
  {
   "cell_type": "code",
   "execution_count": 1,
   "metadata": {},
   "outputs": [],
   "source": [
    "# Imports\n",
    "import sqlite3\n",
    "import pandas as pd\n",
    "import json\n",
    "import re\n",
    "import random\n",
    "\n",
    "from IPython.display import clear_output\n",
    "\n",
    "import sys\n",
    "sys.path.insert(0, \"../\")\n",
    "from app.backend.processing.process_query.query_pipeline import transform_query"
   ]
  },
  {
   "cell_type": "markdown",
   "metadata": {
    "jupyter": {
     "outputs_hidden": true
    }
   },
   "source": [
    "## WikiSQL\n",
    "\n",
    "In this notebook we focus at:\n",
    "* Exploring WikiSQL\n",
    "* Loading it into a sqlite3 db\n",
    "* Checking if the query results can be parsed it into single table, single row ToTTo expected format"
   ]
  },
  {
   "cell_type": "code",
   "execution_count": 63,
   "metadata": {},
   "outputs": [],
   "source": [
    "# Constants\n",
    "WIKISQL_DB_PATH = \"../storage/datasets/wiki_sql/raw/train.db\"\n",
    "WIKISQL_JSON_PATH = \"../storage/datasets/wiki_sql/raw/train.tables.jsonl\"\n",
    "QUERIES_PATH = \"../storage/datasets/wiki_sql/raw/train.jsonl\""
   ]
  },
  {
   "cell_type": "markdown",
   "metadata": {},
   "source": [
    "## Reading WikiSQL"
   ]
  },
  {
   "cell_type": "code",
   "execution_count": 10,
   "metadata": {},
   "outputs": [],
   "source": [
    "def run_query_on_connection():\n",
    "    pass\n",
    "\n",
    "def connect_and_query(db_path, query):\n",
    "    con = sqlite3.connect(db_path)\n",
    "    cur = con.cursor()\n",
    "\n",
    "    cur.execute(query)\n",
    "    res = cur.fetchall()\n",
    "    con.close()\n",
    "    \n",
    "    return res"
   ]
  },
  {
   "cell_type": "code",
   "execution_count": 12,
   "metadata": {},
   "outputs": [
    {
     "name": "stdout",
     "output_type": "stream",
     "text": [
      "[('table_1_1000181_1',), ('table_1_10006830_1',), ('table_1_10007452_3',), ('table_1_10015132_1',), ('table_1_10015132_14',)]\n"
     ]
    }
   ],
   "source": [
    "# Check the table names in the database\n",
    "print(connect_and_query(WIKISQL_DB_PATH, \"SELECT name FROM sqlite_master WHERE type='table';\")[:5])"
   ]
  },
  {
   "cell_type": "markdown",
   "metadata": {},
   "source": [
    "As we can see the table names have been given a special id. Unfortunately, this leads to lost information that could be used in explaining the query."
   ]
  },
  {
   "cell_type": "code",
   "execution_count": 22,
   "metadata": {},
   "outputs": [
    {
     "data": {
      "text/html": [
       "<div>\n",
       "<style scoped>\n",
       "    .dataframe tbody tr th:only-of-type {\n",
       "        vertical-align: middle;\n",
       "    }\n",
       "\n",
       "    .dataframe tbody tr th {\n",
       "        vertical-align: top;\n",
       "    }\n",
       "\n",
       "    .dataframe thead th {\n",
       "        text-align: right;\n",
       "    }\n",
       "</style>\n",
       "<table border=\"1\" class=\"dataframe\">\n",
       "  <thead>\n",
       "    <tr style=\"text-align: right;\">\n",
       "      <th></th>\n",
       "      <th>0</th>\n",
       "      <th>1</th>\n",
       "      <th>2</th>\n",
       "      <th>3</th>\n",
       "      <th>4</th>\n",
       "      <th>5</th>\n",
       "    </tr>\n",
       "  </thead>\n",
       "  <tbody>\n",
       "    <tr>\n",
       "      <th>0</th>\n",
       "      <td>col0</td>\n",
       "      <td>col1</td>\n",
       "      <td>col2</td>\n",
       "      <td>col3</td>\n",
       "      <td>col4</td>\n",
       "      <td>col5</td>\n",
       "    </tr>\n",
       "    <tr>\n",
       "      <th>1</th>\n",
       "      <td>1992-93</td>\n",
       "      <td>gillig</td>\n",
       "      <td>phantom (high floor)</td>\n",
       "      <td>444-464 (21)</td>\n",
       "      <td>dd s50egr allison wb-400r</td>\n",
       "      <td>diesel</td>\n",
       "    </tr>\n",
       "    <tr>\n",
       "      <th>2</th>\n",
       "      <td>1996</td>\n",
       "      <td>gillig</td>\n",
       "      <td>phantom (high floor)</td>\n",
       "      <td>465-467 (3)</td>\n",
       "      <td>dd s50 allison wb-400r</td>\n",
       "      <td>diesel</td>\n",
       "    </tr>\n",
       "    <tr>\n",
       "      <th>3</th>\n",
       "      <td>1998</td>\n",
       "      <td>gillig</td>\n",
       "      <td>phantom (high floor)</td>\n",
       "      <td>468-473 (6)</td>\n",
       "      <td>dd s50 allison wb-400r</td>\n",
       "      <td>diesel</td>\n",
       "    </tr>\n",
       "    <tr>\n",
       "      <th>4</th>\n",
       "      <td>2000</td>\n",
       "      <td>gillig</td>\n",
       "      <td>advantage (low floor)</td>\n",
       "      <td>474-481 (8)</td>\n",
       "      <td>cummins isc allison wb-400r</td>\n",
       "      <td>diesel</td>\n",
       "    </tr>\n",
       "    <tr>\n",
       "      <th>5</th>\n",
       "      <td>2002</td>\n",
       "      <td>gillig</td>\n",
       "      <td>advantage (low floor)</td>\n",
       "      <td>482-492 (11)</td>\n",
       "      <td>cummins isl allison wb-400r</td>\n",
       "      <td>diesel</td>\n",
       "    </tr>\n",
       "    <tr>\n",
       "      <th>6</th>\n",
       "      <td>2010</td>\n",
       "      <td>nfi</td>\n",
       "      <td>ge40lfr</td>\n",
       "      <td>300-309 (10)</td>\n",
       "      <td>ford triton v10 ise-thundervolt tb40-hg</td>\n",
       "      <td>hybrid</td>\n",
       "    </tr>\n",
       "    <tr>\n",
       "      <th>7</th>\n",
       "      <td>2011</td>\n",
       "      <td>nfi</td>\n",
       "      <td>c40lfr</td>\n",
       "      <td>310-329 (20)</td>\n",
       "      <td>cummins westport isl-g allison wb-400r</td>\n",
       "      <td>cng</td>\n",
       "    </tr>\n",
       "  </tbody>\n",
       "</table>\n",
       "</div>"
      ],
      "text/plain": [
       "         0       1                      2             3  \\\n",
       "0     col0    col1                   col2          col3   \n",
       "1  1992-93  gillig   phantom (high floor)  444-464 (21)   \n",
       "2     1996  gillig   phantom (high floor)   465-467 (3)   \n",
       "3     1998  gillig   phantom (high floor)   468-473 (6)   \n",
       "4     2000  gillig  advantage (low floor)   474-481 (8)   \n",
       "5     2002  gillig  advantage (low floor)  482-492 (11)   \n",
       "6     2010     nfi                ge40lfr  300-309 (10)   \n",
       "7     2011     nfi                 c40lfr  310-329 (20)   \n",
       "\n",
       "                                         4       5  \n",
       "0                                     col4    col5  \n",
       "1                dd s50egr allison wb-400r  diesel  \n",
       "2                   dd s50 allison wb-400r  diesel  \n",
       "3                   dd s50 allison wb-400r  diesel  \n",
       "4              cummins isc allison wb-400r  diesel  \n",
       "5              cummins isl allison wb-400r  diesel  \n",
       "6  ford triton v10 ise-thundervolt tb40-hg  hybrid  \n",
       "7   cummins westport isl-g allison wb-400r     cng  "
      ]
     },
     "execution_count": 22,
     "metadata": {},
     "output_type": "execute_result"
    }
   ],
   "source": [
    "def concat_col_names_and_res(res, col_names):\n",
    "    concatenated = [col_names]\n",
    "    for row in res:\n",
    "        concatenated.append(row)\n",
    "    \n",
    "    return concatenated\n",
    "\n",
    "pd.DataFrame(concat_col_names_and_res(*query_with_col_names(WIKISQL_DB_PATH, \"SELECT * FROM table_1_10007452_3;\")))"
   ]
  },
  {
   "cell_type": "code",
   "execution_count": 57,
   "metadata": {},
   "outputs": [],
   "source": [
    "class wikiqsl_controller:\n",
    "    def __init__(self, db_path, tables_path):\n",
    "        self.db_path = db_path\n",
    "        \n",
    "        self.table_info = []\n",
    "        with open(tables_path) as file_in:\n",
    "            for line in file_in:\n",
    "                self.table_info.append(json.loads(line))\n",
    "\n",
    "    def connect_and_query(self, query):\n",
    "        con = sqlite3.connect(self.db_path)\n",
    "        cur = con.cursor()\n",
    "\n",
    "        cur.execute(query)\n",
    "        res = cur.fetchall()\n",
    "        con.close()\n",
    "\n",
    "        return res\n",
    "    \n",
    "    def find_json_table(self, table_id):\n",
    "        for table in self.table_info:\n",
    "            if table['id'] == table_id:\n",
    "                return table\n",
    "            \n",
    "    def find_col_names(self, table_id):\n",
    "        return self.find_json_table(table_id)['header']\n",
    "    \n",
    "    def query_with_title(self, query):\n",
    "        try:\n",
    "            extracted_table_id = re.search('FROM\\stable_(\\w*)[\\s|;]', query).group(1)\n",
    "            extracted_table_id = extracted_table_id.replace(\"_\", \"-\")\n",
    "        except AttributeError as e:\n",
    "            raise AttributeError(f\"TableId could not be extracted from {query}\")\n",
    "        \n",
    "        res = self.connect_and_query(query)\n",
    "        col_names = self.find_col_names(extracted_table_id)\n",
    "        res.insert(0, tuple(col_names))\n",
    "        \n",
    "        return res\n"
   ]
  },
  {
   "cell_type": "code",
   "execution_count": 59,
   "metadata": {},
   "outputs": [
    {
     "data": {
      "text/html": [
       "<div>\n",
       "<style scoped>\n",
       "    .dataframe tbody tr th:only-of-type {\n",
       "        vertical-align: middle;\n",
       "    }\n",
       "\n",
       "    .dataframe tbody tr th {\n",
       "        vertical-align: top;\n",
       "    }\n",
       "\n",
       "    .dataframe thead th {\n",
       "        text-align: right;\n",
       "    }\n",
       "</style>\n",
       "<table border=\"1\" class=\"dataframe\">\n",
       "  <thead>\n",
       "    <tr style=\"text-align: right;\">\n",
       "      <th></th>\n",
       "      <th>0</th>\n",
       "      <th>1</th>\n",
       "      <th>2</th>\n",
       "      <th>3</th>\n",
       "      <th>4</th>\n",
       "      <th>5</th>\n",
       "    </tr>\n",
       "  </thead>\n",
       "  <tbody>\n",
       "    <tr>\n",
       "      <th>0</th>\n",
       "      <td>Order Year</td>\n",
       "      <td>Manufacturer</td>\n",
       "      <td>Model</td>\n",
       "      <td>Fleet Series (Quantity)</td>\n",
       "      <td>Powertrain (Engine/Transmission)</td>\n",
       "      <td>Fuel Propulsion</td>\n",
       "    </tr>\n",
       "    <tr>\n",
       "      <th>1</th>\n",
       "      <td>1992-93</td>\n",
       "      <td>gillig</td>\n",
       "      <td>phantom (high floor)</td>\n",
       "      <td>444-464 (21)</td>\n",
       "      <td>dd s50egr allison wb-400r</td>\n",
       "      <td>diesel</td>\n",
       "    </tr>\n",
       "    <tr>\n",
       "      <th>2</th>\n",
       "      <td>1996</td>\n",
       "      <td>gillig</td>\n",
       "      <td>phantom (high floor)</td>\n",
       "      <td>465-467 (3)</td>\n",
       "      <td>dd s50 allison wb-400r</td>\n",
       "      <td>diesel</td>\n",
       "    </tr>\n",
       "    <tr>\n",
       "      <th>3</th>\n",
       "      <td>1998</td>\n",
       "      <td>gillig</td>\n",
       "      <td>phantom (high floor)</td>\n",
       "      <td>468-473 (6)</td>\n",
       "      <td>dd s50 allison wb-400r</td>\n",
       "      <td>diesel</td>\n",
       "    </tr>\n",
       "    <tr>\n",
       "      <th>4</th>\n",
       "      <td>2000</td>\n",
       "      <td>gillig</td>\n",
       "      <td>advantage (low floor)</td>\n",
       "      <td>474-481 (8)</td>\n",
       "      <td>cummins isc allison wb-400r</td>\n",
       "      <td>diesel</td>\n",
       "    </tr>\n",
       "    <tr>\n",
       "      <th>5</th>\n",
       "      <td>2002</td>\n",
       "      <td>gillig</td>\n",
       "      <td>advantage (low floor)</td>\n",
       "      <td>482-492 (11)</td>\n",
       "      <td>cummins isl allison wb-400r</td>\n",
       "      <td>diesel</td>\n",
       "    </tr>\n",
       "    <tr>\n",
       "      <th>6</th>\n",
       "      <td>2010</td>\n",
       "      <td>nfi</td>\n",
       "      <td>ge40lfr</td>\n",
       "      <td>300-309 (10)</td>\n",
       "      <td>ford triton v10 ise-thundervolt tb40-hg</td>\n",
       "      <td>hybrid</td>\n",
       "    </tr>\n",
       "    <tr>\n",
       "      <th>7</th>\n",
       "      <td>2011</td>\n",
       "      <td>nfi</td>\n",
       "      <td>c40lfr</td>\n",
       "      <td>310-329 (20)</td>\n",
       "      <td>cummins westport isl-g allison wb-400r</td>\n",
       "      <td>cng</td>\n",
       "    </tr>\n",
       "  </tbody>\n",
       "</table>\n",
       "</div>"
      ],
      "text/plain": [
       "            0             1                      2                        3  \\\n",
       "0  Order Year  Manufacturer                  Model  Fleet Series (Quantity)   \n",
       "1     1992-93        gillig   phantom (high floor)             444-464 (21)   \n",
       "2        1996        gillig   phantom (high floor)              465-467 (3)   \n",
       "3        1998        gillig   phantom (high floor)              468-473 (6)   \n",
       "4        2000        gillig  advantage (low floor)              474-481 (8)   \n",
       "5        2002        gillig  advantage (low floor)             482-492 (11)   \n",
       "6        2010           nfi                ge40lfr             300-309 (10)   \n",
       "7        2011           nfi                 c40lfr             310-329 (20)   \n",
       "\n",
       "                                         4                5  \n",
       "0         Powertrain (Engine/Transmission)  Fuel Propulsion  \n",
       "1                dd s50egr allison wb-400r           diesel  \n",
       "2                   dd s50 allison wb-400r           diesel  \n",
       "3                   dd s50 allison wb-400r           diesel  \n",
       "4              cummins isc allison wb-400r           diesel  \n",
       "5              cummins isl allison wb-400r           diesel  \n",
       "6  ford triton v10 ise-thundervolt tb40-hg           hybrid  \n",
       "7   cummins westport isl-g allison wb-400r              cng  "
      ]
     },
     "execution_count": 59,
     "metadata": {},
     "output_type": "execute_result"
    }
   ],
   "source": [
    "wikisql = wikiqsl_controller(WIKISQL_DB_PATH, WIKISQL_JSON_PATH)\n",
    "pd.DataFrame(wikisql.query_with_title(\"SELECT * FROM table_1_10007452_3;\"))"
   ]
  },
  {
   "cell_type": "markdown",
   "metadata": {},
   "source": [
    "## Parsing Queries"
   ]
  },
  {
   "cell_type": "code",
   "execution_count": 94,
   "metadata": {},
   "outputs": [],
   "source": [
    "def sql_query_creator(table_id, sel_index, agg_index, conditions):\n",
    "    agg_ops = ['', 'MAX', 'MIN', 'COUNT', 'SUM', 'AVG']\n",
    "    cond_ops = ['=', '>', '<', 'OP']\n",
    "    \n",
    "    table_id = f\"table_{table_id.replace('-', '_')}\"\n",
    "    \n",
    "    rep = f\"SELECT {agg_ops[agg_index]}(col{sel_index}) \" if agg_index != 0 else f\"SELECT col{sel_index} \"\n",
    "    rep += f\"FROM {table_id} \"\n",
    "\n",
    "    if conditions:\n",
    "        rep +=  'WHERE ' + ' AND '.join(['{} {} \"{}\"'.format('col{}'.format(i), cond_ops[o], v) for i, o, v in conditions])\n",
    "    return rep"
   ]
  },
  {
   "cell_type": "code",
   "execution_count": 64,
   "metadata": {},
   "outputs": [],
   "source": [
    "queries = []\n",
    "with open(QUERIES_PATH) as file_in:\n",
    "    for line in file_in:\n",
    "        queries.append(json.loads(line))"
   ]
  },
  {
   "cell_type": "code",
   "execution_count": 99,
   "metadata": {},
   "outputs": [
    {
     "name": "stdout",
     "output_type": "stream",
     "text": [
      "SELECT COUNT(col3) FROM table_1_10007452_3 WHERE col5 = \"CNG\" [('Order Year', 'Manufacturer', 'Model', 'Fleet Series (Quantity)', 'Powertrain (Engine/Transmission)', 'Fuel Propulsion'), (0,)]\n"
     ]
    }
   ],
   "source": [
    "json_query = queries[4]\n",
    "query = sql_query_creator(json_query['table_id'], json_query['sql']['sel'], json_query['sql']['agg'], json_query['sql']['conds'])\n",
    "print(query, wikisql.query_with_title(query))"
   ]
  },
  {
   "cell_type": "markdown",
   "metadata": {},
   "source": [
    "## Annotator"
   ]
  },
  {
   "cell_type": "code",
   "execution_count": null,
   "metadata": {},
   "outputs": [],
   "source": [
    "class Annotator:\n",
    "    def __init__(self, db_path, tables_path, queries_path):\n",
    "        self.db_path = db_path"
   ]
  },
  {
   "cell_type": "markdown",
   "metadata": {},
   "source": [
    "## Spider"
   ]
  },
  {
   "cell_type": "code",
   "execution_count": 2,
   "metadata": {},
   "outputs": [],
   "source": [
    "QUERIES_PATH = \"../storage/datasets/spider/original/train_spider.json\"\n",
    "DB_DIR = \"../storage/datasets/spider/original/database/\"\n",
    "ANNOTATED_QUERIES_DIR = \"../storage/datasets/spider/annotations/queries/\""
   ]
  },
  {
   "cell_type": "code",
   "execution_count": 6,
   "metadata": {},
   "outputs": [
    {
     "name": "stdout",
     "output_type": "stream",
     "text": [
      "Remaining queries: 5933/7000\n",
      "\n",
      "DB: voter_2\n",
      "Query: SELECT avg(Age) FROM STUDENT WHERE Sex  =  \"F\"\n",
      "Question: What is the average age of female (sex is F) students?\n",
      "\n",
      "DB: device\n",
      "Query: SELECT T2.Carrier FROM stock AS T1 JOIN device AS T2 ON T1.Device_ID  =  T2.Device_ID GROUP BY T1.Device_ID HAVING COUNT(*)  >  1\n",
      "Question: What are the carriers of devices that are in stock in more than a single shop?\n",
      "\n",
      "DB: cre_Theme_park\n",
      "Query: SELECT other_hotel_details ,  star_rating_code FROM HOTELS ORDER BY price_range ASC LIMIT 3\n",
      "Question: Show the details and star ratings of the 3 least expensive hotels.\n",
      "\n",
      "DB: program_share\n",
      "Query: SELECT t1.name FROM program AS t1 JOIN broadcast AS t2 ON t1.program_id  =  t2.program_id GROUP BY t2.program_id ORDER BY count(*) DESC LIMIT 1\n",
      "Question: Which program is broadcast most frequently? Give me the program name.\n",
      "\n",
      "DB: icfp_1\n",
      "Query: SELECT fname FROM authors WHERE lname  =  \"Ueno\"\n",
      "Question: What is the first name of the author with last name \"Ueno\"?\n",
      "\n"
     ]
    }
   ],
   "source": [
    "with open(QUERIES_PATH, 'r') as file:\n",
    "    queries = json.load(file)\n",
    "\n",
    "original_queries_numb = len(queries)\n",
    "# Filter out nested queries\n",
    "# queries = [q for q in queries if len(q['query'].split('SELECT')) == 2 and 'JOIN' not in q['query']]\n",
    "queries = [q for q in queries if len(q['query'].split('SELECT')) == 2 and ('time' not in q['query'].lower())]\n",
    "\n",
    "print(f\"Remaining queries: {len(queries)}/{original_queries_numb}\\n\")\n",
    "    \n",
    "for q in random.sample(queries, 5):\n",
    "    print(f\"DB: {q['db_id']}\")\n",
    "    print(f\"Query: {q['query']}\")\n",
    "    print(f\"Question: {q['question']}\")\n",
    "    print()"
   ]
  },
  {
   "cell_type": "code",
   "execution_count": 4,
   "metadata": {},
   "outputs": [],
   "source": [
    "def connect_and_query(db_path, query):\n",
    "    con = sqlite3.connect(db_path)\n",
    "    \n",
    "    cur = con.cursor()\n",
    "    cur.execute(query)\n",
    "    res = cur.fetchall()\n",
    "    desc = [d[0] for d in cur.description]\n",
    "    \n",
    "    con.close()\n",
    "    \n",
    "    return res, desc\n",
    "    \n",
    "    \n",
    "def create_db_path(db_dir, db_id):\n",
    "    return f\"{db_dir}{db_id}/{db_id}.sqlite\"\n",
    "\n",
    "\n",
    "def print_query_info(query, transformed_query, res, cols):\n",
    "    print()\n",
    "    print(\"#\" * 120)\n",
    "    print(f\"DB: {query['db_id']}\")\n",
    "    print(f\"Original Query: {query['query']}\")\n",
    "    print(f\"Transformed Query: {transformed_query}\")\n",
    "    print(f\"Question: {query['question']}\")\n",
    "    print()\n",
    "    display(pd.DataFrame(res, columns=cols))"
   ]
  },
  {
   "cell_type": "code",
   "execution_count": 7,
   "metadata": {},
   "outputs": [
    {
     "name": "stdout",
     "output_type": "stream",
     "text": [
      "5932 SELECT T2.company_name FROM movie AS T1 JOIN culture_company AS T2 ON T1.movie_id  =  T2.movie_id WHERE T1.year  =  1999\n"
     ]
    }
   ],
   "source": [
    "for ind, q in enumerate(queries):\n",
    "#     if ind > 5250:\n",
    "    clear_output(wait=True)\n",
    "    print(ind, q['query'])\n",
    "    _, _ = transform_query(q['query'])\n",
    "    "
   ]
  },
  {
   "cell_type": "code",
   "execution_count": 5,
   "metadata": {},
   "outputs": [
    {
     "name": "stdout",
     "output_type": "stream",
     "text": [
      "\n",
      "########################################################################################################################\n",
      "DB: club_1\n",
      "Original Query: SELECT t3.lname FROM club AS t1 JOIN member_of_club AS t2 ON t1.clubid  =  t2.clubid JOIN student AS t3 ON t2.stuid  =  t3.stuid WHERE t1.clubname  =  \"Bootup Baltimore\"\n",
      "Transformed Query: SELECT t3.lname AS \"student lname\", t1.clubname AS \"club clubname\" FROM club AS t1 JOIN member_of_club AS t2 ON t1.clubid = t2.clubid JOIN student AS t3 ON t2.stuid = t3.stuid WHERE t1.clubname = 'Bootup Baltimore' LIMIT 3\n",
      "Question: Find the last names of the members of the club \"Bootup Baltimore\".\n",
      "\n"
     ]
    },
    {
     "data": {
      "text/html": [
       "<div>\n",
       "<style scoped>\n",
       "    .dataframe tbody tr th:only-of-type {\n",
       "        vertical-align: middle;\n",
       "    }\n",
       "\n",
       "    .dataframe tbody tr th {\n",
       "        vertical-align: top;\n",
       "    }\n",
       "\n",
       "    .dataframe thead th {\n",
       "        text-align: right;\n",
       "    }\n",
       "</style>\n",
       "<table border=\"1\" class=\"dataframe\">\n",
       "  <thead>\n",
       "    <tr style=\"text-align: right;\">\n",
       "      <th></th>\n",
       "      <th>student lname</th>\n",
       "      <th>club clubname</th>\n",
       "    </tr>\n",
       "  </thead>\n",
       "  <tbody>\n",
       "    <tr>\n",
       "      <th>0</th>\n",
       "      <td>Smith</td>\n",
       "      <td>Bootup Baltimore</td>\n",
       "    </tr>\n",
       "    <tr>\n",
       "      <th>1</th>\n",
       "      <td>Lee</td>\n",
       "      <td>Bootup Baltimore</td>\n",
       "    </tr>\n",
       "  </tbody>\n",
       "</table>\n",
       "</div>"
      ],
      "text/plain": [
       "  student lname     club clubname\n",
       "0         Smith  Bootup Baltimore\n",
       "1           Lee  Bootup Baltimore"
      ]
     },
     "metadata": {},
     "output_type": "display_data"
    },
    {
     "ename": "KeyboardInterrupt",
     "evalue": "Interrupted by user",
     "output_type": "error",
     "traceback": [
      "\u001b[0;31m---------------------------------------------------------------------------\u001b[0m",
      "\u001b[0;31mKeyboardInterrupt\u001b[0m                         Traceback (most recent call last)",
      "\u001b[0;32m<ipython-input-5-ec5bb1d93456>\u001b[0m in \u001b[0;36m<module>\u001b[0;34m\u001b[0m\n\u001b[1;32m     16\u001b[0m \u001b[0;34m\u001b[0m\u001b[0m\n\u001b[1;32m     17\u001b[0m \u001b[0;34m\u001b[0m\u001b[0m\n\u001b[0;32m---> 18\u001b[0;31m     \u001b[0mstore_ind\u001b[0m \u001b[0;34m=\u001b[0m \u001b[0mint\u001b[0m\u001b[0;34m(\u001b[0m\u001b[0minput\u001b[0m\u001b[0;34m(\u001b[0m\u001b[0;34mf\"Store results file ind (previous: {last_ind}): \"\u001b[0m\u001b[0;34m)\u001b[0m\u001b[0;34m)\u001b[0m\u001b[0;34m\u001b[0m\u001b[0;34m\u001b[0m\u001b[0m\n\u001b[0m\u001b[1;32m     19\u001b[0m     \u001b[0;32mif\u001b[0m \u001b[0mstore_ind\u001b[0m \u001b[0;34m==\u001b[0m \u001b[0;34m-\u001b[0m\u001b[0;36m1\u001b[0m\u001b[0;34m:\u001b[0m\u001b[0;34m\u001b[0m\u001b[0;34m\u001b[0m\u001b[0m\n\u001b[1;32m     20\u001b[0m         \u001b[0;32mcontinue\u001b[0m\u001b[0;34m\u001b[0m\u001b[0;34m\u001b[0m\u001b[0m\n",
      "\u001b[0;32m~/anaconda3/envs/Data2Text/lib/python3.8/site-packages/ipykernel/kernelbase.py\u001b[0m in \u001b[0;36mraw_input\u001b[0;34m(self, prompt)\u001b[0m\n\u001b[1;32m    858\u001b[0m                 \u001b[0;34m\"raw_input was called, but this frontend does not support input requests.\"\u001b[0m\u001b[0;34m\u001b[0m\u001b[0;34m\u001b[0m\u001b[0m\n\u001b[1;32m    859\u001b[0m             )\n\u001b[0;32m--> 860\u001b[0;31m         return self._input_request(str(prompt),\n\u001b[0m\u001b[1;32m    861\u001b[0m             \u001b[0mself\u001b[0m\u001b[0;34m.\u001b[0m\u001b[0m_parent_ident\u001b[0m\u001b[0;34m,\u001b[0m\u001b[0;34m\u001b[0m\u001b[0;34m\u001b[0m\u001b[0m\n\u001b[1;32m    862\u001b[0m             \u001b[0mself\u001b[0m\u001b[0;34m.\u001b[0m\u001b[0m_parent_header\u001b[0m\u001b[0;34m,\u001b[0m\u001b[0;34m\u001b[0m\u001b[0;34m\u001b[0m\u001b[0m\n",
      "\u001b[0;32m~/anaconda3/envs/Data2Text/lib/python3.8/site-packages/ipykernel/kernelbase.py\u001b[0m in \u001b[0;36m_input_request\u001b[0;34m(self, prompt, ident, parent, password)\u001b[0m\n\u001b[1;32m    902\u001b[0m             \u001b[0;32mexcept\u001b[0m \u001b[0mKeyboardInterrupt\u001b[0m\u001b[0;34m:\u001b[0m\u001b[0;34m\u001b[0m\u001b[0;34m\u001b[0m\u001b[0m\n\u001b[1;32m    903\u001b[0m                 \u001b[0;31m# re-raise KeyboardInterrupt, to truncate traceback\u001b[0m\u001b[0;34m\u001b[0m\u001b[0;34m\u001b[0m\u001b[0;34m\u001b[0m\u001b[0m\n\u001b[0;32m--> 904\u001b[0;31m                 \u001b[0;32mraise\u001b[0m \u001b[0mKeyboardInterrupt\u001b[0m\u001b[0;34m(\u001b[0m\u001b[0;34m\"Interrupted by user\"\u001b[0m\u001b[0;34m)\u001b[0m \u001b[0;32mfrom\u001b[0m \u001b[0;32mNone\u001b[0m\u001b[0;34m\u001b[0m\u001b[0;34m\u001b[0m\u001b[0m\n\u001b[0m\u001b[1;32m    905\u001b[0m             \u001b[0;32mexcept\u001b[0m \u001b[0mException\u001b[0m \u001b[0;32mas\u001b[0m \u001b[0me\u001b[0m\u001b[0;34m:\u001b[0m\u001b[0;34m\u001b[0m\u001b[0;34m\u001b[0m\u001b[0m\n\u001b[1;32m    906\u001b[0m                 \u001b[0mself\u001b[0m\u001b[0;34m.\u001b[0m\u001b[0mlog\u001b[0m\u001b[0;34m.\u001b[0m\u001b[0mwarning\u001b[0m\u001b[0;34m(\u001b[0m\u001b[0;34m\"Invalid Message:\"\u001b[0m\u001b[0;34m,\u001b[0m \u001b[0mexc_info\u001b[0m\u001b[0;34m=\u001b[0m\u001b[0;32mTrue\u001b[0m\u001b[0;34m)\u001b[0m\u001b[0;34m\u001b[0m\u001b[0;34m\u001b[0m\u001b[0m\n",
      "\u001b[0;31mKeyboardInterrupt\u001b[0m: Interrupted by user"
     ]
    }
   ],
   "source": [
    "last_ind = -1\n",
    "\n",
    "for q in random.sample(queries, 500):\n",
    "    clear_output(wait=True)\n",
    "    try:\n",
    "        transformed_query, _ = transform_query(q['query'])\n",
    "    except KeyError:\n",
    "        raise KeyError(f\"Failed to transform {q['query']}\")\n",
    "    transformed_query = transformed_query[:-1] + '3'\n",
    "    \n",
    "    res, cols = connect_and_query(\n",
    "        create_db_path(DB_DIR, q['db_id']),\n",
    "        transformed_query\n",
    "    )\n",
    "    print_query_info(q, transformed_query, res, cols)\n",
    "    \n",
    "    \n",
    "    store_ind = int(input(f\"Store results file ind (previous: {last_ind}): \"))\n",
    "    if store_ind == -1:\n",
    "        continue\n",
    "    else:\n",
    "        pd.DataFrame(res, columns=cols).to_csv(f\"{ANNOTATED_QUERIES_DIR}q{store_ind}.csv\", index=False)\n",
    "        last_ind = store_ind\n",
    "    "
   ]
  },
  {
   "cell_type": "code",
   "execution_count": 31,
   "metadata": {},
   "outputs": [
    {
     "data": {
      "text/html": [
       "<div>\n",
       "<style scoped>\n",
       "    .dataframe tbody tr th:only-of-type {\n",
       "        vertical-align: middle;\n",
       "    }\n",
       "\n",
       "    .dataframe tbody tr th {\n",
       "        vertical-align: top;\n",
       "    }\n",
       "\n",
       "    .dataframe thead th {\n",
       "        text-align: right;\n",
       "    }\n",
       "</style>\n",
       "<table border=\"1\" class=\"dataframe\">\n",
       "  <thead>\n",
       "    <tr style=\"text-align: right;\">\n",
       "      <th></th>\n",
       "      <th>name</th>\n",
       "      <th>age</th>\n",
       "      <th>city</th>\n",
       "      <th>gender</th>\n",
       "      <th>job</th>\n",
       "    </tr>\n",
       "  </thead>\n",
       "  <tbody>\n",
       "    <tr>\n",
       "      <th>0</th>\n",
       "      <td>Alice</td>\n",
       "      <td>25</td>\n",
       "      <td>new york city</td>\n",
       "      <td>female</td>\n",
       "      <td>student</td>\n",
       "    </tr>\n",
       "    <tr>\n",
       "      <th>1</th>\n",
       "      <td>Bob</td>\n",
       "      <td>35</td>\n",
       "      <td>salt lake city</td>\n",
       "      <td>male</td>\n",
       "      <td>engineer</td>\n",
       "    </tr>\n",
       "  </tbody>\n",
       "</table>\n",
       "</div>"
      ],
      "text/plain": [
       "    name  age            city  gender       job\n",
       "0  Alice   25   new york city  female   student\n",
       "1    Bob   35  salt lake city    male  engineer"
      ]
     },
     "execution_count": 31,
     "metadata": {},
     "output_type": "execute_result"
    }
   ],
   "source": [
    "db_name = \"network_2\"\n",
    "query = \"SELECT * FROM Person LIMIT 2\"\n",
    "\n",
    "res, cols = connect_and_query(create_db_path(DB_DIR, db_name), query)\n",
    "\n",
    "pd.DataFrame(res, columns=cols)"
   ]
  },
  {
   "cell_type": "code",
   "execution_count": 14,
   "metadata": {},
   "outputs": [],
   "source": [
    "queries_sql = [{'query': q['query']} for q in queries]\n",
    "\n",
    "with open('../tests/resources/spider_queries.json', 'w') as outfile:\n",
    "    json.dump(queries_sql, outfile)"
   ]
  }
 ],
 "metadata": {
  "kernelspec": {
   "display_name": "Python [conda env:Data2Text]",
   "language": "python",
   "name": "conda-env-Data2Text-py"
  },
  "language_info": {
   "codemirror_mode": {
    "name": "ipython",
    "version": 3
   },
   "file_extension": ".py",
   "mimetype": "text/x-python",
   "name": "python",
   "nbconvert_exporter": "python",
   "pygments_lexer": "ipython3",
   "version": "3.8.11"
  }
 },
 "nbformat": 4,
 "nbformat_minor": 4
}
