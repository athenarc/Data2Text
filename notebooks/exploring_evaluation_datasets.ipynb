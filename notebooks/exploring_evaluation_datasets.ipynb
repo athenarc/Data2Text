{
 "cells": [
  {
   "cell_type": "markdown",
   "metadata": {},
   "source": [
    "# Exploring Evaluation Datasets"
   ]
  },
  {
   "cell_type": "code",
   "execution_count": 11,
   "metadata": {},
   "outputs": [],
   "source": [
    "# Imports\n",
    "import sqlite3\n",
    "import pandas as pd\n",
    "import json\n",
    "import re\n",
    "import glob\n",
    "import random\n",
    "from collections import Counter, defaultdict\n",
    "from IPython.display import clear_output\n",
    "\n",
    "import sys\n",
    "sys.path.insert(0, \"../\")\n",
    "\n",
    "from app.backend.processing.process_query.query_pipeline import transform_query\n",
    "from data.annotation.benchmark_creation import categorize_spider\n",
    "from utils.query_pattern_recognition import ExtractException, QueryInfo"
   ]
  },
  {
   "cell_type": "markdown",
   "metadata": {
    "jupyter": {
     "outputs_hidden": true
    }
   },
   "source": [
    "## WikiSQL\n",
    "\n",
    "In this notebook we focus at:\n",
    "* Exploring WikiSQL\n",
    "* Loading it into a sqlite3 db\n",
    "* Checking if the query results can be parsed it into single table, single row ToTTo expected format"
   ]
  },
  {
   "cell_type": "code",
   "execution_count": 63,
   "metadata": {},
   "outputs": [],
   "source": [
    "# Constants\n",
    "WIKISQL_DB_PATH = \"../storage/datasets/wiki_sql/raw/train.db\"\n",
    "WIKISQL_JSON_PATH = \"../storage/datasets/wiki_sql/raw/train.tables.jsonl\"\n",
    "QUERIES_PATH = \"../storage/datasets/wiki_sql/raw/train.jsonl\""
   ]
  },
  {
   "cell_type": "markdown",
   "metadata": {},
   "source": [
    "## Reading WikiSQL"
   ]
  },
  {
   "cell_type": "code",
   "execution_count": 10,
   "metadata": {},
   "outputs": [],
   "source": [
    "def run_query_on_connection():\n",
    "    pass\n",
    "\n",
    "def connect_and_query(db_path, query):\n",
    "    con = sqlite3.connect(db_path)\n",
    "    cur = con.cursor()\n",
    "\n",
    "    cur.execute(query)\n",
    "    res = cur.fetchall()\n",
    "    con.close()\n",
    "    \n",
    "    return res"
   ]
  },
  {
   "cell_type": "code",
   "execution_count": 12,
   "metadata": {},
   "outputs": [
    {
     "name": "stdout",
     "output_type": "stream",
     "text": [
      "[('table_1_1000181_1',), ('table_1_10006830_1',), ('table_1_10007452_3',), ('table_1_10015132_1',), ('table_1_10015132_14',)]\n"
     ]
    }
   ],
   "source": [
    "# Check the table names in the database\n",
    "print(connect_and_query(WIKISQL_DB_PATH, \"SELECT name FROM sqlite_master WHERE type='table';\")[:5])"
   ]
  },
  {
   "cell_type": "markdown",
   "metadata": {},
   "source": [
    "As we can see the table names have been given a special id. Unfortunately, this leads to lost information that could be used in explaining the query."
   ]
  },
  {
   "cell_type": "code",
   "execution_count": 22,
   "metadata": {},
   "outputs": [
    {
     "data": {
      "text/html": [
       "<div>\n",
       "<style scoped>\n",
       "    .dataframe tbody tr th:only-of-type {\n",
       "        vertical-align: middle;\n",
       "    }\n",
       "\n",
       "    .dataframe tbody tr th {\n",
       "        vertical-align: top;\n",
       "    }\n",
       "\n",
       "    .dataframe thead th {\n",
       "        text-align: right;\n",
       "    }\n",
       "</style>\n",
       "<table border=\"1\" class=\"dataframe\">\n",
       "  <thead>\n",
       "    <tr style=\"text-align: right;\">\n",
       "      <th></th>\n",
       "      <th>0</th>\n",
       "      <th>1</th>\n",
       "      <th>2</th>\n",
       "      <th>3</th>\n",
       "      <th>4</th>\n",
       "      <th>5</th>\n",
       "    </tr>\n",
       "  </thead>\n",
       "  <tbody>\n",
       "    <tr>\n",
       "      <th>0</th>\n",
       "      <td>col0</td>\n",
       "      <td>col1</td>\n",
       "      <td>col2</td>\n",
       "      <td>col3</td>\n",
       "      <td>col4</td>\n",
       "      <td>col5</td>\n",
       "    </tr>\n",
       "    <tr>\n",
       "      <th>1</th>\n",
       "      <td>1992-93</td>\n",
       "      <td>gillig</td>\n",
       "      <td>phantom (high floor)</td>\n",
       "      <td>444-464 (21)</td>\n",
       "      <td>dd s50egr allison wb-400r</td>\n",
       "      <td>diesel</td>\n",
       "    </tr>\n",
       "    <tr>\n",
       "      <th>2</th>\n",
       "      <td>1996</td>\n",
       "      <td>gillig</td>\n",
       "      <td>phantom (high floor)</td>\n",
       "      <td>465-467 (3)</td>\n",
       "      <td>dd s50 allison wb-400r</td>\n",
       "      <td>diesel</td>\n",
       "    </tr>\n",
       "    <tr>\n",
       "      <th>3</th>\n",
       "      <td>1998</td>\n",
       "      <td>gillig</td>\n",
       "      <td>phantom (high floor)</td>\n",
       "      <td>468-473 (6)</td>\n",
       "      <td>dd s50 allison wb-400r</td>\n",
       "      <td>diesel</td>\n",
       "    </tr>\n",
       "    <tr>\n",
       "      <th>4</th>\n",
       "      <td>2000</td>\n",
       "      <td>gillig</td>\n",
       "      <td>advantage (low floor)</td>\n",
       "      <td>474-481 (8)</td>\n",
       "      <td>cummins isc allison wb-400r</td>\n",
       "      <td>diesel</td>\n",
       "    </tr>\n",
       "    <tr>\n",
       "      <th>5</th>\n",
       "      <td>2002</td>\n",
       "      <td>gillig</td>\n",
       "      <td>advantage (low floor)</td>\n",
       "      <td>482-492 (11)</td>\n",
       "      <td>cummins isl allison wb-400r</td>\n",
       "      <td>diesel</td>\n",
       "    </tr>\n",
       "    <tr>\n",
       "      <th>6</th>\n",
       "      <td>2010</td>\n",
       "      <td>nfi</td>\n",
       "      <td>ge40lfr</td>\n",
       "      <td>300-309 (10)</td>\n",
       "      <td>ford triton v10 ise-thundervolt tb40-hg</td>\n",
       "      <td>hybrid</td>\n",
       "    </tr>\n",
       "    <tr>\n",
       "      <th>7</th>\n",
       "      <td>2011</td>\n",
       "      <td>nfi</td>\n",
       "      <td>c40lfr</td>\n",
       "      <td>310-329 (20)</td>\n",
       "      <td>cummins westport isl-g allison wb-400r</td>\n",
       "      <td>cng</td>\n",
       "    </tr>\n",
       "  </tbody>\n",
       "</table>\n",
       "</div>"
      ],
      "text/plain": [
       "         0       1                      2             3  \\\n",
       "0     col0    col1                   col2          col3   \n",
       "1  1992-93  gillig   phantom (high floor)  444-464 (21)   \n",
       "2     1996  gillig   phantom (high floor)   465-467 (3)   \n",
       "3     1998  gillig   phantom (high floor)   468-473 (6)   \n",
       "4     2000  gillig  advantage (low floor)   474-481 (8)   \n",
       "5     2002  gillig  advantage (low floor)  482-492 (11)   \n",
       "6     2010     nfi                ge40lfr  300-309 (10)   \n",
       "7     2011     nfi                 c40lfr  310-329 (20)   \n",
       "\n",
       "                                         4       5  \n",
       "0                                     col4    col5  \n",
       "1                dd s50egr allison wb-400r  diesel  \n",
       "2                   dd s50 allison wb-400r  diesel  \n",
       "3                   dd s50 allison wb-400r  diesel  \n",
       "4              cummins isc allison wb-400r  diesel  \n",
       "5              cummins isl allison wb-400r  diesel  \n",
       "6  ford triton v10 ise-thundervolt tb40-hg  hybrid  \n",
       "7   cummins westport isl-g allison wb-400r     cng  "
      ]
     },
     "execution_count": 22,
     "metadata": {},
     "output_type": "execute_result"
    }
   ],
   "source": [
    "def concat_col_names_and_res(res, col_names):\n",
    "    concatenated = [col_names]\n",
    "    for row in res:\n",
    "        concatenated.append(row)\n",
    "    \n",
    "    return concatenated\n",
    "\n",
    "pd.DataFrame(concat_col_names_and_res(*query_with_col_names(WIKISQL_DB_PATH, \"SELECT * FROM table_1_10007452_3;\")))"
   ]
  },
  {
   "cell_type": "code",
   "execution_count": 57,
   "metadata": {},
   "outputs": [],
   "source": [
    "class wikiqsl_controller:\n",
    "    def __init__(self, db_path, tables_path):\n",
    "        self.db_path = db_path\n",
    "        \n",
    "        self.table_info = []\n",
    "        with open(tables_path) as file_in:\n",
    "            for line in file_in:\n",
    "                self.table_info.append(json.loads(line))\n",
    "\n",
    "    def connect_and_query(self, query):\n",
    "        con = sqlite3.connect(self.db_path)\n",
    "        cur = con.cursor()\n",
    "\n",
    "        cur.execute(query)\n",
    "        res = cur.fetchall()\n",
    "        con.close()\n",
    "\n",
    "        return res\n",
    "    \n",
    "    def find_json_table(self, table_id):\n",
    "        for table in self.table_info:\n",
    "            if table['id'] == table_id:\n",
    "                return table\n",
    "            \n",
    "    def find_col_names(self, table_id):\n",
    "        return self.find_json_table(table_id)['header']\n",
    "    \n",
    "    def query_with_title(self, query):\n",
    "        try:\n",
    "            extracted_table_id = re.search('FROM\\stable_(\\w*)[\\s|;]', query).group(1)\n",
    "            extracted_table_id = extracted_table_id.replace(\"_\", \"-\")\n",
    "        except AttributeError as e:\n",
    "            raise AttributeError(f\"TableId could not be extracted from {query}\")\n",
    "        \n",
    "        res = self.connect_and_query(query)\n",
    "        col_names = self.find_col_names(extracted_table_id)\n",
    "        res.insert(0, tuple(col_names))\n",
    "        \n",
    "        return res\n"
   ]
  },
  {
   "cell_type": "code",
   "execution_count": 59,
   "metadata": {},
   "outputs": [
    {
     "data": {
      "text/html": [
       "<div>\n",
       "<style scoped>\n",
       "    .dataframe tbody tr th:only-of-type {\n",
       "        vertical-align: middle;\n",
       "    }\n",
       "\n",
       "    .dataframe tbody tr th {\n",
       "        vertical-align: top;\n",
       "    }\n",
       "\n",
       "    .dataframe thead th {\n",
       "        text-align: right;\n",
       "    }\n",
       "</style>\n",
       "<table border=\"1\" class=\"dataframe\">\n",
       "  <thead>\n",
       "    <tr style=\"text-align: right;\">\n",
       "      <th></th>\n",
       "      <th>0</th>\n",
       "      <th>1</th>\n",
       "      <th>2</th>\n",
       "      <th>3</th>\n",
       "      <th>4</th>\n",
       "      <th>5</th>\n",
       "    </tr>\n",
       "  </thead>\n",
       "  <tbody>\n",
       "    <tr>\n",
       "      <th>0</th>\n",
       "      <td>Order Year</td>\n",
       "      <td>Manufacturer</td>\n",
       "      <td>Model</td>\n",
       "      <td>Fleet Series (Quantity)</td>\n",
       "      <td>Powertrain (Engine/Transmission)</td>\n",
       "      <td>Fuel Propulsion</td>\n",
       "    </tr>\n",
       "    <tr>\n",
       "      <th>1</th>\n",
       "      <td>1992-93</td>\n",
       "      <td>gillig</td>\n",
       "      <td>phantom (high floor)</td>\n",
       "      <td>444-464 (21)</td>\n",
       "      <td>dd s50egr allison wb-400r</td>\n",
       "      <td>diesel</td>\n",
       "    </tr>\n",
       "    <tr>\n",
       "      <th>2</th>\n",
       "      <td>1996</td>\n",
       "      <td>gillig</td>\n",
       "      <td>phantom (high floor)</td>\n",
       "      <td>465-467 (3)</td>\n",
       "      <td>dd s50 allison wb-400r</td>\n",
       "      <td>diesel</td>\n",
       "    </tr>\n",
       "    <tr>\n",
       "      <th>3</th>\n",
       "      <td>1998</td>\n",
       "      <td>gillig</td>\n",
       "      <td>phantom (high floor)</td>\n",
       "      <td>468-473 (6)</td>\n",
       "      <td>dd s50 allison wb-400r</td>\n",
       "      <td>diesel</td>\n",
       "    </tr>\n",
       "    <tr>\n",
       "      <th>4</th>\n",
       "      <td>2000</td>\n",
       "      <td>gillig</td>\n",
       "      <td>advantage (low floor)</td>\n",
       "      <td>474-481 (8)</td>\n",
       "      <td>cummins isc allison wb-400r</td>\n",
       "      <td>diesel</td>\n",
       "    </tr>\n",
       "    <tr>\n",
       "      <th>5</th>\n",
       "      <td>2002</td>\n",
       "      <td>gillig</td>\n",
       "      <td>advantage (low floor)</td>\n",
       "      <td>482-492 (11)</td>\n",
       "      <td>cummins isl allison wb-400r</td>\n",
       "      <td>diesel</td>\n",
       "    </tr>\n",
       "    <tr>\n",
       "      <th>6</th>\n",
       "      <td>2010</td>\n",
       "      <td>nfi</td>\n",
       "      <td>ge40lfr</td>\n",
       "      <td>300-309 (10)</td>\n",
       "      <td>ford triton v10 ise-thundervolt tb40-hg</td>\n",
       "      <td>hybrid</td>\n",
       "    </tr>\n",
       "    <tr>\n",
       "      <th>7</th>\n",
       "      <td>2011</td>\n",
       "      <td>nfi</td>\n",
       "      <td>c40lfr</td>\n",
       "      <td>310-329 (20)</td>\n",
       "      <td>cummins westport isl-g allison wb-400r</td>\n",
       "      <td>cng</td>\n",
       "    </tr>\n",
       "  </tbody>\n",
       "</table>\n",
       "</div>"
      ],
      "text/plain": [
       "            0             1                      2                        3  \\\n",
       "0  Order Year  Manufacturer                  Model  Fleet Series (Quantity)   \n",
       "1     1992-93        gillig   phantom (high floor)             444-464 (21)   \n",
       "2        1996        gillig   phantom (high floor)              465-467 (3)   \n",
       "3        1998        gillig   phantom (high floor)              468-473 (6)   \n",
       "4        2000        gillig  advantage (low floor)              474-481 (8)   \n",
       "5        2002        gillig  advantage (low floor)             482-492 (11)   \n",
       "6        2010           nfi                ge40lfr             300-309 (10)   \n",
       "7        2011           nfi                 c40lfr             310-329 (20)   \n",
       "\n",
       "                                         4                5  \n",
       "0         Powertrain (Engine/Transmission)  Fuel Propulsion  \n",
       "1                dd s50egr allison wb-400r           diesel  \n",
       "2                   dd s50 allison wb-400r           diesel  \n",
       "3                   dd s50 allison wb-400r           diesel  \n",
       "4              cummins isc allison wb-400r           diesel  \n",
       "5              cummins isl allison wb-400r           diesel  \n",
       "6  ford triton v10 ise-thundervolt tb40-hg           hybrid  \n",
       "7   cummins westport isl-g allison wb-400r              cng  "
      ]
     },
     "execution_count": 59,
     "metadata": {},
     "output_type": "execute_result"
    }
   ],
   "source": [
    "wikisql = wikiqsl_controller(WIKISQL_DB_PATH, WIKISQL_JSON_PATH)\n",
    "pd.DataFrame(wikisql.query_with_title(\"SELECT * FROM table_1_10007452_3;\"))"
   ]
  },
  {
   "cell_type": "markdown",
   "metadata": {},
   "source": [
    "## Parsing Queries"
   ]
  },
  {
   "cell_type": "code",
   "execution_count": 94,
   "metadata": {},
   "outputs": [],
   "source": [
    "def sql_query_creator(table_id, sel_index, agg_index, conditions):\n",
    "    agg_ops = ['', 'MAX', 'MIN', 'COUNT', 'SUM', 'AVG']\n",
    "    cond_ops = ['=', '>', '<', 'OP']\n",
    "    \n",
    "    table_id = f\"table_{table_id.replace('-', '_')}\"\n",
    "    \n",
    "    rep = f\"SELECT {agg_ops[agg_index]}(col{sel_index}) \" if agg_index != 0 else f\"SELECT col{sel_index} \"\n",
    "    rep += f\"FROM {table_id} \"\n",
    "\n",
    "    if conditions:\n",
    "        rep +=  'WHERE ' + ' AND '.join(['{} {} \"{}\"'.format('col{}'.format(i), cond_ops[o], v) for i, o, v in conditions])\n",
    "    return rep"
   ]
  },
  {
   "cell_type": "code",
   "execution_count": 64,
   "metadata": {},
   "outputs": [],
   "source": [
    "queries = []\n",
    "with open(QUERIES_PATH) as file_in:\n",
    "    for line in file_in:\n",
    "        queries.append(json.loads(line))"
   ]
  },
  {
   "cell_type": "code",
   "execution_count": 99,
   "metadata": {},
   "outputs": [
    {
     "name": "stdout",
     "output_type": "stream",
     "text": [
      "SELECT COUNT(col3) FROM table_1_10007452_3 WHERE col5 = \"CNG\" [('Order Year', 'Manufacturer', 'Model', 'Fleet Series (Quantity)', 'Powertrain (Engine/Transmission)', 'Fuel Propulsion'), (0,)]\n"
     ]
    }
   ],
   "source": [
    "json_query = queries[4]\n",
    "query = sql_query_creator(json_query['table_id'], json_query['sql']['sel'], json_query['sql']['agg'], json_query['sql']['conds'])\n",
    "print(query, wikisql.query_with_title(query))"
   ]
  },
  {
   "cell_type": "markdown",
   "metadata": {},
   "source": [
    "## Annotator"
   ]
  },
  {
   "cell_type": "code",
   "execution_count": null,
   "metadata": {},
   "outputs": [],
   "source": [
    "class Annotator:\n",
    "    def __init__(self, db_path, tables_path, queries_path):\n",
    "        self.db_path = db_path"
   ]
  },
  {
   "cell_type": "markdown",
   "metadata": {},
   "source": [
    "## Spider"
   ]
  },
  {
   "cell_type": "code",
   "execution_count": 2,
   "metadata": {},
   "outputs": [],
   "source": [
    "QUERIES_PATH = \"../storage/datasets/spider/original/train_spider.json\"\n",
    "DB_DIR = \"../storage/datasets/spider/original/database/\"\n",
    "ANNOTATED_QUERIES_DIR = \"../storage/datasets/spider/annotations/queries/\""
   ]
  },
  {
   "cell_type": "code",
   "execution_count": 6,
   "metadata": {},
   "outputs": [
    {
     "name": "stdout",
     "output_type": "stream",
     "text": [
      "Remaining queries: 5933/7000\n",
      "\n",
      "DB: voter_2\n",
      "Query: SELECT avg(Age) FROM STUDENT WHERE Sex  =  \"F\"\n",
      "Question: What is the average age of female (sex is F) students?\n",
      "\n",
      "DB: device\n",
      "Query: SELECT T2.Carrier FROM stock AS T1 JOIN device AS T2 ON T1.Device_ID  =  T2.Device_ID GROUP BY T1.Device_ID HAVING COUNT(*)  >  1\n",
      "Question: What are the carriers of devices that are in stock in more than a single shop?\n",
      "\n",
      "DB: cre_Theme_park\n",
      "Query: SELECT other_hotel_details ,  star_rating_code FROM HOTELS ORDER BY price_range ASC LIMIT 3\n",
      "Question: Show the details and star ratings of the 3 least expensive hotels.\n",
      "\n",
      "DB: program_share\n",
      "Query: SELECT t1.name FROM program AS t1 JOIN broadcast AS t2 ON t1.program_id  =  t2.program_id GROUP BY t2.program_id ORDER BY count(*) DESC LIMIT 1\n",
      "Question: Which program is broadcast most frequently? Give me the program name.\n",
      "\n",
      "DB: icfp_1\n",
      "Query: SELECT fname FROM authors WHERE lname  =  \"Ueno\"\n",
      "Question: What is the first name of the author with last name \"Ueno\"?\n",
      "\n"
     ]
    }
   ],
   "source": [
    "with open(QUERIES_PATH, 'r') as file:\n",
    "    queries = json.load(file)\n",
    "\n",
    "original_queries_numb = len(queries)\n",
    "# Filter out nested queries\n",
    "# queries = [q for q in queries if len(q['query'].split('SELECT')) == 2 and 'JOIN' not in q['query']]\n",
    "queries = [q for q in queries if len(q['query'].split('SELECT')) == 2 and ('time' not in q['query'].lower())]\n",
    "\n",
    "print(f\"Remaining queries: {len(queries)}/{original_queries_numb}\\n\")\n",
    "    \n",
    "for q in random.sample(queries, 5):\n",
    "    print(f\"DB: {q['db_id']}\")\n",
    "    print(f\"Query: {q['query']}\")\n",
    "    print(f\"Question: {q['question']}\")\n",
    "    print()"
   ]
  },
  {
   "cell_type": "code",
   "execution_count": 4,
   "metadata": {},
   "outputs": [],
   "source": [
    "def connect_and_query(db_path, query):\n",
    "    con = sqlite3.connect(db_path)\n",
    "    \n",
    "    cur = con.cursor()\n",
    "    cur.execute(query)\n",
    "    res = cur.fetchall()\n",
    "    desc = [d[0] for d in cur.description]\n",
    "    \n",
    "    con.close()\n",
    "    \n",
    "    return res, desc\n",
    "    \n",
    "    \n",
    "def create_db_path(db_dir, db_id):\n",
    "    return f\"{db_dir}{db_id}/{db_id}.sqlite\"\n",
    "\n",
    "\n",
    "def print_query_info(query, transformed_query, res, cols):\n",
    "    print()\n",
    "    print(\"#\" * 120)\n",
    "    print(f\"DB: {query['db_id']}\")\n",
    "    print(f\"Original Query: {query['query']}\")\n",
    "    print(f\"Transformed Query: {transformed_query}\")\n",
    "    print(f\"Question: {query['question']}\")\n",
    "    print()\n",
    "    display(pd.DataFrame(res, columns=cols))"
   ]
  },
  {
   "cell_type": "code",
   "execution_count": 7,
   "metadata": {},
   "outputs": [
    {
     "name": "stdout",
     "output_type": "stream",
     "text": [
      "5932 SELECT T2.company_name FROM movie AS T1 JOIN culture_company AS T2 ON T1.movie_id  =  T2.movie_id WHERE T1.year  =  1999\n"
     ]
    }
   ],
   "source": [
    "for ind, q in enumerate(queries):\n",
    "#     if ind > 5250:\n",
    "    clear_output(wait=True)\n",
    "    print(ind, q['query'])\n",
    "    _, _ = transform_query(q['query'])\n",
    "    "
   ]
  },
  {
   "cell_type": "code",
   "execution_count": 5,
   "metadata": {},
   "outputs": [
    {
     "name": "stdout",
     "output_type": "stream",
     "text": [
      "\n",
      "########################################################################################################################\n",
      "DB: club_1\n",
      "Original Query: SELECT t3.lname FROM club AS t1 JOIN member_of_club AS t2 ON t1.clubid  =  t2.clubid JOIN student AS t3 ON t2.stuid  =  t3.stuid WHERE t1.clubname  =  \"Bootup Baltimore\"\n",
      "Transformed Query: SELECT t3.lname AS \"student lname\", t1.clubname AS \"club clubname\" FROM club AS t1 JOIN member_of_club AS t2 ON t1.clubid = t2.clubid JOIN student AS t3 ON t2.stuid = t3.stuid WHERE t1.clubname = 'Bootup Baltimore' LIMIT 3\n",
      "Question: Find the last names of the members of the club \"Bootup Baltimore\".\n",
      "\n"
     ]
    },
    {
     "data": {
      "text/html": [
       "<div>\n",
       "<style scoped>\n",
       "    .dataframe tbody tr th:only-of-type {\n",
       "        vertical-align: middle;\n",
       "    }\n",
       "\n",
       "    .dataframe tbody tr th {\n",
       "        vertical-align: top;\n",
       "    }\n",
       "\n",
       "    .dataframe thead th {\n",
       "        text-align: right;\n",
       "    }\n",
       "</style>\n",
       "<table border=\"1\" class=\"dataframe\">\n",
       "  <thead>\n",
       "    <tr style=\"text-align: right;\">\n",
       "      <th></th>\n",
       "      <th>student lname</th>\n",
       "      <th>club clubname</th>\n",
       "    </tr>\n",
       "  </thead>\n",
       "  <tbody>\n",
       "    <tr>\n",
       "      <th>0</th>\n",
       "      <td>Smith</td>\n",
       "      <td>Bootup Baltimore</td>\n",
       "    </tr>\n",
       "    <tr>\n",
       "      <th>1</th>\n",
       "      <td>Lee</td>\n",
       "      <td>Bootup Baltimore</td>\n",
       "    </tr>\n",
       "  </tbody>\n",
       "</table>\n",
       "</div>"
      ],
      "text/plain": [
       "  student lname     club clubname\n",
       "0         Smith  Bootup Baltimore\n",
       "1           Lee  Bootup Baltimore"
      ]
     },
     "metadata": {},
     "output_type": "display_data"
    },
    {
     "ename": "KeyboardInterrupt",
     "evalue": "Interrupted by user",
     "output_type": "error",
     "traceback": [
      "\u001b[0;31m---------------------------------------------------------------------------\u001b[0m",
      "\u001b[0;31mKeyboardInterrupt\u001b[0m                         Traceback (most recent call last)",
      "\u001b[0;32m<ipython-input-5-ec5bb1d93456>\u001b[0m in \u001b[0;36m<module>\u001b[0;34m\u001b[0m\n\u001b[1;32m     16\u001b[0m \u001b[0;34m\u001b[0m\u001b[0m\n\u001b[1;32m     17\u001b[0m \u001b[0;34m\u001b[0m\u001b[0m\n\u001b[0;32m---> 18\u001b[0;31m     \u001b[0mstore_ind\u001b[0m \u001b[0;34m=\u001b[0m \u001b[0mint\u001b[0m\u001b[0;34m(\u001b[0m\u001b[0minput\u001b[0m\u001b[0;34m(\u001b[0m\u001b[0;34mf\"Store results file ind (previous: {last_ind}): \"\u001b[0m\u001b[0;34m)\u001b[0m\u001b[0;34m)\u001b[0m\u001b[0;34m\u001b[0m\u001b[0;34m\u001b[0m\u001b[0m\n\u001b[0m\u001b[1;32m     19\u001b[0m     \u001b[0;32mif\u001b[0m \u001b[0mstore_ind\u001b[0m \u001b[0;34m==\u001b[0m \u001b[0;34m-\u001b[0m\u001b[0;36m1\u001b[0m\u001b[0;34m:\u001b[0m\u001b[0;34m\u001b[0m\u001b[0;34m\u001b[0m\u001b[0m\n\u001b[1;32m     20\u001b[0m         \u001b[0;32mcontinue\u001b[0m\u001b[0;34m\u001b[0m\u001b[0;34m\u001b[0m\u001b[0m\n",
      "\u001b[0;32m~/anaconda3/envs/Data2Text/lib/python3.8/site-packages/ipykernel/kernelbase.py\u001b[0m in \u001b[0;36mraw_input\u001b[0;34m(self, prompt)\u001b[0m\n\u001b[1;32m    858\u001b[0m                 \u001b[0;34m\"raw_input was called, but this frontend does not support input requests.\"\u001b[0m\u001b[0;34m\u001b[0m\u001b[0;34m\u001b[0m\u001b[0m\n\u001b[1;32m    859\u001b[0m             )\n\u001b[0;32m--> 860\u001b[0;31m         return self._input_request(str(prompt),\n\u001b[0m\u001b[1;32m    861\u001b[0m             \u001b[0mself\u001b[0m\u001b[0;34m.\u001b[0m\u001b[0m_parent_ident\u001b[0m\u001b[0;34m,\u001b[0m\u001b[0;34m\u001b[0m\u001b[0;34m\u001b[0m\u001b[0m\n\u001b[1;32m    862\u001b[0m             \u001b[0mself\u001b[0m\u001b[0;34m.\u001b[0m\u001b[0m_parent_header\u001b[0m\u001b[0;34m,\u001b[0m\u001b[0;34m\u001b[0m\u001b[0;34m\u001b[0m\u001b[0m\n",
      "\u001b[0;32m~/anaconda3/envs/Data2Text/lib/python3.8/site-packages/ipykernel/kernelbase.py\u001b[0m in \u001b[0;36m_input_request\u001b[0;34m(self, prompt, ident, parent, password)\u001b[0m\n\u001b[1;32m    902\u001b[0m             \u001b[0;32mexcept\u001b[0m \u001b[0mKeyboardInterrupt\u001b[0m\u001b[0;34m:\u001b[0m\u001b[0;34m\u001b[0m\u001b[0;34m\u001b[0m\u001b[0m\n\u001b[1;32m    903\u001b[0m                 \u001b[0;31m# re-raise KeyboardInterrupt, to truncate traceback\u001b[0m\u001b[0;34m\u001b[0m\u001b[0;34m\u001b[0m\u001b[0;34m\u001b[0m\u001b[0m\n\u001b[0;32m--> 904\u001b[0;31m                 \u001b[0;32mraise\u001b[0m \u001b[0mKeyboardInterrupt\u001b[0m\u001b[0;34m(\u001b[0m\u001b[0;34m\"Interrupted by user\"\u001b[0m\u001b[0;34m)\u001b[0m \u001b[0;32mfrom\u001b[0m \u001b[0;32mNone\u001b[0m\u001b[0;34m\u001b[0m\u001b[0;34m\u001b[0m\u001b[0m\n\u001b[0m\u001b[1;32m    905\u001b[0m             \u001b[0;32mexcept\u001b[0m \u001b[0mException\u001b[0m \u001b[0;32mas\u001b[0m \u001b[0me\u001b[0m\u001b[0;34m:\u001b[0m\u001b[0;34m\u001b[0m\u001b[0;34m\u001b[0m\u001b[0m\n\u001b[1;32m    906\u001b[0m                 \u001b[0mself\u001b[0m\u001b[0;34m.\u001b[0m\u001b[0mlog\u001b[0m\u001b[0;34m.\u001b[0m\u001b[0mwarning\u001b[0m\u001b[0;34m(\u001b[0m\u001b[0;34m\"Invalid Message:\"\u001b[0m\u001b[0;34m,\u001b[0m \u001b[0mexc_info\u001b[0m\u001b[0;34m=\u001b[0m\u001b[0;32mTrue\u001b[0m\u001b[0;34m)\u001b[0m\u001b[0;34m\u001b[0m\u001b[0;34m\u001b[0m\u001b[0m\n",
      "\u001b[0;31mKeyboardInterrupt\u001b[0m: Interrupted by user"
     ]
    }
   ],
   "source": [
    "last_ind = -1\n",
    "\n",
    "for q in random.sample(queries, 500):\n",
    "    clear_output(wait=True)\n",
    "    try:\n",
    "        transformed_query, _ = transform_query(q['query'])\n",
    "    except KeyError:\n",
    "        raise KeyError(f\"Failed to transform {q['query']}\")\n",
    "    transformed_query = transformed_query[:-1] + '3'\n",
    "    \n",
    "    res, cols = connect_and_query(\n",
    "        create_db_path(DB_DIR, q['db_id']),\n",
    "        transformed_query\n",
    "    )\n",
    "    print_query_info(q, transformed_query, res, cols)\n",
    "    \n",
    "    \n",
    "    store_ind = int(input(f\"Store results file ind (previous: {last_ind}): \"))\n",
    "    if store_ind == -1:\n",
    "        continue\n",
    "    else:\n",
    "        pd.DataFrame(res, columns=cols).to_csv(f\"{ANNOTATED_QUERIES_DIR}q{store_ind}.csv\", index=False)\n",
    "        last_ind = store_ind\n",
    "    "
   ]
  },
  {
   "cell_type": "code",
   "execution_count": 31,
   "metadata": {},
   "outputs": [
    {
     "data": {
      "text/html": [
       "<div>\n",
       "<style scoped>\n",
       "    .dataframe tbody tr th:only-of-type {\n",
       "        vertical-align: middle;\n",
       "    }\n",
       "\n",
       "    .dataframe tbody tr th {\n",
       "        vertical-align: top;\n",
       "    }\n",
       "\n",
       "    .dataframe thead th {\n",
       "        text-align: right;\n",
       "    }\n",
       "</style>\n",
       "<table border=\"1\" class=\"dataframe\">\n",
       "  <thead>\n",
       "    <tr style=\"text-align: right;\">\n",
       "      <th></th>\n",
       "      <th>name</th>\n",
       "      <th>age</th>\n",
       "      <th>city</th>\n",
       "      <th>gender</th>\n",
       "      <th>job</th>\n",
       "    </tr>\n",
       "  </thead>\n",
       "  <tbody>\n",
       "    <tr>\n",
       "      <th>0</th>\n",
       "      <td>Alice</td>\n",
       "      <td>25</td>\n",
       "      <td>new york city</td>\n",
       "      <td>female</td>\n",
       "      <td>student</td>\n",
       "    </tr>\n",
       "    <tr>\n",
       "      <th>1</th>\n",
       "      <td>Bob</td>\n",
       "      <td>35</td>\n",
       "      <td>salt lake city</td>\n",
       "      <td>male</td>\n",
       "      <td>engineer</td>\n",
       "    </tr>\n",
       "  </tbody>\n",
       "</table>\n",
       "</div>"
      ],
      "text/plain": [
       "    name  age            city  gender       job\n",
       "0  Alice   25   new york city  female   student\n",
       "1    Bob   35  salt lake city    male  engineer"
      ]
     },
     "execution_count": 31,
     "metadata": {},
     "output_type": "execute_result"
    }
   ],
   "source": [
    "db_name = \"network_2\"\n",
    "query = \"SELECT * FROM Person LIMIT 2\"\n",
    "\n",
    "res, cols = connect_and_query(create_db_path(DB_DIR, db_name), query)\n",
    "\n",
    "pd.DataFrame(res, columns=cols)"
   ]
  },
  {
   "cell_type": "code",
   "execution_count": 14,
   "metadata": {},
   "outputs": [],
   "source": [
    "queries_sql = [{'query': q['query']} for q in queries]\n",
    "\n",
    "with open('../tests/resources/spider_queries.json', 'w') as outfile:\n",
    "    json.dump(queries_sql, outfile)"
   ]
  },
  {
   "cell_type": "markdown",
   "metadata": {},
   "source": [
    "### Benchmark Analysis\n"
   ]
  },
  {
   "cell_type": "code",
   "execution_count": 5,
   "metadata": {},
   "outputs": [],
   "source": [
    "# SPIDER_TRAIN_PATH = \"../storage/datasets/spider/original/train_spider.json\"\n",
    "SPIDER_TRAIN_PATH = \"../storage/datasets/spider/annotations/annotations_filtered.json\"\n",
    "\n",
    "with open(SPIDER_TRAIN_PATH, 'r') as file:\n",
    "    train_datapoints = json.load(file)\n",
    "\n",
    "# categorized_datapoints = categorize_spider(train_datapoints)\n",
    "categorized_datapoints = train_datapoints"
   ]
  },
  {
   "cell_type": "markdown",
   "metadata": {},
   "source": [
    "#### Queries per category"
   ]
  },
  {
   "cell_type": "code",
   "execution_count": 10,
   "metadata": {},
   "outputs": [
    {
     "data": {
      "text/plain": [
       "Counter({'join_aggregate': 680,\n",
       "         'join': 884,\n",
       "         'small_select': 750,\n",
       "         'aggregate_group_by': 733,\n",
       "         'aggregate': 719,\n",
       "         'large_select': 67})"
      ]
     },
     "execution_count": 10,
     "metadata": {},
     "output_type": "execute_result"
    }
   ],
   "source": [
    "categories = [datapoint['category'] for datapoint in categorized_datapoints]\n",
    "counted_categories = Counter(categories)\n",
    "counted_categories"
   ]
  },
  {
   "cell_type": "markdown",
   "metadata": {},
   "source": [
    "#### Number of JOINs"
   ]
  },
  {
   "cell_type": "code",
   "execution_count": 12,
   "metadata": {},
   "outputs": [
    {
     "data": {
      "text/plain": [
       "Counter({1: 591, 2: 261, 3: 27, 4: 5})"
      ]
     },
     "execution_count": 12,
     "metadata": {},
     "output_type": "execute_result"
    }
   ],
   "source": [
    "join_datapoints = [datapoint for datapoint in categorized_datapoints \n",
    "                   if datapoint['category'] == 'join']\n",
    "\n",
    "joins_numb = []\n",
    "\n",
    "for datapoint in join_datapoints:\n",
    "    query_info = QueryInfo(datapoint['original_query'])\n",
    "    joins_numb.append(query_info.joins['num'])\n",
    "    \n",
    "counted_joins = Counter(joins_numb)\n",
    "counted_joins"
   ]
  },
  {
   "cell_type": "markdown",
   "metadata": {},
   "source": [
    "#### SELECT size of JOINs"
   ]
  },
  {
   "cell_type": "code",
   "execution_count": 14,
   "metadata": {},
   "outputs": [
    {
     "data": {
      "text/plain": [
       "Counter({2: 297, 1: 521, 3: 50, 4: 10, 0: 5, 5: 1})"
      ]
     },
     "execution_count": 14,
     "metadata": {},
     "output_type": "execute_result"
    }
   ],
   "source": [
    "join_datapoints = [datapoint for datapoint in categorized_datapoints \n",
    "                   if datapoint['category'] == 'join']\n",
    "\n",
    "select_sizes = [QueryInfo(datapoint['original_query']).select['columns_num'] for datapoint in join_datapoints]\n",
    "\n",
    "counted_selects = Counter(select_sizes)\n",
    "counted_selects"
   ]
  },
  {
   "cell_type": "markdown",
   "metadata": {},
   "source": [
    "#### Number of COUNT(*) JOINs"
   ]
  },
  {
   "cell_type": "code",
   "execution_count": 18,
   "metadata": {},
   "outputs": [
    {
     "name": "stdout",
     "output_type": "stream",
     "text": [
      "118\n"
     ]
    }
   ],
   "source": [
    "join_datapoints = [datapoint for datapoint in categorized_datapoints \n",
    "                   if datapoint['category'] == 'join_aggregate']\n",
    "\n",
    "queries = [datapoint for datapoint in join_datapoints if 'count(*)' in datapoint['original_query'].split('FROM')[0].lower()]\n",
    "print(len(queries))"
   ]
  },
  {
   "cell_type": "code",
   "execution_count": 19,
   "metadata": {},
   "outputs": [
    {
     "name": "stdout",
     "output_type": "stream",
     "text": [
      "SELECT count(*) \n",
      " FROM courses AS T1 JOIN student_course_attendance AS T2 ON T1.course_id = T2.course_id \n",
      " WHERE T1.course_name = \"English\"\n",
      "SELECT count(*) \n",
      " FROM results AS T1 JOIN races AS T2 ON T1.raceid = T2.raceid \n",
      " WHERE T2.name = \"Australian Grand Prix\" AND YEAR = 2009\n",
      "SELECT T1.Product_Name ,  COUNT(*) \n",
      " FROM Products AS T1 JOIN Products_in_Events AS T2 ON T1.Product_ID  =  T2.Product_ID \n",
      " GROUP BY T1.Product_Name ORDER BY COUNT(*) DESC\n",
      "SELECT count(*) ,  T1.name \n",
      " FROM airports AS T1 JOIN routes AS T2 ON T1.apid  =  T2.src_apid \n",
      " GROUP BY T1.name\n",
      "SELECT T1.Aircraft ,  COUNT(*) \n",
      " FROM aircraft AS T1 JOIN MATCH AS T2 ON T1.Aircraft_ID  =  T2.Winning_Aircraft \n",
      " GROUP BY T2.Winning_Aircraft\n",
      "SELECT COUNT(*) \n",
      " FROM ALBUM AS T1 JOIN ARTIST AS T2 ON T1.ArtistId  =  T2.ArtistId \n",
      " WHERE T2.Name  =  \"Metallica\"\n",
      "SELECT T1.Service_Type_Description ,  T2.Service_Type_Code ,  COUNT(*) \n",
      " FROM Ref_Service_Types AS T1 JOIN Services AS T2 ON T1.Service_Type_Code  =  T2.Service_Type_Code \n",
      " GROUP BY T2.Service_Type_Code\n",
      "SELECT T1.Product_Name ,  COUNT(*) \n",
      " FROM Products AS T1 JOIN Products_in_Events AS T2 ON T1.Product_ID  =  T2.Product_ID \n",
      " GROUP BY T1.Product_Name ORDER BY COUNT(*) DESC\n",
      "SELECT T2.department_name ,  COUNT(*) \n",
      " FROM employees AS T1 JOIN departments AS T2 ON T1.department_id  =  T2.department_id \n",
      " GROUP BY T2.department_name\n",
      "SELECT count(*) ,  T1.blockfloor \n",
      " FROM BLOCK AS T1 JOIN room AS T2 ON T1.blockfloor  =  T2.blockfloor AND T1.blockcode  =  T2.blockcode \n",
      " GROUP BY T1.blockfloor\n",
      "SELECT count(*) \n",
      " FROM STUDENT AS T1 JOIN VOTING_RECORD AS T2 ON T1.StuID  =  Class_Senator_Vote \n",
      " WHERE T1.Sex  =  \"M\" AND T2.Election_Cycle  =  \"Fall\"\n",
      "SELECT T1.County_name ,  COUNT(*) \n",
      " FROM county AS T1 JOIN election AS T2 ON T1.County_id  =  T2.District \n",
      " GROUP BY T1.County_id\n",
      "SELECT T1.name ,  COUNT(*) \n",
      " FROM genres AS T1 JOIN tracks AS T2 ON T2.genre_id  =  T1.id \n",
      " GROUP BY T1.id ORDER BY count(*) DESC LIMIT 5;\n",
      "SELECT T1.County_name ,  COUNT(*) \n",
      " FROM county AS T1 JOIN election AS T2 ON T1.County_id  =  T2.District \n",
      " GROUP BY T1.County_id\n",
      "SELECT T2.dept_name ,  T2.dept_address ,  count(*) \n",
      " FROM student AS T1 JOIN department AS T2 ON T1.dept_code  =  T2.dept_code \n",
      " GROUP BY T1.dept_code ORDER BY count(*) DESC LIMIT 3\n",
      "SELECT T3.product_name ,  count(*) \n",
      " FROM orders AS T1 JOIN order_items AS T2 JOIN products AS T3 ON T1.order_id = T2.order_id AND T2.product_id = T3.product_id \n",
      " GROUP BY T3.product_id\n",
      "SELECT count(*) \n",
      " FROM professor AS T1 JOIN department AS T2 ON T1.dept_code  =  T2.dept_code \n",
      " WHERE DEPT_NAME  =  \"Accounting\"\n",
      "SELECT count(*) \n",
      " FROM Lessons AS T1 JOIN Customers AS T2 ON T1.customer_id  = T2.customer_id \n",
      " WHERE T2.first_name = \"Ray\"\n",
      "SELECT count(*) \n",
      " FROM station AS T1 JOIN trip AS T2 JOIN station AS T3 JOIN trip AS T4 ON T1.id  =  T2.start_station_id AND T2.id  =  T4.id AND T3.id  =  T4.end_station_id \n",
      " WHERE T1.city  =  \"Mountain View\" AND T3.city  =  \"Palo Alto\"\n",
      "SELECT count(*) \n",
      " FROM city AS T1 JOIN country AS T2 ON T1.country_id  =  T2.country_id \n",
      " WHERE T2.country  =  'Australia'\n",
      "SELECT T1.name ,  count(*) \n",
      " FROM storm AS T1 JOIN affected_region AS T2 ON T1.storm_id  =  T2.storm_id \n",
      " GROUP BY T1.storm_id\n",
      "SELECT count(*) \n",
      " FROM airlines AS T1 JOIN routes AS T2 ON T1.alid  =  T2.alid \n",
      " WHERE T1.name  =  'American Airlines'\n",
      "SELECT count(*) \n",
      " FROM salary AS T1 JOIN team AS T2 ON T1.team_id  =  T2.team_id_br \n",
      " WHERE T2.name  = 'Boston Red Stockings' AND T1.year  =  2000\n",
      "SELECT count(*) ,  T1.school_code \n",
      " FROM department AS T1 JOIN professor AS T2 ON T1.dept_code  =  T2.dept_code \n",
      " GROUP BY T1.school_code\n",
      "SELECT count(*) ,  T3.school_code \n",
      " FROM CLASS AS T1 JOIN course AS T2 ON T1.crs_code  =  T2.crs_code JOIN department AS T3 ON T2.dept_code  =  T3.dept_code \n",
      " GROUP BY T3.school_code\n",
      "SELECT T3.Name ,  COUNT(*) \n",
      " FROM employment AS T1 JOIN people AS T2 ON T1.People_ID  =  T2.People_ID JOIN company AS T3 ON T1.Company_ID  =  T3.Company_ID \n",
      " GROUP BY T3.Name\n",
      "SELECT count(*) \n",
      " FROM routes AS T1 JOIN airports AS T2 ON T1.dst_apid  =  T2.apid JOIN airlines AS T3 ON T1.alid  =  T3.alid \n",
      " WHERE T2.country  =  'Italy' AND T3.name  =  'American Airlines'\n",
      "SELECT count(*) ,  T1.name \n",
      " FROM projects AS T1 JOIN assignedto AS T2 ON T1.code  =  T2.project \n",
      " WHERE T1.hours  >  300 \n",
      " GROUP BY T1.name\n",
      "SELECT t3.headquartered_city ,  count(*) \n",
      " FROM store AS t1 JOIN store_district AS t2 ON t1.store_id  =  t2.store_id JOIN district AS t3 ON t2.district_id  =  t3.district_id \n",
      " GROUP BY t3.headquartered_city\n",
      "SELECT T1.Service_Type_Description ,  T2.Service_Type_Code ,  COUNT(*) \n",
      " FROM Ref_Service_Types AS T1 JOIN Services AS T2 ON T1.Service_Type_Code  =  T2.Service_Type_Code \n",
      " GROUP BY T2.Service_Type_Code\n",
      "SELECT T1.rank ,  count(*) \n",
      " FROM Faculty AS T1 JOIN Student AS T2 ON T1.FacID  =  T2.advisor \n",
      " GROUP BY T1.rank\n",
      "SELECT count(*) \n",
      " FROM professor AS T1 JOIN department AS T2 ON T1.dept_code  =  T2.dept_code \n",
      " WHERE DEPT_NAME  =  \"Accounting\"\n",
      "SELECT count(*) \n",
      " FROM Lessons AS T1 JOIN Customers AS T2 ON T1.customer_id  = T2.customer_id \n",
      " WHERE T2.first_name = \"Rylan\" AND T2.last_name = \"Goodwin\" AND T1.lesson_status_code = \"Completed\";\n",
      "SELECT count(*) \n",
      " FROM professor AS T1 JOIN department AS T2 ON T1.dept_code  =  T2.dept_code \n",
      " WHERE T2.dept_name  =  'Accounting' OR T2.dept_name  =  'Biology'\n",
      "SELECT count(*) \n",
      " FROM Faculty AS T1 JOIN Faculty_participates_in AS T2 ON T1.facID  =  T2.facID \n",
      " WHERE T1.fname  =  \"Mark\" AND T1.lname  =  \"Giuliano\"\n",
      "SELECT COUNT(*) \n",
      " FROM ALBUM AS T1 JOIN ARTIST AS T2 ON T1.ArtistId  =  T2.ArtistId \n",
      " WHERE T2.Name  =  \"Metallica\"\n",
      "SELECT count(*) \n",
      " FROM home_game AS T1 JOIN park AS T2 ON T1.park_id  =  T2.park_id \n",
      " WHERE T1.year = 1907 AND T2.park_name = 'Columbia Park';\n",
      "SELECT count(*) \n",
      " FROM student AS T1 JOIN lives_in AS T2 ON T1.stuid  =  T2.stuid JOIN dorm AS T3 ON T3.dormid  =  T2.dormid \n",
      " WHERE T3.gender  =  'M'\n",
      "SELECT t1.product_name ,  count(*) \n",
      " FROM products AS t1 JOIN complaints AS t2 ON t1.product_id  =  t2.product_id \n",
      " GROUP BY t1.product_name\n",
      "SELECT T1.region_name ,  count(*) \n",
      " FROM region AS T1 JOIN affected_region AS T2 ON T1.region_id = T2.region_id \n",
      " GROUP BY T1.region_id\n",
      "SELECT count(*) \n",
      " FROM exhibition_record AS T1 JOIN exhibition AS T2 ON T1.exhibition_id  =  T2.exhibition_id \n",
      " WHERE T1.attendance  >  100 OR T2.ticket_price  <  10\n",
      "SELECT T2.Hometown ,  COUNT(*) \n",
      " FROM gymnast AS T1 JOIN people AS T2 ON T1.Gymnast_ID  =  T2.People_ID \n",
      " GROUP BY T2.Hometown\n",
      "SELECT avg(T1.salary) ,  count(*) \n",
      " FROM instructor AS T1 JOIN department AS T2 ON T1.dept_name  =  T2.dept_name ORDER BY T2.budget DESC\n",
      "SELECT count(*) \n",
      " FROM Ref_Shipping_Agents JOIN Documents ON Documents.shipping_agent_code = Ref_Shipping_Agents.shipping_agent_code \n",
      " WHERE Ref_Shipping_Agents.shipping_agent_name = \"USPS\";\n",
      "SELECT count(*) \n",
      " FROM customers AS T1 JOIN invoices AS T2 ON T1.id = T2.customer_id \n",
      " WHERE T1.first_name = \"Lucas\" AND T1.last_name = \"Mancini\";\n",
      "SELECT count(*) ,  T1.blockcode \n",
      " FROM BLOCK AS T1 JOIN room AS T2 ON T1.blockfloor  =  T2.blockfloor AND T1.blockcode  =  T2.blockcode \n",
      " GROUP BY T1.blockcode\n",
      "SELECT T2.party_name ,  count(*) \n",
      " FROM Member AS T1 JOIN party AS T2 ON T1.party_id  =  T2.party_id \n",
      " GROUP BY T1.party_id\n",
      "SELECT count(*) \n",
      " FROM employee AS T1 JOIN CLASS AS T2 ON T1.EMP_NUM  =  T2.PROF_NUM \n",
      " WHERE T1.EMP_LNAME  =  'Graztevski'\n",
      "SELECT T1.City_Town ,  count(*) \n",
      " FROM Addresses AS T1 JOIN Drama_Workshop_Groups AS T2 ON T1.Address_ID  =  T2.Address_ID \n",
      " GROUP BY T1.City_Town\n",
      "SELECT T2.roomName ,  count(*) ,  T1.Room \n",
      " FROM Reservations AS T1 JOIN Rooms AS T2 ON T1.Room  =  T2.RoomId \n",
      " GROUP BY T1.Room\n",
      "SELECT count(*) \n",
      " FROM salary AS T1 JOIN team AS T2 ON T1.team_id  =  T2.team_id_br \n",
      " WHERE T2.name  = 'Boston Red Stockings' AND T1.year  =  2000\n",
      "SELECT count(*) \n",
      " FROM department_stores AS T1 JOIN department_store_chain AS T2 ON T1.dept_store_chain_id  =  T2.dept_store_chain_id \n",
      " WHERE T2.dept_store_chain_name  =  \"South\"\n",
      "SELECT count(*) ,  T1.blockcode \n",
      " FROM BLOCK AS T1 JOIN room AS T2 ON T1.blockfloor  =  T2.blockfloor AND T1.blockcode  =  T2.blockcode \n",
      " GROUP BY T1.blockcode\n",
      "SELECT avg(T1.salary) ,  count(*) \n",
      " FROM instructor AS T1 JOIN department AS T2 ON T1.dept_name  =  T2.dept_name ORDER BY T2.budget DESC\n",
      "SELECT count(*) ,  T1.name \n",
      " FROM accounts AS T1 JOIN checking AS T2 ON T1.custid  =  T2.custid \n",
      " GROUP BY T1.name\n",
      "SELECT T2.Name ,  COUNT(*) \n",
      " FROM actor AS T1 JOIN musical AS T2 ON T1.Musical_ID  =  T2.Musical_ID \n",
      " GROUP BY T1.Musical_ID\n",
      "SELECT T2.name ,  count(*) \n",
      " FROM Flight AS T1 JOIN Aircraft AS T2 ON T1.aid  =  T2.aid \n",
      " GROUP BY T1.aid\n",
      "SELECT count(*) \n",
      " FROM Financial_transactions AS T1 JOIN Accounts AS T2 ON T1.account_id  =  T2.account_id \n",
      " WHERE T2.account_name  =  \"337\"\n",
      "SELECT T2.party_name ,  count(*) \n",
      " FROM Member AS T1 JOIN party AS T2 ON T1.party_id  =  T2.party_id \n",
      " GROUP BY T1.party_id\n",
      "SELECT department_name ,  COUNT(*) \n",
      " FROM employees AS T1 JOIN departments AS T2 ON T1.department_id  =  T2.department_id \n",
      " GROUP BY department_name\n",
      "SELECT count(*) ,  T1.name \n",
      " FROM medication AS T1 JOIN prescribes AS T2 ON T1.code = T2.medication \n",
      " GROUP BY T1.brand\n",
      "SELECT T1.name ,  count(*) \n",
      " FROM building AS T1 JOIN institution AS T2 ON T1.building_id  =  T2.building_id \n",
      " GROUP BY T1.building_id\n",
      "SELECT T2.Name ,  COUNT(*) \n",
      " FROM actor AS T1 JOIN musical AS T2 ON T1.Musical_ID  =  T2.Musical_ID \n",
      " GROUP BY T1.Musical_ID\n",
      "SELECT T1.name ,  count(*) \n",
      " FROM storm AS T1 JOIN affected_region AS T2 ON T1.storm_id  =  T2.storm_id \n",
      " GROUP BY T1.storm_id\n",
      "SELECT t3.headquartered_city ,  count(*) \n",
      " FROM store AS t1 JOIN store_district AS t2 ON t1.store_id  =  t2.store_id JOIN district AS t3 ON t2.district_id  =  t3.district_id \n",
      " GROUP BY t3.headquartered_city\n",
      "SELECT count(*) ,  t1.name \n",
      " FROM manufacturer AS t1 JOIN furniture_manufacte AS t2 ON t1.manufacturer_id  =  t2.manufacturer_id \n",
      " GROUP BY t1.manufacturer_id\n",
      "SELECT COUNT(*) \n",
      " FROM MEDIATYPE AS T1 JOIN TRACK AS T2 ON T1.MediaTypeId  =  T2.MediaTypeId \n",
      " WHERE T1.Name  =  \"AAC audio file\"\n",
      "SELECT count(*) \n",
      " FROM exhibition_record AS T1 JOIN exhibition AS T2 ON T1.exhibition_id  =  T2.exhibition_id \n",
      " WHERE T1.attendance  >  100 OR T2.ticket_price  <  10\n",
      "SELECT count(*) ,  T1.product_name \n",
      " FROM product AS T1 JOIN problems AS T2 ON T1.product_id = T2.product_id \n",
      " GROUP BY T1.product_name ORDER BY count(*) DESC\n",
      "SELECT count(*) \n",
      " FROM customers AS T1 JOIN invoices AS T2 ON T1.id = T2.customer_id \n",
      " WHERE T1.first_name = \"Lucas\" AND T1.last_name = \"Mancini\";\n",
      "SELECT count(*) \n",
      " FROM customers AS t1 JOIN customer_addresses AS t2 ON t1.customer_id  =  t2.customer_id JOIN addresses AS t3 ON t2.address_id  =  t3.address_id \n",
      " WHERE t3.city  =  \"Lake Geovannyton\"\n",
      "SELECT T1.course_name ,  COUNT(*) \n",
      " FROM Courses AS T1 JOIN Student_Course_Enrolment AS T2 ON T1.course_id  =  T2.course_id \n",
      " GROUP BY T1.course_name\n",
      "SELECT T1.name ,  count(*) \n",
      " FROM storm AS T1 JOIN affected_region AS T2 ON T1.storm_id  =  T2.storm_id \n",
      " GROUP BY T1.storm_id\n",
      "SELECT count(*) \n",
      " FROM purchase AS T1 JOIN member AS T2 ON T1.member_id  =  T2.member_id \n",
      " WHERE T2.level  =  6\n",
      "SELECT T3.product_name ,  count(*) \n",
      " FROM orders AS T1 JOIN order_items AS T2 JOIN products AS T3 ON T1.order_id = T2.order_id AND T2.product_id = T3.product_id \n",
      " GROUP BY T3.product_id\n",
      "SELECT T2.Name ,  COUNT(*) \n",
      " FROM repair_assignment AS T1 JOIN technician AS T2 ON T1.technician_ID  =  T2.technician_ID \n",
      " GROUP BY T2.Name\n",
      "SELECT T2.Name ,  COUNT(*) \n",
      " FROM debate_people AS T1 JOIN people AS T2 ON T1.Affirmative  =  T2.People_ID \n",
      " GROUP BY T2.Name\n",
      "SELECT T1.part_name ,  count(*) \n",
      " FROM Parts AS T1 JOIN Asset_Parts AS T2 ON T1.part_id  =  T2.part_id \n",
      " GROUP BY T1.part_name\n",
      "SELECT count(*) \n",
      " FROM STUDENT AS T1 JOIN VOTING_RECORD AS T2 ON T1.StuID  =  Class_Senator_Vote \n",
      " WHERE T1.Sex  =  \"M\" AND T2.Election_Cycle  =  \"Fall\"\n",
      "SELECT count(*) \n",
      " FROM CLASS AS T1 JOIN enroll AS T2 ON T1.class_code  =  T2.class_code \n",
      " WHERE T1.crs_code  =  'ACCT-211'\n",
      "SELECT T3.Name ,  COUNT(*) \n",
      " FROM news_report AS T1 JOIN event AS T2 ON T1.Event_ID  =  T2.Event_ID JOIN journalist AS T3 ON T1.journalist_ID  =  T3.journalist_ID \n",
      " GROUP BY T3.Name\n",
      "SELECT T1.country ,  T1.name ,  count(*) \n",
      " FROM airlines AS T1 JOIN routes AS T2 ON T1.alid  =  T2.alid \n",
      " GROUP BY T1.country ,  T1.name\n",
      "SELECT T1.County_name ,  COUNT(*) \n",
      " FROM county AS T1 JOIN election AS T2 ON T1.County_id  =  T2.District \n",
      " GROUP BY T1.County_id\n",
      "SELECT T2.name ,  count(*) \n",
      " FROM exhibition AS T1 JOIN artist AS T2 ON T1.artist_id  =  T2.artist_id \n",
      " GROUP BY T1.artist_id\n",
      "SELECT count(*) \n",
      " FROM courses AS T1 JOIN student_course_attendance AS T2 ON T1.course_id = T2.course_id \n",
      " WHERE T1.course_name = \"English\"\n",
      "SELECT count(*) ,  T1.dormid \n",
      " FROM dorm AS T1 JOIN has_amenity AS T2 ON T1.dormid  =  T2.dormid \n",
      " WHERE T1.student_capacity  >  100 \n",
      " GROUP BY T1.dormid\n",
      "SELECT count(*) \n",
      " FROM purchase AS T1 JOIN member AS T2 ON T1.member_id  =  T2.member_id \n",
      " WHERE T2.level  =  6\n",
      "SELECT count(*) \n",
      " FROM CLASS AS T1 JOIN enroll AS T2 ON T1.class_code  =  T2.class_code JOIN course AS T3 ON T1.crs_code  =  T3.crs_code JOIN department AS T4 ON T3.dept_code  =  T4.dept_code \n",
      " WHERE T4.dept_name  =  'Accounting'\n",
      "SELECT count(*) \n",
      " FROM home_game AS T1 JOIN park AS T2 ON T1.park_id  =  T2.park_id \n",
      " WHERE T1.year = 1907 AND T2.park_name = 'Columbia Park';\n",
      "SELECT t3.headquartered_city ,  count(*) \n",
      " FROM store AS t1 JOIN store_district AS t2 ON t1.store_id  =  t2.store_id JOIN district AS t3 ON t2.district_id  =  t3.district_id \n",
      " GROUP BY t3.headquartered_city\n",
      "SELECT count(*) \n",
      " FROM Accounts AS T1 JOIN Customers AS T2 ON T1.customer_id  =  T2.customer_id \n",
      " WHERE T2.customer_first_name  =  \"Art\" AND T2.customer_last_name  =  \"Turcotte\"\n",
      "SELECT count(*) \n",
      " FROM professor AS T1 JOIN department AS T2 ON T1.dept_code  =  T2.dept_code \n",
      " WHERE DEPT_NAME  =  \"Accounting\"\n",
      "SELECT count(*) \n",
      " FROM trip AS T1 JOIN station AS T2 ON T1.end_station_id  =  T2.id \n",
      " WHERE T2.city !=  \"San Francisco\"\n",
      "SELECT count(*) \n",
      " FROM routes AS T1 JOIN airports AS T2 ON T1.dst_apid  =  T2.apid JOIN airlines AS T3 ON T1.alid  =  T3.alid \n",
      " WHERE T2.country  =  'Italy' AND T3.name  =  'American Airlines'\n",
      "SELECT count(*) ,  T1.name \n",
      " FROM medication AS T1 JOIN prescribes AS T2 ON T1.code = T2.medication \n",
      " GROUP BY T1.brand\n",
      "SELECT count(*) \n",
      " FROM club AS t1 JOIN member_of_club AS t2 ON t1.clubid  =  t2.clubid JOIN student AS t3 ON t2.stuid  =  t3.stuid \n",
      " WHERE t3.fname  =  \"Linda\" AND t3.lname  =  \"Smith\"\n",
      "SELECT Country_name ,  COUNT(*) \n",
      " FROM country AS T1 JOIN match_season AS T2 ON T1.Country_id  =  T2.Country \n",
      " GROUP BY T1.Country_name\n",
      "SELECT count(*) \n",
      " FROM trip AS T1 JOIN station AS T2 ON T1.end_station_id  =  T2.id \n",
      " WHERE T2.city !=  \"San Francisco\"\n",
      "SELECT count(*) \n",
      " FROM airports AS T1 JOIN routes AS T2 ON T1.apid  =  T2.dst_apid \n",
      " WHERE T1.name  =  'John F Kennedy International Airport'\n",
      "SELECT count(*) \n",
      " FROM professor AS T1 JOIN department AS T2 ON T1.dept_code  =  T2.dept_code \n",
      " WHERE T2.dept_name  =  'Accounting' OR T2.dept_name  =  'Biology'\n",
      "SELECT T2.department_name ,  COUNT(*) \n",
      " FROM employees AS T1 JOIN departments AS T2 ON T1.department_id  =  T2.department_id \n",
      " GROUP BY T2.department_name\n",
      "SELECT T2.Party ,  COUNT(*) \n",
      " FROM election AS T1 JOIN party AS T2 ON T1.Party  =  T2.Party_ID \n",
      " GROUP BY T1.Party\n",
      "SELECT count(*) ,  T1.name \n",
      " FROM scientists AS T1 JOIN assignedto AS T2 ON T1.ssn  =  T2.scientist \n",
      " GROUP BY T1.name\n",
      "SELECT T3.Name ,  COUNT(*) \n",
      " FROM news_report AS T1 JOIN event AS T2 ON T1.Event_ID  =  T2.Event_ID JOIN journalist AS T3 ON T1.journalist_ID  =  T3.journalist_ID \n",
      " GROUP BY T3.Name\n",
      "SELECT avg(T1.salary) ,  count(*) \n",
      " FROM instructor AS T1 JOIN department AS T2 ON T1.dept_name  =  T2.dept_name ORDER BY T2.budget DESC\n",
      "SELECT count(*) \n",
      " FROM department_stores AS T1 JOIN department_store_chain AS T2 ON T1.dept_store_chain_id  =  T2.dept_store_chain_id \n",
      " WHERE T2.dept_store_chain_name  =  \"South\"\n",
      "SELECT T1.country ,  T1.name ,  count(*) \n",
      " FROM airlines AS T1 JOIN routes AS T2 ON T1.alid  =  T2.alid \n",
      " GROUP BY T1.country ,  T1.name\n",
      "SELECT count(*) \n",
      " FROM student AS T1 JOIN lives_in AS T2 ON T1.stuid  =  T2.stuid JOIN dorm AS T3 ON T3.dormid  =  T2.dormid \n",
      " WHERE T3.gender  =  'M'\n",
      "SELECT T2.product_name ,  count(*) \n",
      " FROM Order_items AS T1 JOIN Products AS T2 ON T1.product_id  =  T2.product_id JOIN Orders AS T3 ON T3.order_id  =  T1.order_id \n",
      " GROUP BY T2.product_name\n",
      "SELECT count(*) ,  T1.year \n",
      " FROM postseason AS T1 JOIN team AS T2 ON T1.team_id_winner  =  T2.team_id_br \n",
      " WHERE T2.name  =  'Boston Red Stockings' \n",
      " GROUP BY T1.year\n",
      "SELECT count(*) \n",
      " FROM airports AS T1 JOIN routes AS T2 ON T1.apid  =  T2.dst_apid \n",
      " WHERE T1.name  =  'John F Kennedy International Airport'\n",
      "SELECT count(*) \n",
      " FROM results AS T1 JOIN races AS T2 ON T1.raceid = T2.raceid \n",
      " WHERE T2.name = \"Australian Grand Prix\" AND YEAR = 2009\n",
      "SELECT T2.party_name ,  count(*) \n",
      " FROM Member AS T1 JOIN party AS T2 ON T1.party_id  =  T2.party_id \n",
      " GROUP BY T1.party_id\n",
      "SELECT count(*) \n",
      " FROM airports AS T1 JOIN routes AS T2 ON T1.apid  =  T2.dst_apid \n",
      " WHERE country  =  'Canada'\n",
      "SELECT count(*) \n",
      " FROM department_stores AS T1 JOIN department_store_chain AS T2 ON T1.dept_store_chain_id  =  T2.dept_store_chain_id \n",
      " WHERE T2.dept_store_chain_name  =  \"South\"\n",
      "SELECT count(*) ,  T2.name \n",
      " FROM products AS T1 JOIN manufacturers AS T2 ON T1.Manufacturer  =  T2.code \n",
      " GROUP BY T2.name\n",
      "SELECT count(*) \n",
      " FROM customers AS t1 JOIN customers_policies AS t2 ON t1.customer_id  =  t2.customer_id \n",
      " WHERE t1.customer_name  =  \"Dayana Robel\"\n",
      "SELECT T1.student_id ,  count(*) \n",
      " FROM students AS T1 JOIN student_course_registrations AS T2 ON T1.student_id = T2.student_id \n",
      " GROUP BY T1.student_id\n"
     ]
    }
   ],
   "source": [
    "for i in queries:\n",
    "    print(i['original_query'])"
   ]
  },
  {
   "cell_type": "markdown",
   "metadata": {},
   "source": [
    "## QR2T Benchmarck\n"
   ]
  },
  {
   "cell_type": "code",
   "execution_count": 6,
   "metadata": {},
   "outputs": [
    {
     "name": "stdout",
     "output_type": "stream",
     "text": [
      "../storage/datasets/spider/annotations/label_studio/exports/04_18_2022__15_07_53/Stavroula.json\n",
      "../storage/datasets/spider/annotations/label_studio/exports/04_18_2022__15_07_53/Giorgos.json\n",
      "../storage/datasets/spider/annotations/label_studio/exports/04_18_2022__15_07_53/Anna.json\n",
      "../storage/datasets/spider/annotations/label_studio/exports/04_18_2022__15_07_53/Mike.json\n",
      "../storage/datasets/spider/annotations/label_studio/exports/04_18_2022__15_07_53/Chris.json\n",
      "../storage/datasets/spider/annotations/label_studio/exports/04_18_2022__15_07_53/Katerina.json\n",
      "../storage/datasets/spider/annotations/label_studio/exports/04_18_2022__15_07_53/Apostolis.json\n",
      "../storage/datasets/spider/annotations/label_studio/exports/04_18_2022__15_07_53/Antonis.json\n",
      "Total annotations: 2548\n"
     ]
    }
   ],
   "source": [
    "annotations_dir = '../storage/datasets/spider/annotations/label_studio/exports/04_18_2022__15_07_53/'\n",
    "\n",
    "annotations = []\n",
    "\n",
    "for annotation_file in glob.glob(annotations_dir + \"*\"):\n",
    "    print(annotation_file)\n",
    "    with open(annotation_file) as json_file:\n",
    "        annotations.extend(json.load(json_file))\n",
    "\n",
    "print(f\"Total annotations: {len(annotations)}\")\n",
    "\n",
    "annotation_dict = defaultdict(list)\n",
    "for annotation in annotations:\n",
    "    annotation_dict[annotation['data']['id']].append(annotation)"
   ]
  },
  {
   "cell_type": "code",
   "execution_count": 9,
   "metadata": {},
   "outputs": [
    {
     "data": {
      "text/plain": [
       "Counter({1: 1121, 3: 433, 2: 64})"
      ]
     },
     "execution_count": 9,
     "metadata": {},
     "output_type": "execute_result"
    }
   ],
   "source": [
    "query_ids = [annotation['data']['id'] for annotation in annotations]\n",
    "\n",
    "counted_ids = Counter(list(Counter(query_ids).values()))\n",
    "counted_ids"
   ]
  },
  {
   "cell_type": "code",
   "execution_count": 12,
   "metadata": {},
   "outputs": [
    {
     "data": {
      "text/plain": [
       "Counter({'small_select': 534,\n",
       "         'join_aggregate': 142,\n",
       "         'aggregate': 429,\n",
       "         'join': 307,\n",
       "         'aggregate_group_by': 139,\n",
       "         'large_select': 67})"
      ]
     },
     "execution_count": 12,
     "metadata": {},
     "output_type": "execute_result"
    }
   ],
   "source": [
    "query_categories = [annotation[0]['data']['category'] for annotation in annotation_dict.values()]\n",
    "\n",
    "counted_categories = Counter(query_categories)\n",
    "counted_categories"
   ]
  }
 ],
 "metadata": {
  "kernelspec": {
   "display_name": "Python [conda env:Data2Text]",
   "language": "python",
   "name": "conda-env-Data2Text-py"
  },
  "language_info": {
   "codemirror_mode": {
    "name": "ipython",
    "version": 3
   },
   "file_extension": ".py",
   "mimetype": "text/x-python",
   "name": "python",
   "nbconvert_exporter": "python",
   "pygments_lexer": "ipython3",
   "version": "3.8.12"
  }
 },
 "nbformat": 4,
 "nbformat_minor": 4
}
