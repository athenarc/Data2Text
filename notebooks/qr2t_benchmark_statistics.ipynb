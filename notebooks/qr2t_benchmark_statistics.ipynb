{
 "cells": [
  {
   "cell_type": "code",
   "execution_count": 3,
   "id": "6e9edd06-c2f1-4070-9c0d-86bc44d57feb",
   "metadata": {},
   "outputs": [
    {
     "ename": "ModuleNotFoundError",
     "evalue": "No module named 'mo_sql_parsing'",
     "output_type": "error",
     "traceback": [
      "\u001b[0;31m---------------------------------------------------------------------------\u001b[0m",
      "\u001b[0;31mModuleNotFoundError\u001b[0m                       Traceback (most recent call last)",
      "Cell \u001b[0;32mIn[3], line 5\u001b[0m\n\u001b[1;32m      2\u001b[0m \u001b[38;5;28;01mimport\u001b[39;00m \u001b[38;5;21;01mrandom\u001b[39;00m\n\u001b[1;32m      3\u001b[0m \u001b[38;5;28;01mimport\u001b[39;00m \u001b[38;5;21;01mpandas\u001b[39;00m \u001b[38;5;28;01mas\u001b[39;00m \u001b[38;5;21;01mpd\u001b[39;00m\n\u001b[0;32m----> 5\u001b[0m \u001b[38;5;28;01mimport\u001b[39;00m \u001b[38;5;21;01mmo_sql_parsing\u001b[39;00m\n\u001b[1;32m      7\u001b[0m \u001b[38;5;28;01mimport\u001b[39;00m \u001b[38;5;21;01mnumpy\u001b[39;00m \u001b[38;5;28;01mas\u001b[39;00m \u001b[38;5;21;01mnp\u001b[39;00m\n\u001b[1;32m      8\u001b[0m \u001b[38;5;28;01mfrom\u001b[39;00m \u001b[38;5;21;01mtqdm\u001b[39;00m \u001b[38;5;28;01mimport\u001b[39;00m tqdm\n",
      "\u001b[0;31mModuleNotFoundError\u001b[0m: No module named 'mo_sql_parsing'"
     ]
    }
   ],
   "source": [
    "import json\n",
    "import random\n",
    "import pandas as pd\n",
    "\n",
    "import mo_sql_parsing\n",
    "\n",
    "import numpy as np\n",
    "from tqdm import tqdm"
   ]
  },
  {
   "cell_type": "code",
   "execution_count": 6,
   "id": "4517eb49-6bfb-418c-ad03-ec97caa5babc",
   "metadata": {},
   "outputs": [],
   "source": [
    "def is_small_select(query_info):\n",
    "    if query_info.select['columns_num'] <= 2 and \\\n",
    "            query_info.select['*'] is False and \\\n",
    "            query_info.flags['groupby'] is False and \\\n",
    "            query_info.flags['having'] is False and \\\n",
    "            query_info.flags['joins'] is False and \\\n",
    "            query_info.flags['aggregates'] is False and \\\n",
    "            query_info.flags['distinct'] is False and \\\n",
    "            query_info.flags['orderby'] is False:\n",
    "        return True\n",
    "    return False\n",
    "\n",
    "\n",
    "def is_large_select(query_info):\n",
    "    if (query_info.select['columns_num'] > 2 or query_info.select['*'] is True) and\\\n",
    "            query_info.flags['groupby'] is False and \\\n",
    "            query_info.flags['having'] is False and \\\n",
    "            query_info.flags['joins'] is False and \\\n",
    "            query_info.flags['aggregates'] is False and \\\n",
    "            query_info.flags['distinct'] is False and \\\n",
    "            query_info.flags['orderby'] is False:\n",
    "        return True\n",
    "    return False\n",
    "\n",
    "\n",
    "def is_aggregates(query_info):\n",
    "    if query_info.flags['select'] is True and \\\n",
    "            query_info.flags['groupby'] is False and \\\n",
    "            query_info.flags['having'] is False and \\\n",
    "            query_info.flags['joins'] is False and \\\n",
    "            query_info.flags['aggregates'] is True and \\\n",
    "            query_info.flags['distinct'] is False and \\\n",
    "            'select' in query_info.aggregates.where:\n",
    "        return True\n",
    "    return False\n",
    "\n",
    "\n",
    "def is_aggregates_and_group_by(query_info):\n",
    "    if query_info.flags['select'] is True and \\\n",
    "            query_info.flags['groupby'] is True and \\\n",
    "            query_info.flags['joins'] is False and \\\n",
    "            query_info.flags['aggregates'] is True and \\\n",
    "            query_info.flags['distinct'] is False:\n",
    "        return True\n",
    "    return False\n",
    "\n",
    "\n",
    "def is_join(query_info):\n",
    "    if query_info.flags['select'] is True and \\\n",
    "            query_info.flags['groupby'] is False and \\\n",
    "            query_info.flags['having'] is False and \\\n",
    "            query_info.flags['joins'] is True and \\\n",
    "            query_info.flags['aggregates'] is False and \\\n",
    "            query_info.flags['distinct'] is False:\n",
    "        return True\n",
    "    return False\n",
    "\n",
    "\n",
    "def is_join_and_aggregate(query_info):\n",
    "    if query_info.flags['select'] is True and \\\n",
    "            query_info.flags['having'] is False and \\\n",
    "            query_info.flags['joins'] is True and \\\n",
    "            query_info.flags['aggregates'] is True and \\\n",
    "            query_info.flags['distinct'] is False and \\\n",
    "            'select' in query_info.aggregates.where:\n",
    "        return True\n",
    "    return False"
   ]
  },
  {
   "cell_type": "code",
   "execution_count": 3,
   "id": "e22cc81e-574c-4f66-a058-b45a047fa67f",
   "metadata": {},
   "outputs": [
    {
     "name": "stdout",
     "output_type": "stream",
     "text": [
      "/home/mikexydas/PycharmProjects/Data2Text/notebooks\n"
     ]
    }
   ],
   "source": [
    "def categorize_qr2t_benchmark(spider_datapoints):\n",
    "    categories = [\n",
    "        [\"small_select\", is_small_select],\n",
    "        [\"large_select\", is_large_select],\n",
    "        [\"aggregate\", is_aggregates],\n",
    "        [\"aggregate_group_by\", is_aggregates_and_group_by],\n",
    "        [\"join\", is_join],\n",
    "        [\"join_aggregate\", is_join_and_aggregate]\n",
    "    ]\n",
    "\n",
    "    def find_category(query_info):\n",
    "        for category, cond in categories:\n",
    "            if cond(query_info):\n",
    "                return category\n",
    "        return None\n",
    "\n",
    "    datapoints_with_category = []\n",
    "    for datapoint in tqdm(spider_datapoints):\n",
    "        try:\n",
    "            cat = find_category(QueryInfo(datapoint['query']))\n",
    "        except (ExtractException, ParseException):\n",
    "            continue\n",
    "        if cat is not None:\n",
    "            datapoint['category'] = cat\n",
    "            datapoints_with_category.append(datapoint)\n",
    "\n",
    "    return datapoints_with_category"
   ]
  }
 ],
 "metadata": {
  "kernelspec": {
   "display_name": "data2text",
   "language": "python",
   "name": "data2text"
  },
  "language_info": {
   "codemirror_mode": {
    "name": "ipython",
    "version": 3
   },
   "file_extension": ".py",
   "mimetype": "text/x-python",
   "name": "python",
   "nbconvert_exporter": "python",
   "pygments_lexer": "ipython3",
   "version": "3.10.9"
  }
 },
 "nbformat": 4,
 "nbformat_minor": 5
}
