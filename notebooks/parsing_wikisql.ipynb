{
 "cells": [
  {
   "cell_type": "markdown",
   "metadata": {
    "jupyter": {
     "outputs_hidden": true
    }
   },
   "source": [
    "# Parsing WikiSQL\n",
    "\n",
    "In this notebook we focus at:\n",
    "* Exploring WikiSQL\n",
    "* Loading it into a sqlite3 db\n",
    "* Checking if the query results can be parsed it into single table, single row ToTTo expected format"
   ]
  },
  {
   "cell_type": "code",
   "execution_count": 63,
   "metadata": {},
   "outputs": [],
   "source": [
    "# Imports\n",
    "import sqlite3\n",
    "import pandas as pd\n",
    "import json\n",
    "import re\n",
    "\n",
    "# Constants\n",
    "WIKISQL_DB_PATH = \"../storage/datasets/wiki_sql/raw/train.db\"\n",
    "WIKISQL_JSON_PATH = \"../storage/datasets/wiki_sql/raw/train.tables.jsonl\"\n",
    "QUERIES_PATH = \"../storage/datasets/wiki_sql/raw/train.jsonl\""
   ]
  },
  {
   "cell_type": "markdown",
   "metadata": {},
   "source": [
    "## Reading WikiSQL"
   ]
  },
  {
   "cell_type": "code",
   "execution_count": 10,
   "metadata": {},
   "outputs": [],
   "source": [
    "def run_query_on_connection():\n",
    "    pass\n",
    "\n",
    "def connect_and_query(db_path, query):\n",
    "    con = sqlite3.connect(db_path)\n",
    "    cur = con.cursor()\n",
    "\n",
    "    cur.execute(query)\n",
    "    res = cur.fetchall()\n",
    "    con.close()\n",
    "    \n",
    "    return res"
   ]
  },
  {
   "cell_type": "code",
   "execution_count": 12,
   "metadata": {},
   "outputs": [
    {
     "name": "stdout",
     "output_type": "stream",
     "text": [
      "[('table_1_1000181_1',), ('table_1_10006830_1',), ('table_1_10007452_3',), ('table_1_10015132_1',), ('table_1_10015132_14',)]\n"
     ]
    }
   ],
   "source": [
    "# Check the table names in the database\n",
    "print(connect_and_query(WIKISQL_DB_PATH, \"SELECT name FROM sqlite_master WHERE type='table';\")[:5])"
   ]
  },
  {
   "cell_type": "markdown",
   "metadata": {},
   "source": [
    "As we can see the table names have been given a special id. Unfortunately, this leads to lost information that could be used in explaining the query."
   ]
  },
  {
   "cell_type": "code",
   "execution_count": 22,
   "metadata": {},
   "outputs": [
    {
     "data": {
      "text/html": [
       "<div>\n",
       "<style scoped>\n",
       "    .dataframe tbody tr th:only-of-type {\n",
       "        vertical-align: middle;\n",
       "    }\n",
       "\n",
       "    .dataframe tbody tr th {\n",
       "        vertical-align: top;\n",
       "    }\n",
       "\n",
       "    .dataframe thead th {\n",
       "        text-align: right;\n",
       "    }\n",
       "</style>\n",
       "<table border=\"1\" class=\"dataframe\">\n",
       "  <thead>\n",
       "    <tr style=\"text-align: right;\">\n",
       "      <th></th>\n",
       "      <th>0</th>\n",
       "      <th>1</th>\n",
       "      <th>2</th>\n",
       "      <th>3</th>\n",
       "      <th>4</th>\n",
       "      <th>5</th>\n",
       "    </tr>\n",
       "  </thead>\n",
       "  <tbody>\n",
       "    <tr>\n",
       "      <th>0</th>\n",
       "      <td>col0</td>\n",
       "      <td>col1</td>\n",
       "      <td>col2</td>\n",
       "      <td>col3</td>\n",
       "      <td>col4</td>\n",
       "      <td>col5</td>\n",
       "    </tr>\n",
       "    <tr>\n",
       "      <th>1</th>\n",
       "      <td>1992-93</td>\n",
       "      <td>gillig</td>\n",
       "      <td>phantom (high floor)</td>\n",
       "      <td>444-464 (21)</td>\n",
       "      <td>dd s50egr allison wb-400r</td>\n",
       "      <td>diesel</td>\n",
       "    </tr>\n",
       "    <tr>\n",
       "      <th>2</th>\n",
       "      <td>1996</td>\n",
       "      <td>gillig</td>\n",
       "      <td>phantom (high floor)</td>\n",
       "      <td>465-467 (3)</td>\n",
       "      <td>dd s50 allison wb-400r</td>\n",
       "      <td>diesel</td>\n",
       "    </tr>\n",
       "    <tr>\n",
       "      <th>3</th>\n",
       "      <td>1998</td>\n",
       "      <td>gillig</td>\n",
       "      <td>phantom (high floor)</td>\n",
       "      <td>468-473 (6)</td>\n",
       "      <td>dd s50 allison wb-400r</td>\n",
       "      <td>diesel</td>\n",
       "    </tr>\n",
       "    <tr>\n",
       "      <th>4</th>\n",
       "      <td>2000</td>\n",
       "      <td>gillig</td>\n",
       "      <td>advantage (low floor)</td>\n",
       "      <td>474-481 (8)</td>\n",
       "      <td>cummins isc allison wb-400r</td>\n",
       "      <td>diesel</td>\n",
       "    </tr>\n",
       "    <tr>\n",
       "      <th>5</th>\n",
       "      <td>2002</td>\n",
       "      <td>gillig</td>\n",
       "      <td>advantage (low floor)</td>\n",
       "      <td>482-492 (11)</td>\n",
       "      <td>cummins isl allison wb-400r</td>\n",
       "      <td>diesel</td>\n",
       "    </tr>\n",
       "    <tr>\n",
       "      <th>6</th>\n",
       "      <td>2010</td>\n",
       "      <td>nfi</td>\n",
       "      <td>ge40lfr</td>\n",
       "      <td>300-309 (10)</td>\n",
       "      <td>ford triton v10 ise-thundervolt tb40-hg</td>\n",
       "      <td>hybrid</td>\n",
       "    </tr>\n",
       "    <tr>\n",
       "      <th>7</th>\n",
       "      <td>2011</td>\n",
       "      <td>nfi</td>\n",
       "      <td>c40lfr</td>\n",
       "      <td>310-329 (20)</td>\n",
       "      <td>cummins westport isl-g allison wb-400r</td>\n",
       "      <td>cng</td>\n",
       "    </tr>\n",
       "  </tbody>\n",
       "</table>\n",
       "</div>"
      ],
      "text/plain": [
       "         0       1                      2             3  \\\n",
       "0     col0    col1                   col2          col3   \n",
       "1  1992-93  gillig   phantom (high floor)  444-464 (21)   \n",
       "2     1996  gillig   phantom (high floor)   465-467 (3)   \n",
       "3     1998  gillig   phantom (high floor)   468-473 (6)   \n",
       "4     2000  gillig  advantage (low floor)   474-481 (8)   \n",
       "5     2002  gillig  advantage (low floor)  482-492 (11)   \n",
       "6     2010     nfi                ge40lfr  300-309 (10)   \n",
       "7     2011     nfi                 c40lfr  310-329 (20)   \n",
       "\n",
       "                                         4       5  \n",
       "0                                     col4    col5  \n",
       "1                dd s50egr allison wb-400r  diesel  \n",
       "2                   dd s50 allison wb-400r  diesel  \n",
       "3                   dd s50 allison wb-400r  diesel  \n",
       "4              cummins isc allison wb-400r  diesel  \n",
       "5              cummins isl allison wb-400r  diesel  \n",
       "6  ford triton v10 ise-thundervolt tb40-hg  hybrid  \n",
       "7   cummins westport isl-g allison wb-400r     cng  "
      ]
     },
     "execution_count": 22,
     "metadata": {},
     "output_type": "execute_result"
    }
   ],
   "source": [
    "def concat_col_names_and_res(res, col_names):\n",
    "    concatenated = [col_names]\n",
    "    for row in res:\n",
    "        concatenated.append(row)\n",
    "    \n",
    "    return concatenated\n",
    "\n",
    "pd.DataFrame(concat_col_names_and_res(*query_with_col_names(WIKISQL_DB_PATH, \"SELECT * FROM table_1_10007452_3;\")))"
   ]
  },
  {
   "cell_type": "code",
   "execution_count": 57,
   "metadata": {},
   "outputs": [],
   "source": [
    "class wikiqsl_controller:\n",
    "    def __init__(self, db_path, tables_path):\n",
    "        self.db_path = db_path\n",
    "        \n",
    "        self.table_info = []\n",
    "        with open(tables_path) as file_in:\n",
    "            for line in file_in:\n",
    "                self.table_info.append(json.loads(line))\n",
    "\n",
    "    def connect_and_query(self, query):\n",
    "        con = sqlite3.connect(self.db_path)\n",
    "        cur = con.cursor()\n",
    "\n",
    "        cur.execute(query)\n",
    "        res = cur.fetchall()\n",
    "        con.close()\n",
    "\n",
    "        return res\n",
    "    \n",
    "    def find_json_table(self, table_id):\n",
    "        for table in self.table_info:\n",
    "            if table['id'] == table_id:\n",
    "                return table\n",
    "            \n",
    "    def find_col_names(self, table_id):\n",
    "        return self.find_json_table(table_id)['header']\n",
    "    \n",
    "    def query_with_title(self, query):\n",
    "        try:\n",
    "            extracted_table_id = re.search('FROM\\stable_(\\w*)[\\s|;]', query).group(1)\n",
    "            extracted_table_id = extracted_table_id.replace(\"_\", \"-\")\n",
    "        except AttributeError as e:\n",
    "            raise AttributeError(f\"TableId could not be extracted from {query}\")\n",
    "        \n",
    "        res = self.connect_and_query(query)\n",
    "        col_names = self.find_col_names(extracted_table_id)\n",
    "        res.insert(0, tuple(col_names))\n",
    "        \n",
    "        return res\n"
   ]
  },
  {
   "cell_type": "code",
   "execution_count": 59,
   "metadata": {},
   "outputs": [
    {
     "data": {
      "text/html": [
       "<div>\n",
       "<style scoped>\n",
       "    .dataframe tbody tr th:only-of-type {\n",
       "        vertical-align: middle;\n",
       "    }\n",
       "\n",
       "    .dataframe tbody tr th {\n",
       "        vertical-align: top;\n",
       "    }\n",
       "\n",
       "    .dataframe thead th {\n",
       "        text-align: right;\n",
       "    }\n",
       "</style>\n",
       "<table border=\"1\" class=\"dataframe\">\n",
       "  <thead>\n",
       "    <tr style=\"text-align: right;\">\n",
       "      <th></th>\n",
       "      <th>0</th>\n",
       "      <th>1</th>\n",
       "      <th>2</th>\n",
       "      <th>3</th>\n",
       "      <th>4</th>\n",
       "      <th>5</th>\n",
       "    </tr>\n",
       "  </thead>\n",
       "  <tbody>\n",
       "    <tr>\n",
       "      <th>0</th>\n",
       "      <td>Order Year</td>\n",
       "      <td>Manufacturer</td>\n",
       "      <td>Model</td>\n",
       "      <td>Fleet Series (Quantity)</td>\n",
       "      <td>Powertrain (Engine/Transmission)</td>\n",
       "      <td>Fuel Propulsion</td>\n",
       "    </tr>\n",
       "    <tr>\n",
       "      <th>1</th>\n",
       "      <td>1992-93</td>\n",
       "      <td>gillig</td>\n",
       "      <td>phantom (high floor)</td>\n",
       "      <td>444-464 (21)</td>\n",
       "      <td>dd s50egr allison wb-400r</td>\n",
       "      <td>diesel</td>\n",
       "    </tr>\n",
       "    <tr>\n",
       "      <th>2</th>\n",
       "      <td>1996</td>\n",
       "      <td>gillig</td>\n",
       "      <td>phantom (high floor)</td>\n",
       "      <td>465-467 (3)</td>\n",
       "      <td>dd s50 allison wb-400r</td>\n",
       "      <td>diesel</td>\n",
       "    </tr>\n",
       "    <tr>\n",
       "      <th>3</th>\n",
       "      <td>1998</td>\n",
       "      <td>gillig</td>\n",
       "      <td>phantom (high floor)</td>\n",
       "      <td>468-473 (6)</td>\n",
       "      <td>dd s50 allison wb-400r</td>\n",
       "      <td>diesel</td>\n",
       "    </tr>\n",
       "    <tr>\n",
       "      <th>4</th>\n",
       "      <td>2000</td>\n",
       "      <td>gillig</td>\n",
       "      <td>advantage (low floor)</td>\n",
       "      <td>474-481 (8)</td>\n",
       "      <td>cummins isc allison wb-400r</td>\n",
       "      <td>diesel</td>\n",
       "    </tr>\n",
       "    <tr>\n",
       "      <th>5</th>\n",
       "      <td>2002</td>\n",
       "      <td>gillig</td>\n",
       "      <td>advantage (low floor)</td>\n",
       "      <td>482-492 (11)</td>\n",
       "      <td>cummins isl allison wb-400r</td>\n",
       "      <td>diesel</td>\n",
       "    </tr>\n",
       "    <tr>\n",
       "      <th>6</th>\n",
       "      <td>2010</td>\n",
       "      <td>nfi</td>\n",
       "      <td>ge40lfr</td>\n",
       "      <td>300-309 (10)</td>\n",
       "      <td>ford triton v10 ise-thundervolt tb40-hg</td>\n",
       "      <td>hybrid</td>\n",
       "    </tr>\n",
       "    <tr>\n",
       "      <th>7</th>\n",
       "      <td>2011</td>\n",
       "      <td>nfi</td>\n",
       "      <td>c40lfr</td>\n",
       "      <td>310-329 (20)</td>\n",
       "      <td>cummins westport isl-g allison wb-400r</td>\n",
       "      <td>cng</td>\n",
       "    </tr>\n",
       "  </tbody>\n",
       "</table>\n",
       "</div>"
      ],
      "text/plain": [
       "            0             1                      2                        3  \\\n",
       "0  Order Year  Manufacturer                  Model  Fleet Series (Quantity)   \n",
       "1     1992-93        gillig   phantom (high floor)             444-464 (21)   \n",
       "2        1996        gillig   phantom (high floor)              465-467 (3)   \n",
       "3        1998        gillig   phantom (high floor)              468-473 (6)   \n",
       "4        2000        gillig  advantage (low floor)              474-481 (8)   \n",
       "5        2002        gillig  advantage (low floor)             482-492 (11)   \n",
       "6        2010           nfi                ge40lfr             300-309 (10)   \n",
       "7        2011           nfi                 c40lfr             310-329 (20)   \n",
       "\n",
       "                                         4                5  \n",
       "0         Powertrain (Engine/Transmission)  Fuel Propulsion  \n",
       "1                dd s50egr allison wb-400r           diesel  \n",
       "2                   dd s50 allison wb-400r           diesel  \n",
       "3                   dd s50 allison wb-400r           diesel  \n",
       "4              cummins isc allison wb-400r           diesel  \n",
       "5              cummins isl allison wb-400r           diesel  \n",
       "6  ford triton v10 ise-thundervolt tb40-hg           hybrid  \n",
       "7   cummins westport isl-g allison wb-400r              cng  "
      ]
     },
     "execution_count": 59,
     "metadata": {},
     "output_type": "execute_result"
    }
   ],
   "source": [
    "wikisql = wikiqsl_controller(WIKISQL_DB_PATH, WIKISQL_JSON_PATH)\n",
    "pd.DataFrame(wikisql.query_with_title(\"SELECT * FROM table_1_10007452_3;\"))"
   ]
  },
  {
   "cell_type": "markdown",
   "metadata": {},
   "source": [
    "## Parsing Queries"
   ]
  },
  {
   "cell_type": "code",
   "execution_count": 94,
   "metadata": {},
   "outputs": [],
   "source": [
    "def sql_query_creator(table_id, sel_index, agg_index, conditions):\n",
    "    agg_ops = ['', 'MAX', 'MIN', 'COUNT', 'SUM', 'AVG']\n",
    "    cond_ops = ['=', '>', '<', 'OP']\n",
    "    \n",
    "    table_id = f\"table_{table_id.replace('-', '_')}\"\n",
    "    \n",
    "    rep = f\"SELECT {agg_ops[agg_index]}(col{sel_index}) \" if agg_index != 0 else f\"SELECT col{sel_index} \"\n",
    "    rep += f\"FROM {table_id} \"\n",
    "\n",
    "    if conditions:\n",
    "        rep +=  'WHERE ' + ' AND '.join(['{} {} \"{}\"'.format('col{}'.format(i), cond_ops[o], v) for i, o, v in conditions])\n",
    "    return rep"
   ]
  },
  {
   "cell_type": "code",
   "execution_count": 64,
   "metadata": {},
   "outputs": [],
   "source": [
    "queries = []\n",
    "with open(QUERIES_PATH) as file_in:\n",
    "    for line in file_in:\n",
    "        queries.append(json.loads(line))"
   ]
  },
  {
   "cell_type": "code",
   "execution_count": 99,
   "metadata": {},
   "outputs": [
    {
     "name": "stdout",
     "output_type": "stream",
     "text": [
      "SELECT COUNT(col3) FROM table_1_10007452_3 WHERE col5 = \"CNG\" [('Order Year', 'Manufacturer', 'Model', 'Fleet Series (Quantity)', 'Powertrain (Engine/Transmission)', 'Fuel Propulsion'), (0,)]\n"
     ]
    }
   ],
   "source": [
    "json_query = queries[4]\n",
    "query = sql_query_creator(json_query['table_id'], json_query['sql']['sel'], json_query['sql']['agg'], json_query['sql']['conds'])\n",
    "print(query, wikisql.query_with_title(query))"
   ]
  },
  {
   "cell_type": "markdown",
   "metadata": {},
   "source": [
    "## Annotator"
   ]
  },
  {
   "cell_type": "code",
   "execution_count": null,
   "metadata": {},
   "outputs": [],
   "source": [
    "class Annotator:\n",
    "    def __init__(self, db_path, tables_path, queries_path):\n",
    "        self.db_path = db_path"
   ]
  }
 ],
 "metadata": {
  "kernelspec": {
   "display_name": "Python 3",
   "language": "python",
   "name": "python3"
  },
  "language_info": {
   "codemirror_mode": {
    "name": "ipython",
    "version": 3
   },
   "file_extension": ".py",
   "mimetype": "text/x-python",
   "name": "python",
   "nbconvert_exporter": "python",
   "pygments_lexer": "ipython3",
   "version": "3.8.8"
  }
 },
 "nbformat": 4,
 "nbformat_minor": 4
}
