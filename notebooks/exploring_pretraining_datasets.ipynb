{
 "cells": [
  {
   "cell_type": "markdown",
   "id": "cf93a1cb-3977-47ac-a657-44d4e2498b36",
   "metadata": {},
   "source": [
    "# Exploring Pretraining Datasets\n",
    "\n",
    "## C4\n",
    "\n",
    "C4 is a massive dataset used in pre-training T5. In our pre-training setting we only use it as a regularizer so as the model does not forget to understand natural language.\n",
    "\n",
    "Download link: https://huggingface.co/datasets/allenai/c4/tree/main"
   ]
  },
  {
   "cell_type": "code",
   "execution_count": 38,
   "id": "c6ec1fc8-d899-4d0c-b0ee-3caa550ea648",
   "metadata": {},
   "outputs": [],
   "source": [
    "import pandas as pd\n",
    "import json\n",
    "import random\n",
    "import gzip\n",
    "import glob\n",
    "import numpy as np\n",
    "\n",
    "from tqdm.notebook import tqdm\n",
    "from sentence_splitter import split_text_into_sentences\n",
    "from nltk.tokenize import word_tokenize"
   ]
  },
  {
   "cell_type": "markdown",
   "id": "630d09e1-23ef-422c-a3b7-1183a58be18f",
   "metadata": {},
   "source": [
    "### Reading"
   ]
  },
  {
   "cell_type": "code",
   "execution_count": 2,
   "id": "d1b422ed-959a-4c07-892e-8ee0815121d6",
   "metadata": {},
   "outputs": [],
   "source": [
    "with open('../storage/datasets/c4/c4_data_original.json') as f:\n",
    "    c4_original = [json.loads(line)['text'] for line in f]"
   ]
  },
  {
   "cell_type": "markdown",
   "id": "3694a98e-a5f1-47a2-83a4-f071cc876417",
   "metadata": {},
   "source": [
    "### Processing\n",
    "\n",
    "* Removing newlines\n",
    "* Sentence splitting\n",
    "* Shuffling"
   ]
  },
  {
   "cell_type": "code",
   "execution_count": 3,
   "id": "a569fb7a-2b70-4587-8a8b-8d7f4b9340fb",
   "metadata": {},
   "outputs": [
    {
     "data": {
      "application/vnd.jupyter.widget-view+json": {
       "model_id": "ea15805f95ac4157bdc381480df5c6ec",
       "version_major": 2,
       "version_minor": 0
      },
      "text/plain": [
       "  0%|          | 0/356317 [00:00<?, ?it/s]"
      ]
     },
     "metadata": {},
     "output_type": "display_data"
    }
   ],
   "source": [
    "# Remove newlines\n",
    "c4 = [text.replace('\\n', ' ') for text in c4_original]\n",
    "\n",
    "# Sentence split\n",
    "c4_sentences = []\n",
    "for text in tqdm(c4):\n",
    "    sents = split_text_into_sentences(text, language='en')\n",
    "    c4_sentences.extend(sents)\n",
    "\n",
    "random.shuffle(c4_sentences)\n",
    "\n",
    "del c4"
   ]
  },
  {
   "cell_type": "markdown",
   "id": "0ed96dde-c93f-4ca9-b5b2-2c1691a58e70",
   "metadata": {},
   "source": [
    "## WDC\n",
    "\n",
    "\n",
    "WebTableCorpus is a collection of tables crawled from the web.\n",
    "\n",
    "Download link: http://webdatacommons.org/webtables/2015/downloadInstructions.html"
   ]
  },
  {
   "cell_type": "markdown",
   "id": "8e8e85a2-ada6-4f3a-8b2e-b722875dbaa5",
   "metadata": {},
   "source": [
    "## Reading"
   ]
  },
  {
   "cell_type": "code",
   "execution_count": 69,
   "id": "f1182fd0-6391-4d7f-a4d0-d31a5dc67c01",
   "metadata": {},
   "outputs": [],
   "source": [
    "table_paths = glob.glob('../storage/datasets/wdc/original/1438042981460.12/warc/*')\n",
    "original_tables = []\n",
    "\n",
    "def get_tables():\n",
    "    for table_path in table_paths[:500]:\n",
    "        with gzip.open(table_path, 'r') as f:\n",
    "            for line in f:\n",
    "                try:\n",
    "                    yield json.loads(line)\n",
    "                except UnicodeDecodeError:\n",
    "                    continue\n",
    "# print(len(original_tables))"
   ]
  },
  {
   "cell_type": "markdown",
   "id": "11f9a463-08cb-4bd4-b687-bba7d137ac6b",
   "metadata": {},
   "source": [
    "## Filtering"
   ]
  },
  {
   "cell_type": "code",
   "execution_count": 71,
   "id": "9ba31873-b358-4ce4-b1ff-3e539d3b6b04",
   "metadata": {},
   "outputs": [
    {
     "name": "stdout",
     "output_type": "stream",
     "text": [
      "122124\n"
     ]
    }
   ],
   "source": [
    "def is_english(table):\n",
    "    return any(domain in table['url'] for domain in ['.com', '.eu', '.uk', '.net', '.org'])\n",
    "\n",
    "def has_header(table):\n",
    "    return table['hasHeader']\n",
    "\n",
    "def is_not_empty(table):\n",
    "    return len(table['relation']) >= 2\n",
    "\n",
    "def is_not_huge(table):\n",
    "    return len(table['relation']) < 50 and len(table['relation'][0]) < 15\n",
    "\n",
    "def has_title_or_page_title(table):\n",
    "    return table['title'] != '' or table['pageTitle'] != ''\n",
    "\n",
    "def title_is_not_huge(table):\n",
    "    if table['title'] != '' and len(table['title'].split()) < 5:\n",
    "        return True\n",
    "    elif table['pageTitle'] != '' and len(table['pageTitle'].split()) < 5:\n",
    "        return True\n",
    "    else:\n",
    "        return False\n",
    "    \n",
    "\n",
    "filtered_tables = [table for table in get_tables() \n",
    "                  if has_header(table) and \n",
    "                  is_not_empty(table) and \n",
    "                  is_english(table) and\n",
    "                  is_not_huge(table) and\n",
    "                  has_title_or_page_title(table) and\n",
    "                  title_is_not_huge(table)]\n",
    "\n",
    "print(len(filtered_tables))"
   ]
  },
  {
   "cell_type": "markdown",
   "id": "c8df7b98-0f60-4661-8650-25d8766b024a",
   "metadata": {},
   "source": [
    "## Analysis of TextBefore and TextAfter"
   ]
  },
  {
   "cell_type": "code",
   "execution_count": 72,
   "id": "891e6744-468f-4ed3-ac44-302da4cce390",
   "metadata": {},
   "outputs": [
    {
     "data": {
      "application/vnd.jupyter.widget-view+json": {
       "model_id": "e5e686a96dde48c1a5d33560f1f256ff",
       "version_major": 2,
       "version_minor": 0
      },
      "text/plain": [
       "  0%|          | 0/122124 [00:00<?, ?it/s]"
      ]
     },
     "metadata": {},
     "output_type": "display_data"
    }
   ],
   "source": [
    "def calculate_token_overlap(text, row):\n",
    "    text_tokens = word_tokenize(text)\n",
    "    \n",
    "    if len(row) == 0 or len(text_tokens) == 0:\n",
    "        return 0\n",
    "    \n",
    "    token_set = set(text_tokens)\n",
    "    row_set = set(row)\n",
    "    \n",
    "    return len(token_set.intersection(row_set)) / min(len(text_tokens), len(row_set))\n",
    "\n",
    "\n",
    "def calculate_row_overlaps(table, text_position=\"textBeforeTable\"):\n",
    "    return [calculate_token_overlap(table[text_position], row) \n",
    "            for row in table['relation'][1:]]  # Skip the header\n",
    "\n",
    "\n",
    "def calculate_dataset_overlaps(tables):\n",
    "    before_table_max = []\n",
    "    after_table_max = []\n",
    "    \n",
    "    for table in tqdm(tables):\n",
    "        before_table_max.append(max(calculate_row_overlaps(table, text_position=\"textBeforeTable\")))\n",
    "        after_table_max.append(max(calculate_row_overlaps(table, text_position=\"textAfterTable\")))\n",
    "\n",
    "    return before_table_max, after_table_max\n",
    "\n",
    "before_overlaps, after_overlaps = calculate_dataset_overlaps(filtered_tables)"
   ]
  },
  {
   "cell_type": "code",
   "execution_count": 73,
   "id": "4f9e28f4-f4b6-40e2-9718-bd58d9c1c06e",
   "metadata": {},
   "outputs": [
    {
     "name": "stdout",
     "output_type": "stream",
     "text": [
      "More than 0.5 | TextBefore: 0.05948871638662343\n",
      "More than 0.5 | TextAfter: 0.22504176083325145\n",
      "Average overlap | TextBefore: 0.11209920456137416\n",
      "Average overlap | TextAfter: 0.3239794220614944\n"
     ]
    }
   ],
   "source": [
    "before_overlaps = np.array(before_overlaps)\n",
    "after_overlaps = np.array(after_overlaps)\n",
    "\n",
    "## How many tables have at least one row with more than 50% overlap\n",
    "thresh = 0.5\n",
    "print(f\"More than {thresh} | TextBefore: {np.sum(before_overlaps > thresh) / len(before_overlaps)}\")\n",
    "print(f\"More than {thresh} | TextAfter: {np.sum(after_overlaps > thresh) / len(after_overlaps)}\")\n",
    "\n",
    "## What is the average overlap of the text before and the text after?\n",
    "print(f\"Average overlap | TextBefore: {np.mean(before_overlaps)}\")\n",
    "print(f\"Average overlap | TextAfter: {np.mean(after_overlaps)}\")"
   ]
  },
  {
   "cell_type": "markdown",
   "id": "95f0e8f1-ef5e-45b3-a8a5-66681d4e2ed4",
   "metadata": {},
   "source": [
    "## Analysis of Title and PageTitle"
   ]
  },
  {
   "cell_type": "code",
   "execution_count": 74,
   "id": "905ad18b-58c4-4973-8db1-5473532048a0",
   "metadata": {},
   "outputs": [
    {
     "name": "stdout",
     "output_type": "stream",
     "text": [
      "Has title: 0.22697422292096558\n",
      "Has page title: 0.9997707248370509\n",
      "Has both: 0.22674494775801643\n",
      "Has none: 0.0\n"
     ]
    }
   ],
   "source": [
    "has_title = 0\n",
    "has_page_title = 0\n",
    "has_both = 0\n",
    "has_none = 0\n",
    "\n",
    "for table in filtered_tables:\n",
    "    if table['title'] != '':\n",
    "        has_title += 1\n",
    "    if table['pageTitle'] != '':\n",
    "        has_page_title += 1\n",
    "    if table['title'] != '' and table['pageTitle'] != '':\n",
    "        has_both += 1\n",
    "    if table['title'] == '' and table['pageTitle'] == '':\n",
    "        has_none += 1\n",
    "        \n",
    "print(f\"Has title: {has_title / len(filtered_tables)}\")\n",
    "print(f\"Has page title: {has_page_title / len(filtered_tables)}\")\n",
    "print(f\"Has both: {has_both / len(filtered_tables)}\")\n",
    "print(f\"Has none: {has_none / len(filtered_tables)}\")"
   ]
  },
  {
   "cell_type": "code",
   "execution_count": 75,
   "id": "6ebbf427-ae1b-4e90-9808-9a441491980b",
   "metadata": {},
   "outputs": [
    {
     "name": "stdout",
     "output_type": "stream",
     "text": [
      "{'relation': [['SEASON', '2008', '2009', 'TOTAL'], ['GP', '16', '6', '23'], ['G', '0', '0', '0'], ['A', '0', '0', '0'], ['PTS', '0', '0', '0'], ['SHOTS', '1', '0', '1'], ['SHOT %', '.000', '.000', '.000'], ['SOG', '1', '0', '1'], ['SOG%', '1.000', '.000', '1.000'], ['GW', '0', '0', '0'], ['PK-ATT', '0-0', '0-0', '0-0']], 'pageTitle': 'Brown', 'title': 'Career Statistics', 'url': 'http://brownbears.com/sports/m-soccer/2010-11/bios/smith_ian00.html', 'hasHeader': True, 'headerPosition': 'FIRST_ROW', 'tableType': 'RELATION', 'tableNum': 1, 's3Link': 'common-crawl/crawl-data/CC-MAIN-2015-32/segments/1438042981460.12/warc/CC-MAIN-20150728002301-00160-ip-10-236-191-2.ec2.internal.warc.gz', 'recordEndOffset': 37217939, 'recordOffset': 37209737, 'tableOrientation': 'HORIZONTAL', 'TableContextTimeStampAfterTable': '{26037=Brown University Athletics | 235 Hope St. Box 1932 | Providence, RI 02912, 21585=Before Brown: Transferred from Western Kentucky University where he started as a freshman ... Named to the Missouri Valley All-Freshman team and Missouri Valley All-Second Team ... Started all four years for J.S. Martin High School and was a captain during his senior season ... Named Most Valuable Player as a sophomore and a junior ... Most Valuable Offensive player senior year, Most Valuable Defender junior year, and also Most Valuable midfield player sophomore season ... Chosen First Team All-District both sophomore and junior seasons, and was named the District MVP in 2007 ... Named Dallas/Forth Worth all-area team senior season and named to the All-State team ... Played for Solar Soccer Club 89 for seven years and was a two-time United Youth Soccer Association national runner-up.}', 'textBeforeTable': 'Before Brown: Transferred from Western Kentucky University where he started as a freshman ... Named to the Missouri Valley All-Freshman team and Missouri Valley All-Second Team ... Started all four years for J.S. Martin High School and was a captain during his senior season ... Named Most Valuable Player as a sophomore and a junior ... Most Valuable Offensive player senior year, Most Valuable Defender junior year, and also Most Valuable midfield player sophomore season ... Chosen First Team All-District both sophomore and junior seasons, and was named the District MVP in 2007 ... Named Dallas/Forth Worth all-area team senior season and named to the All-State team ... Played for Solar Soccer Club 89 for seven years and was a two-time United Youth Soccer Association national runner-up. In 2008: Played and started in 16 games this season ...Helped Brown’s defense to eight shutouts as Brown’s defense allowed just 18 goals. In 2009: After an injury sustained during pre-season, Smith started in six of seven games. Bio D Position: Western Kentucky Previous College: J.S. Martin High School: Arlington,', 'textAfterTable': 'Brown University Athletics | 235 Hope St. Box 1932 | Providence, RI 02912 View: Mobile | Desktop', 'hasKeyColumn': False, 'keyColumnIndex': -1, 'headerRowIndex': 0}\n",
      "------------------------------------------------------------------------------------------------------------------------\n",
      "{'relation': [['', 'unfiltered', 'filtered'], ['Span', '2006-2015', '2012-2014'], ['Mat', '82', '27'], ['Start', '41', '18'], ['Sub', '41', '9'], ['Pts', '135', '16'], ['Tries', '8', '2'], ['Conv', '22', '3'], ['Pens', '17', '0'], ['Drop', '0', '0'], ['Won', '55', '18'], ['Lost', '25', '7'], ['Draw', '2', '2'], ['%', '68.29', '70.37'], ['', 'Profile', '']], 'pageTitle': 'Rugby Union - ESPN Scrum - Statsguru - Player analysis - Ruan Pienaar - Test matches', 'title': 'Career figures', 'url': 'http://en.espn.co.uk/statsguru/rugby/player/15357.html?captain_involve=13844;class=1;template=results;type=player;view=match', 'hasHeader': True, 'headerPosition': 'FIRST_ROW', 'tableType': 'RELATION', 'tableNum': 2, 's3Link': 'common-crawl/crawl-data/CC-MAIN-2015-32/segments/1438042981460.12/warc/CC-MAIN-20150728002301-00160-ip-10-236-191-2.ec2.internal.warc.gz', 'recordEndOffset': 82585466, 'recordOffset': 82569072, 'tableOrientation': 'HORIZONTAL', 'textBeforeTable': 'Return to query menu|Cleared query menu Statsguru Home Records type:\\xa0player analysis View:\\xa0match by match list [change view] Involving the captain:\\xa0J de Villiers (SA) Ordered by:\\xa0match date (ascending) .engineTable th {padding: 6px 3px;}', 'textAfterTable': 'Match by match list Pos Pts Tries Conv Pens Drop Result Opposition Ground Match Date (SH) 0 0 0 0 0 won v England Durban 9 Jun 2012 Details (W) 0 0 0 0 0 won v England Johannesburg 16 Jun 2012 Details (SH) 0 0 0 0 0 draw v England Port Elizabeth 23 Jun 2012 Details (W) 0 0 0 0 0', 'hasKeyColumn': True, 'keyColumnIndex': 0, 'headerRowIndex': 0}\n",
      "------------------------------------------------------------------------------------------------------------------------\n",
      "{'relation': [['Modifier and Type', 'double', 'double', 'double', 'double', 'void', 'void'], ['Method and Description', 'cumulativeProbability(double x) The CDF for this distribution.', 'getAlpha() Access the alpha parameter.', 'getBeta() Access the beta parameter.', 'inverseCumulativeProbability(double p) The inverse CDF for this distribution.', 'setAlpha(double a) Modify the alpha parameter.', 'setBeta(double b) Modify the beta parameter.']], 'pageTitle': 'Gamma', 'title': 'All Methods Instance Methods Concrete Methods', 'url': 'http://jwork.org/scavis/api/doc.php/jhplot/math/num/pdf/Gamma.html', 'hasHeader': True, 'headerPosition': 'FIRST_ROW', 'tableType': 'RELATION', 'tableNum': 1, 's3Link': 'common-crawl/crawl-data/CC-MAIN-2015-32/segments/1438042981460.12/warc/CC-MAIN-20150728002301-00160-ip-10-236-191-2.ec2.internal.warc.gz', 'recordEndOffset': 133604496, 'recordOffset': 133596294, 'tableOrientation': 'HORIZONTAL', 'textBeforeTable': 'Method Summary Create a distribution with the given alpha and beta values. Gamma(double\\xa0a, double\\xa0b) Default constructor. Gamma() Constructor and Description \\xa0 Constructors Constructor Summary Eric W. Weisstein. \"Gamma Distribution.\" From MathWorld--A Wolfram Web Resource. http://mathworld.wolfram.com/Gamma.html References: The Gamma distribution (1). public class Gammaextends ContinuousDistribution Distribution All Implemented Interfaces: jhplot.math.num.pdf.Gamma jhplot.math.num.pdf.ContinuousDistribution java.lang.Object Class Gamma jhplot.math.num.pdf Method Constr\\xa0|\\xa0 Field\\xa0|\\xa0 Detail:\\xa0 Method Constr\\xa0|\\xa0 Field\\xa0|\\xa0 Nested\\xa0|\\xa0 Summary:\\xa0', 'textAfterTable': 'Methods inherited from class\\xa0java.lang.Objectequals, getClass, hashCode, notify, notifyAll, toString, wait, wait, wait Constructor Detail Gamma public\\xa0Gamma() Default constructor. Alpha and beta are both set to 1. Gamma public\\xa0Gamma(double\\xa0a, double\\xa0b) Create a distribution with the given alpha and beta values. Parameters: a - the alpha parameter. b - the beta parameter. Method Detail cumulativeProbability public\\xa0double\\xa0cumulativeProbability(double\\xa0x) throws NumericException The CDF for this distribution. This method returns P(X < x). Specified by: cumulativeProbability\\xa0in class\\xa0 ContinuousDistribution Parameters: x - the value at which the CDF is evaluated. Returns: CDF for this distribution.', 'hasKeyColumn': False, 'keyColumnIndex': -1, 'headerRowIndex': 0}\n",
      "------------------------------------------------------------------------------------------------------------------------\n",
      "{'relation': [['', 'Chest', 'Hip', 'Sleeve (from shoulder seam)', 'Neck'], ['S', '17\"', '17\"', '6.5\"', '6.75\"'], ['M', '18\"', '18\"', '7.5\"', '7\"'], ['L', '19\"', '19\"', '8\"', '7.25\"'], ['XL', '20\"', '20\"', '8.5\"', '7.5\"'], ['XXL', '21\"', '21\"', '9\"', '7.75\"']], 'pageTitle': 'MLB Youth Custom Short-Sleeve Tee Sizing - MLB.com Shop', 'title': 'Youth Short Sleeve Tee', 'url': 'http://shop.mlb.com/info/index.jsp?categoryId=11817831&backTo=12432712&infoPath=222992', 'hasHeader': True, 'headerPosition': 'FIRST_ROW', 'tableType': 'RELATION', 'tableNum': 4, 's3Link': 'common-crawl/crawl-data/CC-MAIN-2015-32/segments/1438042981460.12/warc/CC-MAIN-20150728002301-00160-ip-10-236-191-2.ec2.internal.warc.gz', 'recordEndOffset': 219823235, 'recordOffset': 219802700, 'tableOrientation': 'VERTICAL', 'textBeforeTable': \"MLB Youth Custom Short-Sleeve Tee Sizing Baseball Jersey Sizing \\xa0 Size Charts \\xa0 Adult Cool Base Sizing \\xa0 MLB American Needle Sizing \\xa0 MLB Majestic Youth Jersey Sizing \\xa0 MLB Adult Premier Jacket Sizing - AJ10 \\xa0 MLB Youth Custom Short-Sleeve Tee Sizing \\xa0 MLB Women's Custom Short-Sleeve Tee Sizing \\xa0 MLB Men's Custom Hooded Fleece Sizing \\xa0 MLB Men\\x91s\", 'textAfterTable': '', 'hasKeyColumn': False, 'keyColumnIndex': -1, 'headerRowIndex': 0}\n",
      "------------------------------------------------------------------------------------------------------------------------\n",
      "{'relation': [['Players', 'Morgan Hook', 'Aaryn Ellenberg', 'Maddie Manning', 'Whitney Hand', 'Nicole Griffin', 'Joanna McFarland', 'Portia Durrett', 'Sharane Campbell-Olds', 'Jasmine Hartman', 'Nicole Kornet', 'Totals', 'Percentages'], ['Min', '24', '28', '26', '31', '28', '23', '8', '4', '15', '13', '', ''], ['FG', '5-11', '4-11', '5-8', '2-4', '3-6', '3-5', '3-6', '1-2', '0-1', '0-1', '26-55', '47.3%'], ['3pt', '2-3', '4-10', '0-0', '1-2', '0-0', '1-3', '0-0', '0-1', '0-0', '0-0', '8-19', '42.1%'], ['FT', '4-6', '0-0', '2-3', '5-6', '2-3', '0-0', '0-1', '1-2', '0-0', '0-0', '14-21', '66.7%'], ['Off', '3', '0', '0', '2', '0', '1', '2', '0', '0', '0', '8', ''], ['Def', '2', '0', '4', '4', '3', '4', '2', '1', '1', '1', '22', ''], ['Reb', '5', '0', '4', '6', '3', '5', '4', '1', '1', '1', '30', ''], ['Ast', '2', '2', '1', '2', '3', '1', '0', '0', '3', '0', '14', ''], ['TO', '2', '3', '2', '2', '0', '0', '0', '0', '2', '1', '12', ''], ['Stl', '1', '1', '2', '2', '1', '1', '1', '0', '0', '0', '9', ''], ['Blk', '0', '0', '0', '0', '1', '0', '0', '0', '1', '0', '2', ''], ['PF', '0', '2', '4', '2', '2', '2', '2', '0', '0', '1', '15', ''], ['P', '16', '12', '12', '10', '8', '7', '6', '3', '0', '0', '74', '']], 'pageTitle': \"Oklahoma at Hawaii | 2012-11-25 | College Women's Basketball | Yahoo! Sports\", 'title': 'PLAYERS', 'url': 'http://sports.yahoo.com/ncaaw/oklahoma-sooners-hawaii-rainbow-wahine-201211250246/', 'hasHeader': True, 'headerPosition': 'MIXED', 'tableType': 'RELATION', 'tableNum': 2, 's3Link': 'common-crawl/crawl-data/CC-MAIN-2015-32/segments/1438042981460.12/warc/CC-MAIN-20150728002301-00160-ip-10-236-191-2.ec2.internal.warc.gz', 'recordEndOffset': 226342019, 'recordOffset': 226254354, 'tableOrientation': 'HORIZONTAL', 'textBeforeTable': 'Oklahoma 49 24 25 Haw 74 46 28 Okla Total 2 1 2-5 Hawaii 49 - 74 5-1 Oklahoma Attendance: 1,422 Stan Sheriff Center, Final Sun, Nov 25 7:30 PM EST', 'textAfterTable': 'Hawaii PLAYERS Players Min FG 3pt FT Off Def Reb Ast TO Stl Blk PF P Kamilah Jackson 36 3-13 0-0 5-6 5 5 10 2 2 0 0 1', 'hasKeyColumn': True, 'keyColumnIndex': 0, 'headerRowIndex': 0}\n",
      "------------------------------------------------------------------------------------------------------------------------\n",
      "{'relation': [['Avg Per Game', 'Fanni Szabo', 'Lakin Roland', 'Milica Toskovic', 'Katie Vareika', 'Daisy Jordan', 'Tia Dawson', 'Amber Mixon', 'Olivia Smith', 'Kate Letkewicz', 'Andi Norman', 'Emily Slagle', 'Nicole Beresford'], ['G', '28', '28', '28', '24', '28', '26', '28', '27', '23', '21', '19', '5'], ['Min', '35.6', '29.0', '31.9', '13.6', '18.9', '16.8', '27.4', '10.3', '13.9', '8.0', '7.0', '3.6'], ['FGM', '6.5', '3.9', '1.8', '1.5', '1.6', '1.3', '0.9', '1.0', '1.0', '1.0', '0.4', '0.2'], ['FGA', '17.4', '10.9', '5.7', '4.0', '4.2', '3.3', '3.1', '2.4', '2.8', '2.2', '1.6', '1.2'], ['FG%', '37.5', '35.4', '31.9', '37.9', '37.3', '41.2', '29.5', '41.5', '34.4', '45.7', '23.3', '16.7'], ['3PM', '1.6', '1.2', '0.5', '1.3', '0.0', '0.0', '0.2', '0.0', '0.5', '0.4', '0.2', '0.0'], ['3PA', '5.4', '3.5', '2.2', '3.1', '0.0', '0.0', '1.1', '0.0', '1.0', '1.1', '0.6', '0.0'], ['3PT%', '29.3', '35.1', '24.6', '41.9', '0.0', '0.0', '19.4', '0.0', '47.8', '33.3', '25.0', '0.0'], ['FTM', '1.6', '3.1', '1.3', '0.3', '1.0', '0.7', '0.8', '0.7', '0.3', '0.2', '0.4', '0.4'], ['FTA', '2.2', '4.1', '1.9', '0.3', '1.2', '1.0', '1.3', '1.0', '0.4', '0.3', '0.4', '0.8'], ['FT%', '74.2', '75.0', '69.2', '87.5', '79.4', '70.4', '65.7', '74.1', '88.9', '71.4', '100.0', '50.0'], ['Off', '0.8', '1.5', '1.5', '0.3', '1.1', '2.2', '0.8', '0.5', '0.6', '0.3', '0.2', '0.6'], ['Def', '4.1', '6.4', '4.0', '0.5', '1.4', '3.8', '2.2', '1.4', '1.4', '0.6', '0.3', '0.6'], ['Reb', '4.9', '8.0', '5.5', '0.8', '2.5', '6.0', '3.0', '1.9', '2.0', '0.9', '0.5', '1.2'], ['Ast', '2.0', '1.6', '2.9', '0.4', '0.3', '0.8', '1.6', '0.2', '0.5', '0.1', '0.3', '0.0'], ['TO', '3.3', '3.6', '3.1', '0.5', '1.4', '1.0', '1.4', '0.7', '1.3', '0.5', '0.7', '0.2'], ['Stl', '2.1', '1.0', '1.2', '0.3', '0.4', '0.4', '1.0', '0.2', '0.3', '0.2', '0.2', '0.4'], ['Blk', '0.3', '0.7', '0.9', '0.0', '0.4', '1.2', '0.1', '0.1', '0.1', '0.0', '0.1', '0.0'], ['PF', '2.0', '3.1', '2.6', '0.8', '2.9', '2.2', '1.5', '1.9', '0.7', '0.5', '0.6', '0.2'], ['P', '16.3', '12.0', '5.5', '4.6', '4.1', '3.4', '2.9', '2.7', '2.7', '2.6', '1.3', '0.8']], 'pageTitle': 'Dartmouth Big Green on Yahoo! Sports - News, Scores, Standings, Rumors, Fantasy Games', 'title': 'Team Stats', 'url': 'http://sports.yahoo.com/ncaaw/teams/dac/stats/', 'hasHeader': True, 'headerPosition': 'MIXED', 'tableType': 'RELATION', 'tableNum': 1, 's3Link': 'common-crawl/crawl-data/CC-MAIN-2015-32/segments/1438042981460.12/warc/CC-MAIN-20150728002301-00160-ip-10-236-191-2.ec2.internal.warc.gz', 'recordEndOffset': 226376835, 'recordOffset': 226336952, 'tableOrientation': 'HORIZONTAL', 'textBeforeTable': 'Avg Per Game 41.2 Tia Dawson 41.5 Olivia Smith 45.7 FG% Andi Norman Field Goal Percentage 0.7 Lakin Roland 0.9 Milica Toskovic 1.2 Blk Tia Dawson Blocked Shots per game 1.0 Lakin Roland 1.2 Milica Toskovic 2.1 Stl Fanni Szabo Steals per game 1.6 Amber Mixon 2.0 Fanni Szabo 2.9 Ast Milica Toskovic Assists per game 5.5 Milica Toskovic 6.0 Tia Dawson 8.0 Reb', 'textAfterTable': 'Season Team Stats Season G Min FGM FGA FG% 3P 3PA 3PT% FT FTA FT% OR DR Reb Ast TO Stl Blk PF P Fanni Szabo 28', 'hasKeyColumn': True, 'keyColumnIndex': 0, 'headerRowIndex': 0}\n",
      "------------------------------------------------------------------------------------------------------------------------\n",
      "!!!!!!!!!!!!!!!!!!!!!!!!!!!!!!!!!!!!!!!!!!!!!!!!!!!!!!!!!!!!!!!!!!!!!!!!!!!!!!!!!!!!!!!!!!!!!!!!!!!!!!!!!!!!!!!!!!!!!!!!!!!!!!!!!!!!!!!!!!!!!!!!!!!!!!!!!!!!!!!!!!!!!!!!!!!!!!!!!!!!!!!!!!!!!!!!!!!!!!!!!!!!!!!!!!!!!!!!!!!!!!!!!!!!!!!!!!!!!!!!\n",
      "{'relation': [['', '', '', '', '', '', '', '', ''], ['Appearance Type', 'story', 'story', 'story', 'story', 'story', 'story', 'story', 'story'], ['Appearance Information', 'Butch the Bully! 16pg art', '5350 4pg art', \"5532 The Boy Who Wasn't There! 12pg art\", '5699 Up in the Air! 8pg art', '6025 The Scamp Goes to Camp! 10pg art', '5812 Treasure Is No Pleasure! 10pg art', 'SL-6007 Lenny Draws a Picture 1pg text', 'SL-6006 Take Me Out to the Bawl-game 1pg text'], ['Issue', 'Little Lenny 1', 'Little Lenny 1', 'Little Lenny 2', 'Little Lenny 2', 'Little Lenny 3', 'Little Lenny 3', 'Frankie Fuddle 17', 'Frankie Fuddle 17'], ['Cover Date', 'June 1949', 'June 1949', 'August 1949', 'August 1949', 'November 1949', 'November 1949', 'November 1949', 'November 1949']], 'pageTitle': 'Little Lenny', 'title': '', 'url': 'http://atlastales.com/character/185', 'hasHeader': True, 'headerPosition': 'FIRST_ROW', 'tableType': 'RELATION', 'tableNum': 0, 's3Link': 'common-crawl/crawl-data/CC-MAIN-2015-32/segments/1438042981460.12/warc/CC-MAIN-20150728002301-00160-ip-10-236-191-2.ec2.internal.warc.gz', 'recordEndOffset': 19323902, 'recordOffset': 19315700, 'tableOrientation': 'HORIZONTAL', 'TableContextTimeStampAfterTable': '{2885=© Atlas Tales 2015}', 'textBeforeTable': 'Gallery Appearances List male Gender \\xa0 Little Lenny Code Name Coming Soon! No Image Little Lenny Atlas Tales Little Lenny Characters On eBay Updates News Information Search Reprints Characters Creators Titles Features Contact Home Search Or Characters Creators Titles Browse', 'textAfterTable': 'There are currently no images avaliable. © Atlas Tales 2015', 'hasKeyColumn': True, 'keyColumnIndex': 2, 'headerRowIndex': 0}\n",
      "------------------------------------------------------------------------------------------------------------------------\n",
      "{'relation': [['Size', 'WS - LEFT SIDE (4-7.5)', 'AS - LEFT SIDE (4-7)', 'WM - LEFT SIDE (7.5-10.5)', 'AM - LEFT SIDE (7-10)', 'WL - LEFT SIDE (10.5-13.5)', 'AL - LEFT SIDE (10-13)'], ['Color', 'BLACK', 'BLACK', 'BLACK', 'BLACK', 'BLACK', 'BLACK'], ['Price', '$49.95', '$49.95', '$49.95', '$49.95', '$49.95', '$49.95'], ['Lead Time', '2 to 3 business days', '2 to 3 business days', '1 to 2 business days', '2 to 3 business days', '1 to 2 business days', '2 to 3 business days'], ['In Stock', 'Yes', 'Yes', 'Yes', 'Yes', 'Yes', 'Yes']], 'pageTitle': 'Baseball Equipment and Gear', 'title': '', 'url': 'http://baseball.epicsports.com/invstatus/19713/zamst-a1-moderate-support-left-side-ankle-brace.html', 'hasHeader': True, 'headerPosition': 'FIRST_ROW', 'tableType': 'RELATION', 'tableNum': 0, 's3Link': 'common-crawl/crawl-data/CC-MAIN-2015-32/segments/1438042981460.12/warc/CC-MAIN-20150728002301-00160-ip-10-236-191-2.ec2.internal.warc.gz', 'recordEndOffset': 22484601, 'recordOffset': 22476399, 'tableOrientation': 'HORIZONTAL', 'textBeforeTable': 'Zamst A1 Moderate Support Left Side Ankle Brace', 'textAfterTable': '', 'hasKeyColumn': False, 'keyColumnIndex': -1, 'headerRowIndex': 0}\n",
      "------------------------------------------------------------------------------------------------------------------------\n",
      "{'relation': [['Player', 'Martis', 'Robertson, T', 'Slama (L, 0-2)', 'Thielbar'], ['IP', '3.2', '1.0', '0.1', '1.0'], ['H', '4', '2', '2', '2'], ['R', '1', '0', '4', '2'], ['ER', '1', '0', '4', '2'], ['BB', '4', '1', '2', '0'], ['SO', '4', '0', '0', '2'], ['HR', '0', '0', '0', '0'], ['ERA', '4.05', '0.00', '13.50', '6.75']], 'pageTitle': 'BaseballAmerica.com: Stats', 'title': '', 'url': 'http://baseballamerica.com/statistics/leagues/box/?lg_id=9&tm1=3147&tm2=3146&sbd=20130413&gc=1', 'hasHeader': True, 'headerPosition': 'FIRST_ROW', 'tableType': 'RELATION', 'tableNum': 12, 's3Link': 'common-crawl/crawl-data/CC-MAIN-2015-32/segments/1438042981460.12/warc/CC-MAIN-20150728002301-00160-ip-10-236-191-2.ec2.internal.warc.gz', 'recordEndOffset': 22581379, 'recordOffset': 22566779, 'tableOrientation': 'HORIZONTAL', 'textBeforeTable': 'Rochester Red Wings W: Villarreal, O (W, 2-0, 6.75) ; L: Slama (L, 0-2, 13.50) 0 10 7 x x x 6 0 0 0 1 0 Pawtucket 1 4 1 x x 0 0 0 0 0 0 1 Rochester E H R 9 8 7 6 5 4 3 2 1 Final International League (AAA) --Major League Baseball-- American League (MAJ) National League (MAJ) --Triple-A-- International League (AAA) Mexican League (AAA) Pacific Coast League (AAA) --Double-A-- Eastern League (AA) Southern League (AA) Texas League (AA) --High Class A-- California League (HiA) Carolina League (HiA) Florida State League', 'textAfterTable': '0 0 0 0 0 0 1 .111 Benson RF 2 0 0 0 0 0 0 1 2 .136 Thomas, C CF 2 0 0 0 0 0 0 1 1 .318 Dinkelman 2B 3 0 1 0 0 0 0 0 1 .190 Sobolewski 3B 3 0 0 0 0 0 0 0 1 .231 Olmedo SS 2 0 0 0 0 0 0 0 0 .278 BATTING TB: Arcia; Herrmann, C; Dinkelman; Colabello. RBI: Colabello (5). Runners left in scoring position, 2 out: Sobolewski. GIDP: Clement, Colabello. Team RISP: 1-for-4. Team LOB: 4. FIELDING E: Dinkelman (1, missed catch). Pawtucket Red Sox Player AB R H 2B 3B HR RBI BB SO AVG Holt 2B 4 1 1 0 0 0 0 0 1 .267 Iglesias SS 3 1 0 0 0 0 1 1 1 .143 Ortiz, D DH 4 1 1 0 0 0 2 0', 'hasKeyColumn': False, 'keyColumnIndex': -1, 'headerRowIndex': 0}\n",
      "------------------------------------------------------------------------------------------------------------------------\n",
      "{'relation': [['Player', 'Doyle', 'Villarreal, O (W, 2-0)', 'Carpenter, C'], ['IP', '5.0', '1.0', '1.0'], ['H', '2', '2', '0'], ['R', '1', '0', '0'], ['ER', '1', '0', '0'], ['BB', '1', '0', '2'], ['SO', '5', '0', '2'], ['HR', '0', '0', '0'], ['ERA', '0.79', '6.75', '1.69']], 'pageTitle': 'BaseballAmerica.com: Stats', 'title': '', 'url': 'http://baseballamerica.com/statistics/leagues/box/?lg_id=9&tm1=3147&tm2=3146&sbd=20130413&gc=1', 'hasHeader': True, 'headerPosition': 'FIRST_ROW', 'tableType': 'RELATION', 'tableNum': 14, 's3Link': 'common-crawl/crawl-data/CC-MAIN-2015-32/segments/1438042981460.12/warc/CC-MAIN-20150728002301-00160-ip-10-236-191-2.ec2.internal.warc.gz', 'recordEndOffset': 22581379, 'recordOffset': 22566779, 'tableOrientation': 'HORIZONTAL', 'textBeforeTable': 'Rochester Red Wings W: Villarreal, O (W, 2-0, 6.75) ; L: Slama (L, 0-2, 13.50) 0 10 7 x x x 6 0 0 0 1 0 Pawtucket 1 4 1 x x 0 0 0 0 0 0 1 Rochester E H R 9 8 7 6 5 4 3 2 1 Final International League (AAA) --Major League Baseball-- American League (MAJ) National League (MAJ) --Triple-A-- International League (AAA) Mexican League (AAA) Pacific Coast League (AAA) --Double-A-- Eastern League (AA) Southern League (AA) Texas League (AA) --High Class A-- California League (HiA) Carolina League (HiA) Florida State League', 'textAfterTable': '0 0 1 0 1 .414 Clement 1B 3 0 0 0 0 0 0 0 1 .111 Benson RF 2 0 0 0 0 0 0 1 2 .136 Thomas, C CF 2 0 0 0 0 0 0 1 1 .318 Dinkelman 2B 3 0 1 0 0 0 0 0 1 .190 Sobolewski 3B 3 0 0 0 0 0 0 0 1 .231 Olmedo SS 2 0 0 0 0 0 0 0 0 .278 BATTING TB: Arcia; Herrmann, C; Dinkelman; Colabello. RBI: Colabello (5). Runners left in scoring position, 2 out: Sobolewski. GIDP: Clement, Colabello. Team RISP: 1-for-4. Team LOB: 4. FIELDING E: Dinkelman (1, missed catch). Pawtucket Red Sox Player AB R H 2B 3B HR RBI BB SO AVG Holt 2B 4 1 1 0 0 0 0 0 1 .267 Iglesias SS 3 1 0 0 0 0 1 1 1 .143', 'hasKeyColumn': False, 'keyColumnIndex': -1, 'headerRowIndex': 0}\n",
      "------------------------------------------------------------------------------------------------------------------------\n",
      "{'relation': [['SEASON', '2008', '2009', 'TOTAL'], ['GP', '16', '6', '23'], ['G', '0', '0', '0'], ['A', '0', '0', '0'], ['PTS', '0', '0', '0'], ['SHOTS', '1', '0', '1'], ['SHOT %', '.000', '.000', '.000'], ['SOG', '1', '0', '1'], ['SOG%', '1.000', '.000', '1.000'], ['GW', '0', '0', '0'], ['PK-ATT', '0-0', '0-0', '0-0']], 'pageTitle': 'Brown', 'title': 'Career Statistics', 'url': 'http://brownbears.com/sports/m-soccer/2010-11/bios/smith_ian00.html', 'hasHeader': True, 'headerPosition': 'FIRST_ROW', 'tableType': 'RELATION', 'tableNum': 1, 's3Link': 'common-crawl/crawl-data/CC-MAIN-2015-32/segments/1438042981460.12/warc/CC-MAIN-20150728002301-00160-ip-10-236-191-2.ec2.internal.warc.gz', 'recordEndOffset': 37217939, 'recordOffset': 37209737, 'tableOrientation': 'HORIZONTAL', 'TableContextTimeStampAfterTable': '{26037=Brown University Athletics | 235 Hope St. Box 1932 | Providence, RI 02912, 21585=Before Brown: Transferred from Western Kentucky University where he started as a freshman ... Named to the Missouri Valley All-Freshman team and Missouri Valley All-Second Team ... Started all four years for J.S. Martin High School and was a captain during his senior season ... Named Most Valuable Player as a sophomore and a junior ... Most Valuable Offensive player senior year, Most Valuable Defender junior year, and also Most Valuable midfield player sophomore season ... Chosen First Team All-District both sophomore and junior seasons, and was named the District MVP in 2007 ... Named Dallas/Forth Worth all-area team senior season and named to the All-State team ... Played for Solar Soccer Club 89 for seven years and was a two-time United Youth Soccer Association national runner-up.}', 'textBeforeTable': 'Before Brown: Transferred from Western Kentucky University where he started as a freshman ... Named to the Missouri Valley All-Freshman team and Missouri Valley All-Second Team ... Started all four years for J.S. Martin High School and was a captain during his senior season ... Named Most Valuable Player as a sophomore and a junior ... Most Valuable Offensive player senior year, Most Valuable Defender junior year, and also Most Valuable midfield player sophomore season ... Chosen First Team All-District both sophomore and junior seasons, and was named the District MVP in 2007 ... Named Dallas/Forth Worth all-area team senior season and named to the All-State team ... Played for Solar Soccer Club 89 for seven years and was a two-time United Youth Soccer Association national runner-up. In 2008: Played and started in 16 games this season ...Helped Brown’s defense to eight shutouts as Brown’s defense allowed just 18 goals. In 2009: After an injury sustained during pre-season, Smith started in six of seven games. Bio D Position: Western Kentucky Previous College: J.S. Martin High School: Arlington,', 'textAfterTable': 'Brown University Athletics | 235 Hope St. Box 1932 | Providence, RI 02912 View: Mobile | Desktop', 'hasKeyColumn': False, 'keyColumnIndex': -1, 'headerRowIndex': 0}\n",
      "------------------------------------------------------------------------------------------------------------------------\n",
      "{'relation': [['Date', '22 Apr 1780', '17 Mar 1804', '2 Jul 1832', '8 Jul 1832', '29 Jul 1833', '3 Dec 1856'], ['Age', '', '23.9', '52.1', '52.2', '53.2', '76.6'], ['Event', 'Born', 'Ordained Priest', 'Appointed', 'Ordained Bishop', 'Appointed', 'Died'], ['Title', 'Camerino', 'Priest', 'Bishop of Bagnoregio (Bagnorea), Italy', 'Bishop of Bagnoregio (Bagnorea), Italy', 'Bishop of Fano, Italy', 'Bishop of Fano, Italy']], 'pageTitle': 'Bishop Luigi Carsidoni [Catholic-Hierarchy]', 'title': '', 'url': 'http://catholic-hierarchy.org/bishop/bcarsi.html', 'hasHeader': True, 'headerPosition': 'FIRST_ROW', 'tableType': 'RELATION', 'tableNum': 0, 's3Link': 'common-crawl/crawl-data/CC-MAIN-2015-32/segments/1438042981460.12/warc/CC-MAIN-20150728002301-00160-ip-10-236-191-2.ec2.internal.warc.gz', 'recordEndOffset': 41895431, 'recordOffset': 41887229, 'tableOrientation': 'HORIZONTAL', 'lastModified': 'Fri, 30 Jan 2015 21:39:39 GMT', 'textBeforeTable': 'Events Bishop of Fano Deceased Bishop Luigi Carsidoni † Feedback Terminology Privacy Policy About This Website Help See Also Religious Orders Countries Councils Consistories Conclaves Return to Home Page Various Diplomatic Posts Roman Curia Diocese of Rome Holy See Necrology by Year by Date Recent Diocese Events Recent Bishop Events Events Structured View Vacant All Cardinal Titles Vacant All Titular Sees Vacant Current Only All Dioceses Popes by Conclave by Consistory Cardinal-Deacons Cardinal-Priests Cardinal-Bishops Non-Voting Electors Cardinals Active Near Age Limit Most', 'textAfterTable': 'MicroData Summary for Luigi Carsidoni: Bishop Luigi Carsidoni (born 22 Apr 1780, died 3 Dec 1856) Bishop of Fano a priest for 52.7 years a bishop for 24.4 years Principal Consecrator: Carlo Cardinal Odescalchi, S.J. † Cardinal-Priest of Santi XII Apostoli Episcopal Lineage / Apostolic Succession: Carlo Cardinal Odescalchi, S.J. † (1823) Cardinal-Priest of Santi XII Apostoli Giulio Maria Cardinal della Somaglia † (1788) Cardinal-Bishop of Ostia (e Velletri) Hyacinthe-Sigismond Cardinal Gerdil, B. † (1777) Cardinal-Priest of Santa Cecilia Marcantonio Cardinal Colonna (Jr.) † (1762) Cardinal-Priest of Santa Maria della Pace Pope Clement XIII (1743) (Carlo della Torre Rezzonico †) Pope Benedict XIV (1724) (Prospero Lorenzo Lambertini †) Pope Benedict XIII (1675) (Pietro Francesco (Vincenzo Maria) Orsini de Gravina, O.P. †) Paluzzo Cardinal Paluzzi Altieri Degli Albertoni † (1666) Chamberlain (Camerlengo) of the Apostolic Chamber Ulderico Cardinal Carpegna † (1630) Cardinal-Priest of Santa Maria in Trastevere Luigi Cardinal Caetani † (1622) Cardinal-Priest of Santa Pudenziana Ludovico Cardinal Ludovisi † (1621) Archbishop of Bologna Archbishop Galeazzo Sanvitale † (1604) Archbishop Emeritus of Bari (-Canosa)', 'hasKeyColumn': True, 'keyColumnIndex': 2, 'headerRowIndex': 0}\n",
      "------------------------------------------------------------------------------------------------------------------------\n"
     ]
    }
   ],
   "source": [
    "# Explore the difference between title and pageTitle\n",
    "counter = 0\n",
    "for table in filtered_tables:\n",
    "    if table['title'] != '':\n",
    "        print(table)\n",
    "        counter += 1\n",
    "        print(\"-\" * 120)\n",
    "    if counter > 5:\n",
    "        break\n",
    "        \n",
    "print(\"!\" * 240)\n",
    "        \n",
    "counter = 0\n",
    "for table in filtered_tables:\n",
    "    if table['pageTitle'] != '':\n",
    "        print(table)\n",
    "        counter += 1\n",
    "        print(\"-\" * 120)\n",
    "    if counter > 5:\n",
    "        break"
   ]
  }
 ],
 "metadata": {
  "kernelspec": {
   "display_name": "Python [conda env:Data2Text]",
   "language": "python",
   "name": "conda-env-Data2Text-py"
  },
  "language_info": {
   "codemirror_mode": {
    "name": "ipython",
    "version": 3
   },
   "file_extension": ".py",
   "mimetype": "text/x-python",
   "name": "python",
   "nbconvert_exporter": "python",
   "pygments_lexer": "ipython3",
   "version": "3.8.12"
  }
 },
 "nbformat": 4,
 "nbformat_minor": 5
}
