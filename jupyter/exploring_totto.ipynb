{
 "cells": [
  {
   "cell_type": "markdown",
   "metadata": {
    "jupyter": {
     "outputs_hidden": true
    }
   },
   "source": [
    "# ToTTo Exploration"
   ]
  },
  {
   "cell_type": "code",
   "execution_count": 6,
   "metadata": {},
   "outputs": [],
   "source": [
    "import json\n",
    "import numpy as np\n",
    "\n",
    "from transformers import T5Tokenizer"
   ]
  },
  {
   "cell_type": "markdown",
   "metadata": {},
   "source": [
    "**Average input and output length**\n",
    "\n",
    "Note that we calculate the source input that includes only the highlighted cells not the full table."
   ]
  },
  {
   "cell_type": "code",
   "execution_count": 2,
   "metadata": {},
   "outputs": [],
   "source": [
    "with open('../storage/datasets/totto/filtered/train.json') as f:\n",
    "    dataset = json.load(f)\n",
    "    \n",
    "sources = [datapoint['subtable_and_metadata'] for datapoint in dataset]\n",
    "targets = [datapoint['final_sentence'] for datapoint in dataset]"
   ]
  },
  {
   "cell_type": "code",
   "execution_count": 3,
   "metadata": {},
   "outputs": [],
   "source": [
    "# We need to tokenize since just splitting will not return the true number of tokens\n",
    "tokenizer = T5Tokenizer.from_pretrained('t5-small')"
   ]
  },
  {
   "cell_type": "code",
   "execution_count": 11,
   "metadata": {},
   "outputs": [
    {
     "name": "stdout",
     "output_type": "stream",
     "text": [
      "Mean source length: 223.59387716358654 | Std: 1506.6134405026614\n",
      "Mean target length: 23.86104347395442 | Std: 9.964455109419083\n"
     ]
    }
   ],
   "source": [
    "source_lens = np.array([len(tokenizer.tokenize(source)) for source in sources])\n",
    "\n",
    "target_lens = np.array([len(tokenizer.tokenize(target)) for target in targets])\n",
    "\n",
    "print(f\"Mean source length: {np.mean(source_lens)} | Std: {np.std(source_lens)}\\nMean target length: {np.mean(target_lens)} | Std: {np.std(target_lens)}\") "
   ]
  }
 ],
 "metadata": {
  "kernelspec": {
   "display_name": "Python [conda env:Data2Text]",
   "language": "python",
   "name": "conda-env-Data2Text-py"
  },
  "language_info": {
   "codemirror_mode": {
    "name": "ipython",
    "version": 3
   },
   "file_extension": ".py",
   "mimetype": "text/x-python",
   "name": "python",
   "nbconvert_exporter": "python",
   "pygments_lexer": "ipython3",
   "version": "3.8.11"
  }
 },
 "nbformat": 4,
 "nbformat_minor": 4
}
